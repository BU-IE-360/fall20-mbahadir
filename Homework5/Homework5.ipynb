{
 "cells": [
  {
   "cell_type": "code",
   "execution_count": 10,
   "metadata": {},
   "outputs": [],
   "source": [
    "library(data.table)\n",
    "library(ggplot2)\n",
    "library(GGally)"
   ]
  },
  {
   "cell_type": "code",
   "execution_count": 11,
   "metadata": {},
   "outputs": [],
   "source": [
    "data_sales=fread(\"sales.txt\")\n",
    "data_sales=as.data.frame(data_sales)"
   ]
  },
  {
   "cell_type": "markdown",
   "metadata": {},
   "source": [
    "# Introduction"
   ]
  },
  {
   "cell_type": "code",
   "execution_count": 12,
   "metadata": {},
   "outputs": [
    {
     "name": "stdout",
     "output_type": "stream",
     "text": [
      "'data.frame':\t30 obs. of  6 variables:\n",
      " $ SALES: int  44 47 60 71 61 60 58 56 66 61 ...\n",
      " $ APT  : int  10 19 27 31 64 81 42 67 48 64 ...\n",
      " $ AGE  : num  22.1 22.4 23.1 24 22.6 21.6 23.8 22 22.3 22.5 ...\n",
      " $ ANX  : num  4.9 3 1.5 0.6 1.8 3.3 3.2 2.1 6 1.8 ...\n",
      " $ EXP  : int  0 1 0 3 2 1 0 0 1 1 ...\n",
      " $ GPA  : num  2.4 2.6 2.8 2.7 2 2.5 2.5 2.3 2.8 3.3 ...\n"
     ]
    }
   ],
   "source": [
    "str(data_sales)"
   ]
  },
  {
   "cell_type": "markdown",
   "metadata": {},
   "source": [
    "There are 6 variables, SALES variable will be assumed as target variable. In addition, all the variables in the given dataset has numeric information. In addition, the input size of the dataset equals to 30. Other than SALES variable are the candidate variables to predict SALES value. In this homework, use of step function will be tried. In addition, relation in the correlation information and feature selection will be inspected. Lastly, one hypothesis test will be made to control whether GPA of a person has an influence on sales value or not. "
   ]
  },
  {
   "cell_type": "markdown",
   "metadata": {},
   "source": [
    "After making a literature review, given variables related to SALES variable can be useful for predicting the SALES value. The one of the main problem for the dataset is size of input, which will also determine the with direction must be used in the step function."
   ]
  },
  {
   "cell_type": "markdown",
   "metadata": {},
   "source": [
    "# Part A"
   ]
  },
  {
   "cell_type": "markdown",
   "metadata": {},
   "source": [
    "## Correlation Calculation"
   ]
  },
  {
   "cell_type": "code",
   "execution_count": 13,
   "metadata": {},
   "outputs": [
    {
     "data": {
      "text/html": [
       "<table>\n",
       "<thead><tr><th></th><th scope=col>SALES</th><th scope=col>APT</th><th scope=col>AGE</th><th scope=col>ANX</th><th scope=col>EXP</th><th scope=col>GPA</th></tr></thead>\n",
       "<tbody>\n",
       "\t<tr><th scope=row>SALES</th><td> 1.0000000</td><td> 0.6839936</td><td> 0.7915973</td><td>-0.3042507</td><td> 0.5446855</td><td> 0.6177303</td></tr>\n",
       "\t<tr><th scope=row>APT</th><td> 0.6839936</td><td> 1.0000000</td><td> 0.2314605</td><td>-0.2219880</td><td> 0.3496392</td><td> 0.3161386</td></tr>\n",
       "\t<tr><th scope=row>AGE</th><td> 0.7915973</td><td> 0.2314605</td><td> 1.0000000</td><td>-0.2895276</td><td> 0.5331329</td><td> 0.7027742</td></tr>\n",
       "\t<tr><th scope=row>ANX</th><td>-0.3042507</td><td>-0.2219880</td><td>-0.2895276</td><td> 1.0000000</td><td>-0.2786892</td><td>-0.2425147</td></tr>\n",
       "\t<tr><th scope=row>EXP</th><td> 0.5446855</td><td> 0.3496392</td><td> 0.5331329</td><td>-0.2786892</td><td> 1.0000000</td><td> 0.3149719</td></tr>\n",
       "\t<tr><th scope=row>GPA</th><td> 0.6177303</td><td> 0.3161386</td><td> 0.7027742</td><td>-0.2425147</td><td> 0.3149719</td><td> 1.0000000</td></tr>\n",
       "</tbody>\n",
       "</table>\n"
      ],
      "text/latex": [
       "\\begin{tabular}{r|llllll}\n",
       "  & SALES & APT & AGE & ANX & EXP & GPA\\\\\n",
       "\\hline\n",
       "\tSALES &  1.0000000 &  0.6839936 &  0.7915973 & -0.3042507 &  0.5446855 &  0.6177303\\\\\n",
       "\tAPT &  0.6839936 &  1.0000000 &  0.2314605 & -0.2219880 &  0.3496392 &  0.3161386\\\\\n",
       "\tAGE &  0.7915973 &  0.2314605 &  1.0000000 & -0.2895276 &  0.5331329 &  0.7027742\\\\\n",
       "\tANX & -0.3042507 & -0.2219880 & -0.2895276 &  1.0000000 & -0.2786892 & -0.2425147\\\\\n",
       "\tEXP &  0.5446855 &  0.3496392 &  0.5331329 & -0.2786892 &  1.0000000 &  0.3149719\\\\\n",
       "\tGPA &  0.6177303 &  0.3161386 &  0.7027742 & -0.2425147 &  0.3149719 &  1.0000000\\\\\n",
       "\\end{tabular}\n"
      ],
      "text/markdown": [
       "\n",
       "| <!--/--> | SALES | APT | AGE | ANX | EXP | GPA |\n",
       "|---|---|---|---|---|---|---|\n",
       "| SALES |  1.0000000 |  0.6839936 |  0.7915973 | -0.3042507 |  0.5446855 |  0.6177303 |\n",
       "| APT |  0.6839936 |  1.0000000 |  0.2314605 | -0.2219880 |  0.3496392 |  0.3161386 |\n",
       "| AGE |  0.7915973 |  0.2314605 |  1.0000000 | -0.2895276 |  0.5331329 |  0.7027742 |\n",
       "| ANX | -0.3042507 | -0.2219880 | -0.2895276 |  1.0000000 | -0.2786892 | -0.2425147 |\n",
       "| EXP |  0.5446855 |  0.3496392 |  0.5331329 | -0.2786892 |  1.0000000 |  0.3149719 |\n",
       "| GPA |  0.6177303 |  0.3161386 |  0.7027742 | -0.2425147 |  0.3149719 |  1.0000000 |\n",
       "\n"
      ],
      "text/plain": [
       "      SALES      APT        AGE        ANX        EXP        GPA       \n",
       "SALES  1.0000000  0.6839936  0.7915973 -0.3042507  0.5446855  0.6177303\n",
       "APT    0.6839936  1.0000000  0.2314605 -0.2219880  0.3496392  0.3161386\n",
       "AGE    0.7915973  0.2314605  1.0000000 -0.2895276  0.5331329  0.7027742\n",
       "ANX   -0.3042507 -0.2219880 -0.2895276  1.0000000 -0.2786892 -0.2425147\n",
       "EXP    0.5446855  0.3496392  0.5331329 -0.2786892  1.0000000  0.3149719\n",
       "GPA    0.6177303  0.3161386  0.7027742 -0.2425147  0.3149719  1.0000000"
      ]
     },
     "metadata": {},
     "output_type": "display_data"
    }
   ],
   "source": [
    "cor(data_sales)"
   ]
  },
  {
   "cell_type": "markdown",
   "metadata": {},
   "source": [
    "By looking the correlation matrix, it can be said that the most correlated variable with Sales is AGE. Much as correlation in between the SALES and 3 other variables have also a correlation. However, it doesn't mean that all the variables required to estimate for Sales variable. For example, GPA also has an important correlation with SALES variable, but it also has a correlation with AGE variable, which means that these 2 variable may cover the same variation or information related to SALES variable. In this manner, use of one of these variable can be sufficient for creating a forecast model."
   ]
  },
  {
   "cell_type": "markdown",
   "metadata": {},
   "source": [
    "## Scatter Plots"
   ]
  },
  {
   "cell_type": "markdown",
   "metadata": {},
   "source": [
    "### General looking for scatter plots"
   ]
  },
  {
   "cell_type": "code",
   "execution_count": 14,
   "metadata": {},
   "outputs": [
    {
     "data": {
      "image/png": "[encoded data removed]",
      "text/plain": [
       "plot without title"
      ]
     },
     "metadata": {},
     "output_type": "display_data"
    }
   ],
   "source": [
    "ggpairs(data_sales)"
   ]
  },
  {
   "cell_type": "markdown",
   "metadata": {},
   "source": [
    "By looking the scatter plots, EXP variable seems unrelated with SALES variable. In addition, only ANX has a negative correlation with SALES variable. Other than these 2 variable, APT, AGE, and GPA has a similar scatter plots with SALES variable. Moreover, all these 3 variable has a significant correlation with SALES variable as it can be seen in both scatter plot and correlation value. Lastly, APT is the most uncorrelated variable amongs these 3 variable, and scatter plot of GPA and AGE shed the light on the why there is a high correlation value in between 2 variable. By considering this fact, using one of them for forecasting SALES variable can be logical to prevent from multicollinearity."
   ]
  },
  {
   "cell_type": "markdown",
   "metadata": {},
   "source": [
    "### Detailed look for correlation of the variables"
   ]
  },
  {
   "cell_type": "markdown",
   "metadata": {},
   "source": [
    "To look scatter plots more detaily, all the scatter plots for each pair of the variable is added to homework. However, all the comments are solid made in the previous section for this section."
   ]
  },
  {
   "cell_type": "code",
   "execution_count": 15,
   "metadata": {},
   "outputs": [],
   "source": [
    "options(repr.plot.width=4, repr.plot.height=4)"
   ]
  },
  {
   "cell_type": "code",
   "execution_count": 16,
   "metadata": {
    "scrolled": false
   },
   "outputs": [
    {
     "data": {
      "image/png": "[encoded data removed]",
      "text/plain": [
       "Plot with title \"Scatter plot of SALES & APT\""
      ]
     },
     "metadata": {},
     "output_type": "display_data"
    },
    {
     "data": {
      "image/png": "[encoded data removed]",
      "text/plain": [
       "Plot with title \"Scatter plot of SALES & AGE\""
      ]
     },
     "metadata": {},
     "output_type": "display_data"
    },
    {
     "data": {
      "image/png": "[encoded data removed]",
      "text/plain": [
       "Plot with title \"Scatter plot of SALES & ANX\""
      ]
     },
     "metadata": {},
     "output_type": "display_data"
    },
    {
     "data": {
      "image/png": "[encoded data removed]",
      "text/plain": [
       "Plot with title \"Scatter plot of SALES & EXP\""
      ]
     },
     "metadata": {},
     "output_type": "display_data"
    },
    {
     "data": {
      "image/png": "[encoded data removed]",
      "text/plain": [
       "Plot with title \"Scatter plot of SALES & GPA\""
      ]
     },
     "metadata": {},
     "output_type": "display_data"
    },
    {
     "data": {
      "image/png": "[encoded data removed]",
      "text/plain": [
       "Plot with title \"Scatter plot of APT & AGE\""
      ]
     },
     "metadata": {},
     "output_type": "display_data"
    },
    {
     "data": {
      "image/png": "[encoded data removed]",
      "text/plain": [
       "Plot with title \"Scatter plot of APT & ANX\""
      ]
     },
     "metadata": {},
     "output_type": "display_data"
    },
    {
     "data": {
      "image/png": "[encoded data removed]",
      "text/plain": [
       "Plot with title \"Scatter plot of APT & EXP\""
      ]
     },
     "metadata": {},
     "output_type": "display_data"
    },
    {
     "data": {
      "image/png": "[encoded data removed]",
      "text/plain": [
       "Plot with title \"Scatter plot of APT & GPA\""
      ]
     },
     "metadata": {},
     "output_type": "display_data"
    },
    {
     "data": {
      "image/png": "[encoded data removed]",
      "text/plain": [
       "Plot with title \"Scatter plot of AGE & ANX\""
      ]
     },
     "metadata": {},
     "output_type": "display_data"
    },
    {
     "data": {
      "image/png": "[encoded data removed]",
      "text/plain": [
       "Plot with title \"Scatter plot of AGE & EXP\""
      ]
     },
     "metadata": {},
     "output_type": "display_data"
    },
    {
     "data": {
      "image/png": "[encoded data removed]",
      "text/plain": [
       "Plot with title \"Scatter plot of AGE & GPA\""
      ]
     },
     "metadata": {},
     "output_type": "display_data"
    },
    {
     "data": {
      "image/png": "[encoded data removed]",
      "text/plain": [
       "Plot with title \"Scatter plot of ANX & EXP\""
      ]
     },
     "metadata": {},
     "output_type": "display_data"
    },
    {
     "data": {
      "image/png": "[encoded data removed]",
      "text/plain": [
       "Plot with title \"Scatter plot of ANX & GPA\""
      ]
     },
     "metadata": {},
     "output_type": "display_data"
    },
    {
     "data": {
      "image/png": "[encoded data removed]",
      "text/plain": [
       "Plot with title \"Scatter plot of EXP & GPA\""
      ]
     },
     "metadata": {},
     "output_type": "display_data"
    }
   ],
   "source": [
    "for(i in 1:5){\n",
    "    for(j in (i+1):6){\n",
    "      plot(data_sales[,i],data_sales[,j],xlab=paste0(names(data_sales)[i],\" Values\"),ylab=paste0(names(data_sales)[j],\" Values\"),\n",
    "          main=paste0(\"Scatter plot of \",names(data_sales)[i],\" & \", names(data_sales)[j]))  \n",
    "        \n",
    "    }\n",
    "}"
   ]
  },
  {
   "cell_type": "markdown",
   "metadata": {},
   "source": [
    "# Part B"
   ]
  },
  {
   "cell_type": "markdown",
   "metadata": {},
   "source": [
    "In this part, stepwise regression will be applied by considering the given steps in the description of the Homework. There are 4 different steps for stepwise regression. How many steps algorithm can be understood by looking the number in the paranthesis of the step information."
   ]
  },
  {
   "cell_type": "markdown",
   "metadata": {},
   "source": [
    "## Step 1"
   ]
  },
  {
   "cell_type": "markdown",
   "metadata": {},
   "source": [
    "Highest absolute correlation information can be found by looking the absolute values of the cor() function."
   ]
  },
  {
   "cell_type": "code",
   "execution_count": 17,
   "metadata": {},
   "outputs": [
    {
     "data": {
      "text/html": [
       "<dl class=dl-horizontal>\n",
       "\t<dt>SALES</dt>\n",
       "\t\t<dd>1</dd>\n",
       "\t<dt>APT</dt>\n",
       "\t\t<dd>0.683993595343888</dd>\n",
       "\t<dt>AGE</dt>\n",
       "\t\t<dd>0.791597332257685</dd>\n",
       "\t<dt>ANX</dt>\n",
       "\t\t<dd>0.304250721624953</dd>\n",
       "\t<dt>EXP</dt>\n",
       "\t\t<dd>0.544685549152157</dd>\n",
       "\t<dt>GPA</dt>\n",
       "\t\t<dd>0.617730309032065</dd>\n",
       "</dl>\n"
      ],
      "text/latex": [
       "\\begin{description*}\n",
       "\\item[SALES] 1\n",
       "\\item[APT] 0.683993595343888\n",
       "\\item[AGE] 0.791597332257685\n",
       "\\item[ANX] 0.304250721624953\n",
       "\\item[EXP] 0.544685549152157\n",
       "\\item[GPA] 0.617730309032065\n",
       "\\end{description*}\n"
      ],
      "text/markdown": [
       "SALES\n",
       ":   1APT\n",
       ":   0.683993595343888AGE\n",
       ":   0.791597332257685ANX\n",
       ":   0.304250721624953EXP\n",
       ":   0.544685549152157GPA\n",
       ":   0.617730309032065\n",
       "\n"
      ],
      "text/plain": [
       "    SALES       APT       AGE       ANX       EXP       GPA \n",
       "1.0000000 0.6839936 0.7915973 0.3042507 0.5446855 0.6177303 "
      ]
     },
     "metadata": {},
     "output_type": "display_data"
    }
   ],
   "source": [
    "abs(cor(data_sales)[,1])"
   ]
  },
  {
   "cell_type": "markdown",
   "metadata": {},
   "source": [
    "The most correlated variable with target variable Sales is Age variable. As mentioned in the description of the Homework 5, Age is selected as the first step for stepwise regression because of having highest absolute correlation with AGE. "
   ]
  },
  {
   "cell_type": "code",
   "execution_count": 18,
   "metadata": {},
   "outputs": [
    {
     "data": {
      "text/plain": [
       "\n",
       "Call:\n",
       "lm(formula = SALES ~ AGE, data = data_sales)\n",
       "\n",
       "Residuals:\n",
       "    Min      1Q  Median      3Q     Max \n",
       "-9.2810 -6.6102  0.6617  4.7184 11.4048 \n",
       "\n",
       "Coefficients:\n",
       "            Estimate Std. Error t value Pr(>|t|)    \n",
       "(Intercept)  -98.335     22.428  -4.385 0.000149 ***\n",
       "AGE            6.858      1.000   6.855  1.9e-07 ***\n",
       "---\n",
       "Signif. codes:  0 '***' 0.001 '**' 0.01 '*' 0.05 '.' 0.1 ' ' 1\n",
       "\n",
       "Residual standard error: 6.904 on 28 degrees of freedom\n",
       "Multiple R-squared:  0.6266,\tAdjusted R-squared:  0.6133 \n",
       "F-statistic: 46.99 on 1 and 28 DF,  p-value: 1.896e-07\n"
      ]
     },
     "metadata": {},
     "output_type": "display_data"
    }
   ],
   "source": [
    "first_regression=lm(SALES~ AGE, data=data_sales)\n",
    "summary(first_regression)"
   ]
  },
  {
   "cell_type": "markdown",
   "metadata": {},
   "source": [
    "The summary of linear regression with AGE variable can be found above."
   ]
  },
  {
   "cell_type": "markdown",
   "metadata": {},
   "source": [
    "## Step 2 (1'th Try)"
   ]
  },
  {
   "cell_type": "markdown",
   "metadata": {},
   "source": [
    "There are 4 possible varaibles to add to current linear regression model. First of all, summary of the new linear regression will be given after that anova function will be used to compare current model, and new model. The new model with biggest F-statistic, in other words smallest p-value, will be selected as new linear regression, so this variable added to current model. "
   ]
  },
  {
   "cell_type": "markdown",
   "metadata": {},
   "source": [
    "In addition, general decision for which variable must be selected as new variable will be discussed at the end of the step 2."
   ]
  },
  {
   "cell_type": "markdown",
   "metadata": {},
   "source": [
    "### APT Variable"
   ]
  },
  {
   "cell_type": "code",
   "execution_count": 19,
   "metadata": {},
   "outputs": [
    {
     "data": {
      "text/plain": [
       "\n",
       "Call:\n",
       "lm(formula = SALES ~ AGE + APT, data = data_sales)\n",
       "\n",
       "Residuals:\n",
       "   Min     1Q Median     3Q    Max \n",
       "-5.271 -2.275 -1.065  1.415 10.893 \n",
       "\n",
       "Coefficients:\n",
       "            Estimate Std. Error t value Pr(>|t|)    \n",
       "(Intercept) -83.8357    12.4356  -6.742 3.08e-07 ***\n",
       "AGE           5.7969     0.5643  10.273 7.94e-11 ***\n",
       "APT           0.2015     0.0248   8.124 1.00e-08 ***\n",
       "---\n",
       "Signif. codes:  0 '***' 0.001 '**' 0.01 '*' 0.05 '.' 0.1 ' ' 1\n",
       "\n",
       "Residual standard error: 3.788 on 27 degrees of freedom\n",
       "Multiple R-squared:  0.8916,\tAdjusted R-squared:  0.8836 \n",
       "F-statistic:   111 on 2 and 27 DF,  p-value: 9.404e-14\n"
      ]
     },
     "metadata": {},
     "output_type": "display_data"
    }
   ],
   "source": [
    "second_APT_regression=lm(SALES~ AGE+APT , data=data_sales)\n",
    "summary(second_APT_regression)"
   ]
  },
  {
   "cell_type": "code",
   "execution_count": 20,
   "metadata": {},
   "outputs": [
    {
     "data": {
      "text/html": [
       "<table>\n",
       "<thead><tr><th scope=col>Res.Df</th><th scope=col>RSS</th><th scope=col>Df</th><th scope=col>Sum of Sq</th><th scope=col>F</th><th scope=col>Pr(&gt;F)</th></tr></thead>\n",
       "<tbody>\n",
       "\t<tr><td>28          </td><td>1334.4997   </td><td>NA          </td><td>      NA    </td><td>      NA    </td><td>          NA</td></tr>\n",
       "\t<tr><td>27          </td><td> 387.4672   </td><td> 1          </td><td>947.0325    </td><td>65.99236    </td><td>1.000342e-08</td></tr>\n",
       "</tbody>\n",
       "</table>\n"
      ],
      "text/latex": [
       "\\begin{tabular}{r|llllll}\n",
       " Res.Df & RSS & Df & Sum of Sq & F & Pr(>F)\\\\\n",
       "\\hline\n",
       "\t 28           & 1334.4997    & NA           &       NA     &       NA     &           NA\\\\\n",
       "\t 27           &  387.4672    &  1           & 947.0325     & 65.99236     & 1.000342e-08\\\\\n",
       "\\end{tabular}\n"
      ],
      "text/markdown": [
       "\n",
       "| Res.Df | RSS | Df | Sum of Sq | F | Pr(>F) |\n",
       "|---|---|---|---|---|---|\n",
       "| 28           | 1334.4997    | NA           |       NA     |       NA     |           NA |\n",
       "| 27           |  387.4672    |  1           | 947.0325     | 65.99236     | 1.000342e-08 |\n",
       "\n"
      ],
      "text/plain": [
       "  Res.Df RSS       Df Sum of Sq F        Pr(>F)      \n",
       "1 28     1334.4997 NA       NA        NA           NA\n",
       "2 27      387.4672  1 947.0325  65.99236 1.000342e-08"
      ]
     },
     "metadata": {},
     "output_type": "display_data"
    }
   ],
   "source": [
    "anova(first_regression,second_APT_regression)"
   ]
  },
  {
   "cell_type": "markdown",
   "metadata": {},
   "source": [
    "To make it clear, anova table of currentmodel and newmodel's F and p values can be written as follows:\n",
    "* F Value: 65.99236\n",
    "* Pr(>F): 1.000342e-08"
   ]
  },
  {
   "cell_type": "markdown",
   "metadata": {},
   "source": [
    "### ANX Variable"
   ]
  },
  {
   "cell_type": "code",
   "execution_count": 21,
   "metadata": {},
   "outputs": [
    {
     "data": {
      "text/plain": [
       "\n",
       "Call:\n",
       "lm(formula = SALES ~ AGE + ANX, data = data_sales)\n",
       "\n",
       "Residuals:\n",
       "    Min      1Q  Median      3Q     Max \n",
       "-9.3196 -6.7898  0.6643  4.8837 13.3007 \n",
       "\n",
       "Coefficients:\n",
       "            Estimate Std. Error t value Pr(>|t|)    \n",
       "(Intercept) -92.1563    24.4437  -3.770  0.00081 ***\n",
       "AGE           6.6524     1.0556   6.302 9.58e-07 ***\n",
       "ANX          -0.5821     0.8656  -0.672  0.50703    \n",
       "---\n",
       "Signif. codes:  0 '***' 0.001 '**' 0.01 '*' 0.05 '.' 0.1 ' ' 1\n",
       "\n",
       "Residual standard error: 6.972 on 27 degrees of freedom\n",
       "Multiple R-squared:  0.6328,\tAdjusted R-squared:  0.6056 \n",
       "F-statistic: 23.26 on 2 and 27 DF,  p-value: 1.338e-06\n"
      ]
     },
     "metadata": {},
     "output_type": "display_data"
    }
   ],
   "source": [
    "second_ANX_regression=lm(SALES~ AGE+ANX , data=data_sales)\n",
    "summary(second_ANX_regression)"
   ]
  },
  {
   "cell_type": "code",
   "execution_count": 22,
   "metadata": {},
   "outputs": [
    {
     "data": {
      "text/html": [
       "<table>\n",
       "<thead><tr><th scope=col>Res.Df</th><th scope=col>RSS</th><th scope=col>Df</th><th scope=col>Sum of Sq</th><th scope=col>F</th><th scope=col>Pr(&gt;F)</th></tr></thead>\n",
       "<tbody>\n",
       "\t<tr><td>28       </td><td>1334.50  </td><td>NA       </td><td>      NA </td><td>       NA</td><td>       NA</td></tr>\n",
       "\t<tr><td>27       </td><td>1312.52  </td><td> 1       </td><td>21.98017 </td><td>0.4521568</td><td>0.5070267</td></tr>\n",
       "</tbody>\n",
       "</table>\n"
      ],
      "text/latex": [
       "\\begin{tabular}{r|llllll}\n",
       " Res.Df & RSS & Df & Sum of Sq & F & Pr(>F)\\\\\n",
       "\\hline\n",
       "\t 28        & 1334.50   & NA        &       NA  &        NA &        NA\\\\\n",
       "\t 27        & 1312.52   &  1        & 21.98017  & 0.4521568 & 0.5070267\\\\\n",
       "\\end{tabular}\n"
      ],
      "text/markdown": [
       "\n",
       "| Res.Df | RSS | Df | Sum of Sq | F | Pr(>F) |\n",
       "|---|---|---|---|---|---|\n",
       "| 28        | 1334.50   | NA        |       NA  |        NA |        NA |\n",
       "| 27        | 1312.52   |  1        | 21.98017  | 0.4521568 | 0.5070267 |\n",
       "\n"
      ],
      "text/plain": [
       "  Res.Df RSS     Df Sum of Sq F         Pr(>F)   \n",
       "1 28     1334.50 NA       NA         NA        NA\n",
       "2 27     1312.52  1 21.98017  0.4521568 0.5070267"
      ]
     },
     "metadata": {},
     "output_type": "display_data"
    }
   ],
   "source": [
    "anova(first_regression,second_ANX_regression)"
   ]
  },
  {
   "cell_type": "markdown",
   "metadata": {},
   "source": [
    "To make it clear, anova table of currentmodel and newmodel's F and p values can be written as follows:\n",
    "* F Value: 0.4521568\n",
    "* Pr(>F): 0.5070267"
   ]
  },
  {
   "cell_type": "markdown",
   "metadata": {},
   "source": [
    "### EXP Variable"
   ]
  },
  {
   "cell_type": "code",
   "execution_count": 23,
   "metadata": {},
   "outputs": [
    {
     "data": {
      "text/plain": [
       "\n",
       "Call:\n",
       "lm(formula = SALES ~ AGE + EXP, data = data_sales)\n",
       "\n",
       "Residuals:\n",
       "   Min     1Q Median     3Q    Max \n",
       "-8.947 -6.421  1.078  5.356 11.660 \n",
       "\n",
       "Coefficients:\n",
       "            Estimate Std. Error t value Pr(>|t|)    \n",
       "(Intercept)  -82.544     25.438  -3.245  0.00313 ** \n",
       "AGE            6.066      1.170   5.186 1.85e-05 ***\n",
       "EXP            1.604      1.264   1.269  0.21523    \n",
       "---\n",
       "Signif. codes:  0 '***' 0.001 '**' 0.01 '*' 0.05 '.' 0.1 ' ' 1\n",
       "\n",
       "Residual standard error: 6.83 on 27 degrees of freedom\n",
       "Multiple R-squared:  0.6476,\tAdjusted R-squared:  0.6215 \n",
       "F-statistic: 24.81 on 2 and 27 DF,  p-value: 7.66e-07\n"
      ]
     },
     "metadata": {},
     "output_type": "display_data"
    }
   ],
   "source": [
    "second_EXP_regression=lm(SALES~ AGE+EXP , data=data_sales)\n",
    "summary(second_EXP_regression)"
   ]
  },
  {
   "cell_type": "code",
   "execution_count": 24,
   "metadata": {},
   "outputs": [
    {
     "data": {
      "text/html": [
       "<table>\n",
       "<thead><tr><th scope=col>Res.Df</th><th scope=col>RSS</th><th scope=col>Df</th><th scope=col>Sum of Sq</th><th scope=col>F</th><th scope=col>Pr(&gt;F)</th></tr></thead>\n",
       "<tbody>\n",
       "\t<tr><td>28       </td><td>1334.500 </td><td>NA       </td><td>      NA </td><td>      NA </td><td>       NA</td></tr>\n",
       "\t<tr><td>27       </td><td>1259.372 </td><td> 1       </td><td>75.12774 </td><td>1.610683 </td><td>0.2152275</td></tr>\n",
       "</tbody>\n",
       "</table>\n"
      ],
      "text/latex": [
       "\\begin{tabular}{r|llllll}\n",
       " Res.Df & RSS & Df & Sum of Sq & F & Pr(>F)\\\\\n",
       "\\hline\n",
       "\t 28        & 1334.500  & NA        &       NA  &       NA  &        NA\\\\\n",
       "\t 27        & 1259.372  &  1        & 75.12774  & 1.610683  & 0.2152275\\\\\n",
       "\\end{tabular}\n"
      ],
      "text/markdown": [
       "\n",
       "| Res.Df | RSS | Df | Sum of Sq | F | Pr(>F) |\n",
       "|---|---|---|---|---|---|\n",
       "| 28        | 1334.500  | NA        |       NA  |       NA  |        NA |\n",
       "| 27        | 1259.372  |  1        | 75.12774  | 1.610683  | 0.2152275 |\n",
       "\n"
      ],
      "text/plain": [
       "  Res.Df RSS      Df Sum of Sq F        Pr(>F)   \n",
       "1 28     1334.500 NA       NA        NA        NA\n",
       "2 27     1259.372  1 75.12774  1.610683 0.2152275"
      ]
     },
     "metadata": {},
     "output_type": "display_data"
    }
   ],
   "source": [
    "anova(first_regression, second_EXP_regression)"
   ]
  },
  {
   "cell_type": "markdown",
   "metadata": {},
   "source": [
    "To make it clear, anova table of currentmodel and newmodel's F and p values can be written as follows:\n",
    "* F Value: 1.610683\n",
    "* Pr(>F): 0.2152275"
   ]
  },
  {
   "cell_type": "markdown",
   "metadata": {},
   "source": [
    "### GPA Variable"
   ]
  },
  {
   "cell_type": "code",
   "execution_count": 25,
   "metadata": {},
   "outputs": [
    {
     "data": {
      "text/plain": [
       "\n",
       "Call:\n",
       "lm(formula = SALES ~ AGE + GPA, data = data_sales)\n",
       "\n",
       "Residuals:\n",
       "    Min      1Q  Median      3Q     Max \n",
       "-9.4447 -5.9853  0.8064  5.3731 11.1424 \n",
       "\n",
       "Coefficients:\n",
       "            Estimate Std. Error t value Pr(>|t|)    \n",
       "(Intercept)  -87.846     26.670  -3.294 0.002764 ** \n",
       "AGE            6.119      1.418   4.316 0.000191 ***\n",
       "GPA            2.232      3.010   0.742 0.464753    \n",
       "---\n",
       "Signif. codes:  0 '***' 0.001 '**' 0.01 '*' 0.05 '.' 0.1 ' ' 1\n",
       "\n",
       "Residual standard error: 6.96 on 27 degrees of freedom\n",
       "Multiple R-squared:  0.6341,\tAdjusted R-squared:  0.607 \n",
       "F-statistic: 23.39 on 2 and 27 DF,  p-value: 1.276e-06\n"
      ]
     },
     "metadata": {},
     "output_type": "display_data"
    }
   ],
   "source": [
    "second_GPA_regression=lm(SALES~ AGE+GPA , data=data_sales)\n",
    "summary(second_GPA_regression)"
   ]
  },
  {
   "cell_type": "code",
   "execution_count": 26,
   "metadata": {},
   "outputs": [
    {
     "data": {
      "text/html": [
       "<table>\n",
       "<thead><tr><th scope=col>Res.Df</th><th scope=col>RSS</th><th scope=col>Df</th><th scope=col>Sum of Sq</th><th scope=col>F</th><th scope=col>Pr(&gt;F)</th></tr></thead>\n",
       "<tbody>\n",
       "\t<tr><td>28       </td><td>1334.500 </td><td>NA       </td><td>      NA </td><td>       NA</td><td>       NA</td></tr>\n",
       "\t<tr><td>27       </td><td>1307.862 </td><td> 1       </td><td>26.63764 </td><td>0.5499176</td><td>0.4647533</td></tr>\n",
       "</tbody>\n",
       "</table>\n"
      ],
      "text/latex": [
       "\\begin{tabular}{r|llllll}\n",
       " Res.Df & RSS & Df & Sum of Sq & F & Pr(>F)\\\\\n",
       "\\hline\n",
       "\t 28        & 1334.500  & NA        &       NA  &        NA &        NA\\\\\n",
       "\t 27        & 1307.862  &  1        & 26.63764  & 0.5499176 & 0.4647533\\\\\n",
       "\\end{tabular}\n"
      ],
      "text/markdown": [
       "\n",
       "| Res.Df | RSS | Df | Sum of Sq | F | Pr(>F) |\n",
       "|---|---|---|---|---|---|\n",
       "| 28        | 1334.500  | NA        |       NA  |        NA |        NA |\n",
       "| 27        | 1307.862  |  1        | 26.63764  | 0.5499176 | 0.4647533 |\n",
       "\n"
      ],
      "text/plain": [
       "  Res.Df RSS      Df Sum of Sq F         Pr(>F)   \n",
       "1 28     1334.500 NA       NA         NA        NA\n",
       "2 27     1307.862  1 26.63764  0.5499176 0.4647533"
      ]
     },
     "metadata": {},
     "output_type": "display_data"
    }
   ],
   "source": [
    "anova(first_regression, second_GPA_regression)"
   ]
  },
  {
   "cell_type": "markdown",
   "metadata": {},
   "source": [
    "To make it clear, anova table of currentmodel and newmodel's F and p values can be written as follows:\n",
    "* F Value: 0.5499176\n",
    "* Pr(>F): 0.4647533"
   ]
  },
  {
   "cell_type": "markdown",
   "metadata": {},
   "source": [
    "### General Comparison new models"
   ]
  },
  {
   "cell_type": "markdown",
   "metadata": {},
   "source": [
    "F value for new model with APT variable equals to 65, which makes it the new variable for new model. Other models' F values don't exceed the 1.7. In addition, p value for these F values are occured with the value of the value of the F parameter. Namely, by looking the p-value, APT will be selected again because the smallest p-value for regressions achieved by APT variable.\n",
    "\n",
    "In addition, by looking the goodness-of-fit test, the best model was achieved by adding the APT variable, so this model can be approved by also looking in this manner."
   ]
  },
  {
   "cell_type": "markdown",
   "metadata": {},
   "source": [
    "## Step 3  (1'th Try)"
   ]
  },
  {
   "cell_type": "markdown",
   "metadata": {},
   "source": [
    "For new linear regression model, there is 2 possible variable to remove. However, one of them added into the model as a new variable, and this variable cannot be removed because of the given instruction. So, AGE variable will be removed to control is there any difference for models by using the anova function."
   ]
  },
  {
   "cell_type": "markdown",
   "metadata": {},
   "source": [
    "### Current Model"
   ]
  },
  {
   "cell_type": "code",
   "execution_count": 27,
   "metadata": {},
   "outputs": [
    {
     "data": {
      "text/plain": [
       "\n",
       "Call:\n",
       "lm(formula = SALES ~ AGE + APT, data = data_sales)\n",
       "\n",
       "Residuals:\n",
       "   Min     1Q Median     3Q    Max \n",
       "-5.271 -2.275 -1.065  1.415 10.893 \n",
       "\n",
       "Coefficients:\n",
       "            Estimate Std. Error t value Pr(>|t|)    \n",
       "(Intercept) -83.8357    12.4356  -6.742 3.08e-07 ***\n",
       "AGE           5.7969     0.5643  10.273 7.94e-11 ***\n",
       "APT           0.2015     0.0248   8.124 1.00e-08 ***\n",
       "---\n",
       "Signif. codes:  0 '***' 0.001 '**' 0.01 '*' 0.05 '.' 0.1 ' ' 1\n",
       "\n",
       "Residual standard error: 3.788 on 27 degrees of freedom\n",
       "Multiple R-squared:  0.8916,\tAdjusted R-squared:  0.8836 \n",
       "F-statistic:   111 on 2 and 27 DF,  p-value: 9.404e-14\n"
      ]
     },
     "metadata": {},
     "output_type": "display_data"
    }
   ],
   "source": [
    "summary(second_APT_regression)"
   ]
  },
  {
   "cell_type": "markdown",
   "metadata": {},
   "source": [
    "### Reduced Model"
   ]
  },
  {
   "cell_type": "code",
   "execution_count": 28,
   "metadata": {},
   "outputs": [
    {
     "data": {
      "text/plain": [
       "\n",
       "Call:\n",
       "lm(formula = SALES ~ APT, data = data_sales)\n",
       "\n",
       "Residuals:\n",
       "     Min       1Q   Median       3Q      Max \n",
       "-14.2525  -4.5745  -0.6807   5.2997  19.7145 \n",
       "\n",
       "Coefficients:\n",
       "            Estimate Std. Error t value Pr(>|t|)    \n",
       "(Intercept)  43.2105     2.8410  15.210 4.61e-15 ***\n",
       "APT           0.2605     0.0525   4.961 3.08e-05 ***\n",
       "---\n",
       "Signif. codes:  0 '***' 0.001 '**' 0.01 '*' 0.05 '.' 0.1 ' ' 1\n",
       "\n",
       "Residual standard error: 8.242 on 28 degrees of freedom\n",
       "Multiple R-squared:  0.4678,\tAdjusted R-squared:  0.4488 \n",
       "F-statistic: 24.62 on 1 and 28 DF,  p-value: 3.081e-05\n"
      ]
     },
     "metadata": {},
     "output_type": "display_data"
    }
   ],
   "source": [
    "second_APT_regression_reduced=lm(SALES~ APT , data=data_sales)\n",
    "summary(second_APT_regression_reduced)"
   ]
  },
  {
   "cell_type": "code",
   "execution_count": 29,
   "metadata": {},
   "outputs": [
    {
     "data": {
      "text/html": [
       "<table>\n",
       "<thead><tr><th scope=col>Res.Df</th><th scope=col>RSS</th><th scope=col>Df</th><th scope=col>Sum of Sq</th><th scope=col>F</th><th scope=col>Pr(&gt;F)</th></tr></thead>\n",
       "<tbody>\n",
       "\t<tr><td>27          </td><td> 387.4672   </td><td>NA          </td><td>       NA   </td><td>      NA    </td><td>          NA</td></tr>\n",
       "\t<tr><td>28          </td><td>1902.0027   </td><td>-1          </td><td>-1514.535   </td><td>105.5378    </td><td>7.939069e-11</td></tr>\n",
       "</tbody>\n",
       "</table>\n"
      ],
      "text/latex": [
       "\\begin{tabular}{r|llllll}\n",
       " Res.Df & RSS & Df & Sum of Sq & F & Pr(>F)\\\\\n",
       "\\hline\n",
       "\t 27           &  387.4672    & NA           &        NA    &       NA     &           NA\\\\\n",
       "\t 28           & 1902.0027    & -1           & -1514.535    & 105.5378     & 7.939069e-11\\\\\n",
       "\\end{tabular}\n"
      ],
      "text/markdown": [
       "\n",
       "| Res.Df | RSS | Df | Sum of Sq | F | Pr(>F) |\n",
       "|---|---|---|---|---|---|\n",
       "| 27           |  387.4672    | NA           |        NA    |       NA     |           NA |\n",
       "| 28           | 1902.0027    | -1           | -1514.535    | 105.5378     | 7.939069e-11 |\n",
       "\n"
      ],
      "text/plain": [
       "  Res.Df RSS       Df Sum of Sq F        Pr(>F)      \n",
       "1 27      387.4672 NA        NA       NA           NA\n",
       "2 28     1902.0027 -1 -1514.535 105.5378 7.939069e-11"
      ]
     },
     "metadata": {},
     "output_type": "display_data"
    }
   ],
   "source": [
    "anova(second_APT_regression,second_APT_regression_reduced)"
   ]
  },
  {
   "cell_type": "markdown",
   "metadata": {},
   "source": [
    "To make it clear, anova table of currentmodel and newmodel's F and p values can be written as follows:\n",
    "* F Value: 105.5378\n",
    "* Pr(>F): 7.939069e-11"
   ]
  },
  {
   "cell_type": "markdown",
   "metadata": {},
   "source": [
    "F value is a big number, so F value is not critical. This situation can be also observed by looking the p value for F value. Namely, no variable must be removed from the obtained linear regression in the second step. This new linear regression is assigned to second_regression.\n",
    "\n",
    "Moreover, by looking the goodness of fit test, it can be said that there is a decrease in terms of R-squared value, so no variable must be removed."
   ]
  },
  {
   "cell_type": "code",
   "execution_count": 30,
   "metadata": {},
   "outputs": [],
   "source": [
    "second_regression=lm(SALES~ AGE+APT , data=data_sales)"
   ]
  },
  {
   "cell_type": "markdown",
   "metadata": {},
   "source": [
    "second_regression represents the obtained model after the first 2'nd and 3'th steps in first try."
   ]
  },
  {
   "cell_type": "markdown",
   "metadata": {},
   "source": [
    "## Step 2 (2'nd Try)"
   ]
  },
  {
   "cell_type": "markdown",
   "metadata": {},
   "source": [
    "There are 3 possible varaibles to add to current linear regression model. First of all, summary of the new linear regression will be given after that anova function will be used to compare current model, and new model. The new model with biggest F-statistic, in other words smallest p-value, will be selected as new linear regression, so this variable added to current model."
   ]
  },
  {
   "cell_type": "markdown",
   "metadata": {},
   "source": [
    "In addition, general decision for which variable must be selected as new variable will be discussed at the end of the step 2."
   ]
  },
  {
   "cell_type": "markdown",
   "metadata": {},
   "source": [
    "### ANX Variable"
   ]
  },
  {
   "cell_type": "code",
   "execution_count": 31,
   "metadata": {},
   "outputs": [
    {
     "data": {
      "text/plain": [
       "\n",
       "Call:\n",
       "lm(formula = SALES ~ AGE + APT + ANX, data = data_sales)\n",
       "\n",
       "Residuals:\n",
       "   Min     1Q Median     3Q    Max \n",
       "-5.192 -2.265 -1.015  1.482 10.712 \n",
       "\n",
       "Coefficients:\n",
       "             Estimate Std. Error t value Pr(>|t|)    \n",
       "(Intercept) -84.38811   13.56649  -6.220 1.40e-06 ***\n",
       "AGE           5.81385    0.59390   9.789 3.30e-10 ***\n",
       "APT           0.20199    0.02563   7.881 2.34e-08 ***\n",
       "ANX           0.05533    0.48593   0.114     0.91    \n",
       "---\n",
       "Signif. codes:  0 '***' 0.001 '**' 0.01 '*' 0.05 '.' 0.1 ' ' 1\n",
       "\n",
       "Residual standard error: 3.859 on 26 degrees of freedom\n",
       "Multiple R-squared:  0.8916,\tAdjusted R-squared:  0.8791 \n",
       "F-statistic: 71.32 on 3 and 26 DF,  p-value: 1.126e-12\n"
      ]
     },
     "metadata": {},
     "output_type": "display_data"
    }
   ],
   "source": [
    "third_ANX_regression=lm(SALES~ AGE+APT+ANX, data=data_sales)\n",
    "summary(third_ANX_regression)"
   ]
  },
  {
   "cell_type": "code",
   "execution_count": 32,
   "metadata": {},
   "outputs": [
    {
     "data": {
      "text/html": [
       "<table>\n",
       "<thead><tr><th scope=col>Res.Df</th><th scope=col>RSS</th><th scope=col>Df</th><th scope=col>Sum of Sq</th><th scope=col>F</th><th scope=col>Pr(&gt;F)</th></tr></thead>\n",
       "<tbody>\n",
       "\t<tr><td>27       </td><td>387.4672 </td><td>NA       </td><td>       NA</td><td>       NA</td><td>       NA</td></tr>\n",
       "\t<tr><td>26       </td><td>387.2741 </td><td> 1       </td><td>0.1931247</td><td>0.0129656</td><td>0.9102183</td></tr>\n",
       "</tbody>\n",
       "</table>\n"
      ],
      "text/latex": [
       "\\begin{tabular}{r|llllll}\n",
       " Res.Df & RSS & Df & Sum of Sq & F & Pr(>F)\\\\\n",
       "\\hline\n",
       "\t 27        & 387.4672  & NA        &        NA &        NA &        NA\\\\\n",
       "\t 26        & 387.2741  &  1        & 0.1931247 & 0.0129656 & 0.9102183\\\\\n",
       "\\end{tabular}\n"
      ],
      "text/markdown": [
       "\n",
       "| Res.Df | RSS | Df | Sum of Sq | F | Pr(>F) |\n",
       "|---|---|---|---|---|---|\n",
       "| 27        | 387.4672  | NA        |        NA |        NA |        NA |\n",
       "| 26        | 387.2741  |  1        | 0.1931247 | 0.0129656 | 0.9102183 |\n",
       "\n"
      ],
      "text/plain": [
       "  Res.Df RSS      Df Sum of Sq F         Pr(>F)   \n",
       "1 27     387.4672 NA        NA        NA        NA\n",
       "2 26     387.2741  1 0.1931247 0.0129656 0.9102183"
      ]
     },
     "metadata": {},
     "output_type": "display_data"
    }
   ],
   "source": [
    "anova(second_regression, third_ANX_regression)"
   ]
  },
  {
   "cell_type": "markdown",
   "metadata": {},
   "source": [
    "To make it clear, anova table of currentmodel and newmodel's F and p values can be written as follows:\n",
    "* F Value: 0.0129656\n",
    "* Pr(>F): 0.9102183"
   ]
  },
  {
   "cell_type": "markdown",
   "metadata": {},
   "source": [
    "### EXP Variable"
   ]
  },
  {
   "cell_type": "code",
   "execution_count": 33,
   "metadata": {},
   "outputs": [
    {
     "data": {
      "text/plain": [
       "\n",
       "Call:\n",
       "lm(formula = SALES ~ AGE + APT + EXP, data = data_sales)\n",
       "\n",
       "Residuals:\n",
       "   Min     1Q Median     3Q    Max \n",
       "-5.281 -2.252 -1.048  1.415 10.901 \n",
       "\n",
       "Coefficients:\n",
       "             Estimate Std. Error t value Pr(>|t|)    \n",
       "(Intercept) -83.45383   14.37838  -5.804 4.09e-06 ***\n",
       "AGE           5.77841    0.66224   8.725 3.34e-09 ***\n",
       "APT           0.20109    0.02629   7.650 4.05e-08 ***\n",
       "EXP           0.04175    0.74293   0.056    0.956    \n",
       "---\n",
       "Signif. codes:  0 '***' 0.001 '**' 0.01 '*' 0.05 '.' 0.1 ' ' 1\n",
       "\n",
       "Residual standard error: 3.86 on 26 degrees of freedom\n",
       "Multiple R-squared:  0.8916,\tAdjusted R-squared:  0.8791 \n",
       "F-statistic: 71.29 on 3 and 26 DF,  p-value: 1.132e-12\n"
      ]
     },
     "metadata": {},
     "output_type": "display_data"
    }
   ],
   "source": [
    "third_EXP_regression=lm(SALES~ AGE+APT+EXP, data=data_sales)\n",
    "summary(third_EXP_regression)"
   ]
  },
  {
   "cell_type": "code",
   "execution_count": 34,
   "metadata": {},
   "outputs": [
    {
     "data": {
      "text/html": [
       "<table>\n",
       "<thead><tr><th scope=col>Res.Df</th><th scope=col>RSS</th><th scope=col>Df</th><th scope=col>Sum of Sq</th><th scope=col>F</th><th scope=col>Pr(&gt;F)</th></tr></thead>\n",
       "<tbody>\n",
       "\t<tr><td>27         </td><td>387.4672   </td><td>NA         </td><td>        NA </td><td>         NA</td><td>       NA  </td></tr>\n",
       "\t<tr><td>26         </td><td>387.4202   </td><td> 1         </td><td>0.04705736 </td><td>0.003158048</td><td>0.9556149  </td></tr>\n",
       "</tbody>\n",
       "</table>\n"
      ],
      "text/latex": [
       "\\begin{tabular}{r|llllll}\n",
       " Res.Df & RSS & Df & Sum of Sq & F & Pr(>F)\\\\\n",
       "\\hline\n",
       "\t 27          & 387.4672    & NA          &         NA  &          NA &        NA  \\\\\n",
       "\t 26          & 387.4202    &  1          & 0.04705736  & 0.003158048 & 0.9556149  \\\\\n",
       "\\end{tabular}\n"
      ],
      "text/markdown": [
       "\n",
       "| Res.Df | RSS | Df | Sum of Sq | F | Pr(>F) |\n",
       "|---|---|---|---|---|---|\n",
       "| 27          | 387.4672    | NA          |         NA  |          NA |        NA   |\n",
       "| 26          | 387.4202    |  1          | 0.04705736  | 0.003158048 | 0.9556149   |\n",
       "\n"
      ],
      "text/plain": [
       "  Res.Df RSS      Df Sum of Sq  F           Pr(>F)   \n",
       "1 27     387.4672 NA         NA          NA        NA\n",
       "2 26     387.4202  1 0.04705736 0.003158048 0.9556149"
      ]
     },
     "metadata": {},
     "output_type": "display_data"
    }
   ],
   "source": [
    "anova(second_regression, third_EXP_regression)"
   ]
  },
  {
   "cell_type": "markdown",
   "metadata": {},
   "source": [
    "To make it clear, anova table of currentmodel and newmodel's F and p values can be written as follows:\n",
    "* F Value: 0.003158048\n",
    "* Pr(>F): 0.9556149"
   ]
  },
  {
   "cell_type": "markdown",
   "metadata": {},
   "source": [
    "### GPA Variable"
   ]
  },
  {
   "cell_type": "code",
   "execution_count": 35,
   "metadata": {},
   "outputs": [
    {
     "data": {
      "text/plain": [
       "\n",
       "Call:\n",
       "lm(formula = SALES ~ AGE + APT + GPA, data = data_sales)\n",
       "\n",
       "Residuals:\n",
       "    Min      1Q  Median      3Q     Max \n",
       "-5.1466 -2.2892 -0.8423  1.5086 10.9757 \n",
       "\n",
       "Coefficients:\n",
       "             Estimate Std. Error t value Pr(>|t|)    \n",
       "(Intercept) -87.20756   14.73768  -5.917 3.05e-06 ***\n",
       "AGE           6.03388    0.78345   7.702 3.58e-08 ***\n",
       "APT           0.20404    0.02582   7.901 2.23e-08 ***\n",
       "GPA          -0.75632    1.70548  -0.443    0.661    \n",
       "---\n",
       "Signif. codes:  0 '***' 0.001 '**' 0.01 '*' 0.05 '.' 0.1 ' ' 1\n",
       "\n",
       "Residual standard error: 3.846 on 26 degrees of freedom\n",
       "Multiple R-squared:  0.8924,\tAdjusted R-squared:   0.88 \n",
       "F-statistic: 71.88 on 3 and 26 DF,  p-value: 1.028e-12\n"
      ]
     },
     "metadata": {},
     "output_type": "display_data"
    }
   ],
   "source": [
    "third_GPA_regression=lm(SALES~ AGE+APT+GPA, data=data_sales)\n",
    "summary(third_GPA_regression)"
   ]
  },
  {
   "cell_type": "code",
   "execution_count": 36,
   "metadata": {},
   "outputs": [
    {
     "data": {
      "text/html": [
       "<table>\n",
       "<thead><tr><th scope=col>Res.Df</th><th scope=col>RSS</th><th scope=col>Df</th><th scope=col>Sum of Sq</th><th scope=col>F</th><th scope=col>Pr(&gt;F)</th></tr></thead>\n",
       "<tbody>\n",
       "\t<tr><td>27       </td><td>387.4672 </td><td>NA       </td><td>      NA </td><td>       NA</td><td>       NA</td></tr>\n",
       "\t<tr><td>26       </td><td>384.5585 </td><td> 1       </td><td>2.908754 </td><td>0.1966609</td><td>0.6610981</td></tr>\n",
       "</tbody>\n",
       "</table>\n"
      ],
      "text/latex": [
       "\\begin{tabular}{r|llllll}\n",
       " Res.Df & RSS & Df & Sum of Sq & F & Pr(>F)\\\\\n",
       "\\hline\n",
       "\t 27        & 387.4672  & NA        &       NA  &        NA &        NA\\\\\n",
       "\t 26        & 384.5585  &  1        & 2.908754  & 0.1966609 & 0.6610981\\\\\n",
       "\\end{tabular}\n"
      ],
      "text/markdown": [
       "\n",
       "| Res.Df | RSS | Df | Sum of Sq | F | Pr(>F) |\n",
       "|---|---|---|---|---|---|\n",
       "| 27        | 387.4672  | NA        |       NA  |        NA |        NA |\n",
       "| 26        | 384.5585  |  1        | 2.908754  | 0.1966609 | 0.6610981 |\n",
       "\n"
      ],
      "text/plain": [
       "  Res.Df RSS      Df Sum of Sq F         Pr(>F)   \n",
       "1 27     387.4672 NA       NA         NA        NA\n",
       "2 26     384.5585  1 2.908754  0.1966609 0.6610981"
      ]
     },
     "metadata": {},
     "output_type": "display_data"
    }
   ],
   "source": [
    "anova(second_regression, third_GPA_regression)"
   ]
  },
  {
   "cell_type": "markdown",
   "metadata": {},
   "source": [
    "To make it clear, anova table of currentmodel and newmodel's F and p values can be written as follows:\n",
    "* F Value: 0.1966609\n",
    "* Pr(>F): 0.6610981"
   ]
  },
  {
   "cell_type": "markdown",
   "metadata": {},
   "source": [
    "### General Comparison"
   ]
  },
  {
   "cell_type": "markdown",
   "metadata": {},
   "source": [
    "The biggest F value among 3 models equals to  0.1966609, which means that GPA can be added to new model. However, this variable addition **is non-significant.** So, no new variable will be added to model because instruction given in the step 4 says that **all possible additions are nonsignificant.**  This situation can be also understood by looking the p-value, in other word Pr(>F), for F value. \n",
    "\n",
    "Moreover, by looking the summary of the new linear regressions, it can be said that all added new variables are **non-significant** in the models. Both Signif. codes and p-values demonstrate this situation.\n",
    "\n",
    "Lastly, by looking the adjusted R-square value, the initial model is better than new variable added models so use of the initial model is logical."
   ]
  },
  {
   "cell_type": "markdown",
   "metadata": {},
   "source": [
    "To sum up, no new variable added to models, a check will be made to control is there any variable to remove it from current models with observing big F-value in the anova table."
   ]
  },
  {
   "cell_type": "markdown",
   "metadata": {},
   "source": [
    "## Step 3 for all the variables in the current model"
   ]
  },
  {
   "cell_type": "markdown",
   "metadata": {},
   "source": [
    "In this step, all the variables will be controlled. This step is not mentioned in the homework description, but the aiming of trying this step is to control intercept is actual make a difference in the model or not."
   ]
  },
  {
   "cell_type": "markdown",
   "metadata": {},
   "source": [
    "As mentioned for all the steps, general decision for which variable must be selected as new variable will be discussed at the end of the step 3."
   ]
  },
  {
   "cell_type": "code",
   "execution_count": 37,
   "metadata": {},
   "outputs": [
    {
     "data": {
      "text/plain": [
       "\n",
       "Call:\n",
       "lm(formula = SALES ~ AGE + APT, data = data_sales)\n",
       "\n",
       "Residuals:\n",
       "   Min     1Q Median     3Q    Max \n",
       "-5.271 -2.275 -1.065  1.415 10.893 \n",
       "\n",
       "Coefficients:\n",
       "            Estimate Std. Error t value Pr(>|t|)    \n",
       "(Intercept) -83.8357    12.4356  -6.742 3.08e-07 ***\n",
       "AGE           5.7969     0.5643  10.273 7.94e-11 ***\n",
       "APT           0.2015     0.0248   8.124 1.00e-08 ***\n",
       "---\n",
       "Signif. codes:  0 '***' 0.001 '**' 0.01 '*' 0.05 '.' 0.1 ' ' 1\n",
       "\n",
       "Residual standard error: 3.788 on 27 degrees of freedom\n",
       "Multiple R-squared:  0.8916,\tAdjusted R-squared:  0.8836 \n",
       "F-statistic:   111 on 2 and 27 DF,  p-value: 9.404e-14\n"
      ]
     },
     "metadata": {},
     "output_type": "display_data"
    }
   ],
   "source": [
    "summary(second_regression)"
   ]
  },
  {
   "cell_type": "markdown",
   "metadata": {},
   "source": [
    "There 3 possible variables to remove from the regressors. These are Intercept, AGE, APT, so new model will be created to control new possible regressors."
   ]
  },
  {
   "cell_type": "markdown",
   "metadata": {},
   "source": [
    "### Reduced Model by romoving the Intercept"
   ]
  },
  {
   "cell_type": "code",
   "execution_count": 38,
   "metadata": {},
   "outputs": [
    {
     "data": {
      "text/plain": [
       "\n",
       "Call:\n",
       "lm(formula = SALES ~ -1 + AGE + APT, data = data_sales)\n",
       "\n",
       "Residuals:\n",
       "    Min      1Q  Median      3Q     Max \n",
       "-11.178  -3.249  -1.431   2.401  15.678 \n",
       "\n",
       "Coefficients:\n",
       "    Estimate Std. Error t value Pr(>|t|)    \n",
       "AGE  2.01379    0.09531  21.129   <2e-16 ***\n",
       "APT  0.22550    0.03949   5.711    4e-06 ***\n",
       "---\n",
       "Signif. codes:  0 '***' 0.001 '**' 0.01 '*' 0.05 '.' 0.1 ' ' 1\n",
       "\n",
       "Residual standard error: 6.094 on 28 degrees of freedom\n",
       "Multiple R-squared:  0.989,\tAdjusted R-squared:  0.9883 \n",
       "F-statistic:  1264 on 2 and 28 DF,  p-value: < 2.2e-16\n"
      ]
     },
     "metadata": {},
     "output_type": "display_data"
    }
   ],
   "source": [
    "second_regression_int_removed=lm(SALES ~ -1 + AGE + APT, data = data_sales)\n",
    "summary(second_regression_int_removed)"
   ]
  },
  {
   "cell_type": "code",
   "execution_count": 39,
   "metadata": {},
   "outputs": [
    {
     "data": {
      "text/html": [
       "<table>\n",
       "<thead><tr><th scope=col>Res.Df</th><th scope=col>RSS</th><th scope=col>Df</th><th scope=col>Sum of Sq</th><th scope=col>F</th><th scope=col>Pr(&gt;F)</th></tr></thead>\n",
       "<tbody>\n",
       "\t<tr><td>27          </td><td> 387.4672   </td><td>NA          </td><td>       NA   </td><td>      NA    </td><td>          NA</td></tr>\n",
       "\t<tr><td>28          </td><td>1039.6936   </td><td>-1          </td><td>-652.2264   </td><td>45.44929    </td><td>3.075615e-07</td></tr>\n",
       "</tbody>\n",
       "</table>\n"
      ],
      "text/latex": [
       "\\begin{tabular}{r|llllll}\n",
       " Res.Df & RSS & Df & Sum of Sq & F & Pr(>F)\\\\\n",
       "\\hline\n",
       "\t 27           &  387.4672    & NA           &        NA    &       NA     &           NA\\\\\n",
       "\t 28           & 1039.6936    & -1           & -652.2264    & 45.44929     & 3.075615e-07\\\\\n",
       "\\end{tabular}\n"
      ],
      "text/markdown": [
       "\n",
       "| Res.Df | RSS | Df | Sum of Sq | F | Pr(>F) |\n",
       "|---|---|---|---|---|---|\n",
       "| 27           |  387.4672    | NA           |        NA    |       NA     |           NA |\n",
       "| 28           | 1039.6936    | -1           | -652.2264    | 45.44929     | 3.075615e-07 |\n",
       "\n"
      ],
      "text/plain": [
       "  Res.Df RSS       Df Sum of Sq F        Pr(>F)      \n",
       "1 27      387.4672 NA        NA       NA           NA\n",
       "2 28     1039.6936 -1 -652.2264 45.44929 3.075615e-07"
      ]
     },
     "metadata": {},
     "output_type": "display_data"
    }
   ],
   "source": [
    "anova(second_regression,second_regression_int_removed)"
   ]
  },
  {
   "cell_type": "markdown",
   "metadata": {},
   "source": [
    "### Reduced Model by romoving the AGE variable"
   ]
  },
  {
   "cell_type": "code",
   "execution_count": 40,
   "metadata": {},
   "outputs": [
    {
     "data": {
      "text/plain": [
       "\n",
       "Call:\n",
       "lm(formula = SALES ~ APT, data = data_sales)\n",
       "\n",
       "Residuals:\n",
       "     Min       1Q   Median       3Q      Max \n",
       "-14.2525  -4.5745  -0.6807   5.2997  19.7145 \n",
       "\n",
       "Coefficients:\n",
       "            Estimate Std. Error t value Pr(>|t|)    \n",
       "(Intercept)  43.2105     2.8410  15.210 4.61e-15 ***\n",
       "APT           0.2605     0.0525   4.961 3.08e-05 ***\n",
       "---\n",
       "Signif. codes:  0 '***' 0.001 '**' 0.01 '*' 0.05 '.' 0.1 ' ' 1\n",
       "\n",
       "Residual standard error: 8.242 on 28 degrees of freedom\n",
       "Multiple R-squared:  0.4678,\tAdjusted R-squared:  0.4488 \n",
       "F-statistic: 24.62 on 1 and 28 DF,  p-value: 3.081e-05\n"
      ]
     },
     "metadata": {},
     "output_type": "display_data"
    }
   ],
   "source": [
    "second_regression_AGE_removed=lm(SALES ~ APT, data = data_sales)\n",
    "summary(second_regression_AGE_removed)"
   ]
  },
  {
   "cell_type": "code",
   "execution_count": 41,
   "metadata": {},
   "outputs": [
    {
     "data": {
      "text/html": [
       "<table>\n",
       "<thead><tr><th scope=col>Res.Df</th><th scope=col>RSS</th><th scope=col>Df</th><th scope=col>Sum of Sq</th><th scope=col>F</th><th scope=col>Pr(&gt;F)</th></tr></thead>\n",
       "<tbody>\n",
       "\t<tr><td>27          </td><td> 387.4672   </td><td>NA          </td><td>       NA   </td><td>      NA    </td><td>          NA</td></tr>\n",
       "\t<tr><td>28          </td><td>1902.0027   </td><td>-1          </td><td>-1514.535   </td><td>105.5378    </td><td>7.939069e-11</td></tr>\n",
       "</tbody>\n",
       "</table>\n"
      ],
      "text/latex": [
       "\\begin{tabular}{r|llllll}\n",
       " Res.Df & RSS & Df & Sum of Sq & F & Pr(>F)\\\\\n",
       "\\hline\n",
       "\t 27           &  387.4672    & NA           &        NA    &       NA     &           NA\\\\\n",
       "\t 28           & 1902.0027    & -1           & -1514.535    & 105.5378     & 7.939069e-11\\\\\n",
       "\\end{tabular}\n"
      ],
      "text/markdown": [
       "\n",
       "| Res.Df | RSS | Df | Sum of Sq | F | Pr(>F) |\n",
       "|---|---|---|---|---|---|\n",
       "| 27           |  387.4672    | NA           |        NA    |       NA     |           NA |\n",
       "| 28           | 1902.0027    | -1           | -1514.535    | 105.5378     | 7.939069e-11 |\n",
       "\n"
      ],
      "text/plain": [
       "  Res.Df RSS       Df Sum of Sq F        Pr(>F)      \n",
       "1 27      387.4672 NA        NA       NA           NA\n",
       "2 28     1902.0027 -1 -1514.535 105.5378 7.939069e-11"
      ]
     },
     "metadata": {},
     "output_type": "display_data"
    }
   ],
   "source": [
    "anova(second_regression,second_regression_AGE_removed)"
   ]
  },
  {
   "cell_type": "markdown",
   "metadata": {},
   "source": [
    "### Reduced Model by romoving the APT Variable"
   ]
  },
  {
   "cell_type": "code",
   "execution_count": 42,
   "metadata": {},
   "outputs": [
    {
     "data": {
      "text/plain": [
       "\n",
       "Call:\n",
       "lm(formula = SALES ~ AGE, data = data_sales)\n",
       "\n",
       "Residuals:\n",
       "    Min      1Q  Median      3Q     Max \n",
       "-9.2810 -6.6102  0.6617  4.7184 11.4048 \n",
       "\n",
       "Coefficients:\n",
       "            Estimate Std. Error t value Pr(>|t|)    \n",
       "(Intercept)  -98.335     22.428  -4.385 0.000149 ***\n",
       "AGE            6.858      1.000   6.855  1.9e-07 ***\n",
       "---\n",
       "Signif. codes:  0 '***' 0.001 '**' 0.01 '*' 0.05 '.' 0.1 ' ' 1\n",
       "\n",
       "Residual standard error: 6.904 on 28 degrees of freedom\n",
       "Multiple R-squared:  0.6266,\tAdjusted R-squared:  0.6133 \n",
       "F-statistic: 46.99 on 1 and 28 DF,  p-value: 1.896e-07\n"
      ]
     },
     "metadata": {},
     "output_type": "display_data"
    }
   ],
   "source": [
    "second_regression_APT_removed=lm(SALES ~ AGE, data = data_sales)\n",
    "summary(second_regression_APT_removed)"
   ]
  },
  {
   "cell_type": "code",
   "execution_count": 43,
   "metadata": {},
   "outputs": [
    {
     "data": {
      "text/html": [
       "<table>\n",
       "<thead><tr><th scope=col>Res.Df</th><th scope=col>RSS</th><th scope=col>Df</th><th scope=col>Sum of Sq</th><th scope=col>F</th><th scope=col>Pr(&gt;F)</th></tr></thead>\n",
       "<tbody>\n",
       "\t<tr><td>27          </td><td> 387.4672   </td><td>NA          </td><td>       NA   </td><td>      NA    </td><td>          NA</td></tr>\n",
       "\t<tr><td>28          </td><td>1334.4997   </td><td>-1          </td><td>-947.0325   </td><td>65.99236    </td><td>1.000342e-08</td></tr>\n",
       "</tbody>\n",
       "</table>\n"
      ],
      "text/latex": [
       "\\begin{tabular}{r|llllll}\n",
       " Res.Df & RSS & Df & Sum of Sq & F & Pr(>F)\\\\\n",
       "\\hline\n",
       "\t 27           &  387.4672    & NA           &        NA    &       NA     &           NA\\\\\n",
       "\t 28           & 1334.4997    & -1           & -947.0325    & 65.99236     & 1.000342e-08\\\\\n",
       "\\end{tabular}\n"
      ],
      "text/markdown": [
       "\n",
       "| Res.Df | RSS | Df | Sum of Sq | F | Pr(>F) |\n",
       "|---|---|---|---|---|---|\n",
       "| 27           |  387.4672    | NA           |        NA    |       NA     |           NA |\n",
       "| 28           | 1334.4997    | -1           | -947.0325    | 65.99236     | 1.000342e-08 |\n",
       "\n"
      ],
      "text/plain": [
       "  Res.Df RSS       Df Sum of Sq F        Pr(>F)      \n",
       "1 27      387.4672 NA        NA       NA           NA\n",
       "2 28     1334.4997 -1 -947.0325 65.99236 1.000342e-08"
      ]
     },
     "metadata": {},
     "output_type": "display_data"
    }
   ],
   "source": [
    "anova(second_regression,second_regression_APT_removed)"
   ]
  },
  {
   "cell_type": "markdown",
   "metadata": {},
   "source": [
    "All the F values are bigger, so F-value is not critical. Namely, the final model is second_regression is optimal regression and variables for the SALES dataset."
   ]
  },
  {
   "cell_type": "markdown",
   "metadata": {},
   "source": [
    "# Part C"
   ]
  },
  {
   "cell_type": "markdown",
   "metadata": {},
   "source": [
    "Appropriate step function is selected by looking the [this website](https://quantifyinghealth.com/stepwise-selection/). After looking this website, backward direction selected for using in the step() function because number of variable is limited for the Sales dataset."
   ]
  },
  {
   "cell_type": "code",
   "execution_count": 44,
   "metadata": {},
   "outputs": [
    {
     "data": {
      "text/plain": [
       "\n",
       "Call:\n",
       "lm(formula = SALES ~ ., data = data_sales)\n",
       "\n",
       "Residuals:\n",
       "    Min      1Q  Median      3Q     Max \n",
       "-5.1311 -2.3233 -0.7582  1.4826 10.8094 \n",
       "\n",
       "Coefficients:\n",
       "              Estimate Std. Error t value Pr(>|t|)    \n",
       "(Intercept) -87.753041  17.967690  -4.884 5.58e-05 ***\n",
       "APT           0.204530   0.028419   7.197 1.95e-07 ***\n",
       "AGE           6.051236   0.931879   6.494 1.03e-06 ***\n",
       "ANX           0.050373   0.507613   0.099    0.922    \n",
       "EXP          -0.005443   0.787334  -0.007    0.995    \n",
       "GPA          -0.754692   1.802770  -0.419    0.679    \n",
       "---\n",
       "Signif. codes:  0 '***' 0.001 '**' 0.01 '*' 0.05 '.' 0.1 ' ' 1\n",
       "\n",
       "Residual standard error: 4.002 on 24 degrees of freedom\n",
       "Multiple R-squared:  0.8925,\tAdjusted R-squared:   0.87 \n",
       "F-statistic: 39.83 on 5 and 24 DF,  p-value: 7.424e-11\n"
      ]
     },
     "metadata": {},
     "output_type": "display_data"
    }
   ],
   "source": [
    "regression_for_c=lm(SALES~., data=data_sales)\n",
    "summary(regression_for_c)"
   ]
  },
  {
   "cell_type": "markdown",
   "metadata": {},
   "source": [
    "## Stepped function with backward direction"
   ]
  },
  {
   "cell_type": "markdown",
   "metadata": {},
   "source": [
    "As mentioned above, direction is selected by considering the given website."
   ]
  },
  {
   "cell_type": "code",
   "execution_count": 45,
   "metadata": {},
   "outputs": [
    {
     "name": "stdout",
     "output_type": "stream",
     "text": [
      "Start:  AIC=88.51\n",
      "SALES ~ APT + AGE + ANX + EXP + GPA\n",
      "\n",
      "       Df Sum of Sq     RSS     AIC\n",
      "- EXP   1      0.00  384.40  86.514\n",
      "- ANX   1      0.16  384.55  86.527\n",
      "- GPA   1      2.81  387.20  86.732\n",
      "<none>               384.40  88.514\n",
      "- AGE   1    675.36 1059.76 116.938\n",
      "- APT   1    829.61 1214.00 121.014\n",
      "\n",
      "Step:  AIC=86.51\n",
      "SALES ~ APT + AGE + ANX + GPA\n",
      "\n",
      "       Df Sum of Sq     RSS     AIC\n",
      "- ANX   1      0.16  384.56  84.527\n",
      "- GPA   1      2.88  387.27  84.738\n",
      "<none>               384.40  86.514\n",
      "- AGE   1    855.26 1239.66 119.642\n",
      "- APT   1    904.11 1288.51 120.801\n",
      "\n",
      "Step:  AIC=84.53\n",
      "SALES ~ APT + AGE + GPA\n",
      "\n",
      "       Df Sum of Sq     RSS     AIC\n",
      "- GPA   1      2.91  387.47  82.753\n",
      "<none>               384.56  84.527\n",
      "- AGE   1    877.32 1261.88 118.175\n",
      "- APT   1    923.30 1307.86 119.249\n",
      "\n",
      "Step:  AIC=82.75\n",
      "SALES ~ APT + AGE\n",
      "\n",
      "       Df Sum of Sq     RSS     AIC\n",
      "<none>               387.47  82.753\n",
      "- APT   1    947.03 1334.50 117.853\n",
      "- AGE   1   1514.54 1902.00 128.484\n"
     ]
    },
    {
     "data": {
      "text/plain": [
       "\n",
       "Call:\n",
       "lm(formula = SALES ~ APT + AGE, data = data_sales)\n",
       "\n",
       "Residuals:\n",
       "   Min     1Q Median     3Q    Max \n",
       "-5.271 -2.275 -1.065  1.415 10.893 \n",
       "\n",
       "Coefficients:\n",
       "            Estimate Std. Error t value Pr(>|t|)    \n",
       "(Intercept) -83.8357    12.4356  -6.742 3.08e-07 ***\n",
       "APT           0.2015     0.0248   8.124 1.00e-08 ***\n",
       "AGE           5.7969     0.5643  10.273 7.94e-11 ***\n",
       "---\n",
       "Signif. codes:  0 '***' 0.001 '**' 0.01 '*' 0.05 '.' 0.1 ' ' 1\n",
       "\n",
       "Residual standard error: 3.788 on 27 degrees of freedom\n",
       "Multiple R-squared:  0.8916,\tAdjusted R-squared:  0.8836 \n",
       "F-statistic:   111 on 2 and 27 DF,  p-value: 9.404e-14\n"
      ]
     },
     "metadata": {},
     "output_type": "display_data"
    }
   ],
   "source": [
    "stepped_regression=step(regression_for_c, direction=\"backward\")\n",
    "summary(stepped_regression)"
   ]
  },
  {
   "cell_type": "markdown",
   "metadata": {},
   "source": [
    "### General look of the obtained stepped regression"
   ]
  },
  {
   "cell_type": "markdown",
   "metadata": {},
   "source": [
    "The final model after the step function equals to obtained model by Part B. Comparison of the models will be made by using summary function."
   ]
  },
  {
   "cell_type": "markdown",
   "metadata": {},
   "source": [
    "### Final Model for Part B"
   ]
  },
  {
   "cell_type": "code",
   "execution_count": 46,
   "metadata": {},
   "outputs": [
    {
     "data": {
      "text/plain": [
       "\n",
       "Call:\n",
       "lm(formula = SALES ~ AGE + APT, data = data_sales)\n",
       "\n",
       "Residuals:\n",
       "   Min     1Q Median     3Q    Max \n",
       "-5.271 -2.275 -1.065  1.415 10.893 \n",
       "\n",
       "Coefficients:\n",
       "            Estimate Std. Error t value Pr(>|t|)    \n",
       "(Intercept) -83.8357    12.4356  -6.742 3.08e-07 ***\n",
       "AGE           5.7969     0.5643  10.273 7.94e-11 ***\n",
       "APT           0.2015     0.0248   8.124 1.00e-08 ***\n",
       "---\n",
       "Signif. codes:  0 '***' 0.001 '**' 0.01 '*' 0.05 '.' 0.1 ' ' 1\n",
       "\n",
       "Residual standard error: 3.788 on 27 degrees of freedom\n",
       "Multiple R-squared:  0.8916,\tAdjusted R-squared:  0.8836 \n",
       "F-statistic:   111 on 2 and 27 DF,  p-value: 9.404e-14\n"
      ]
     },
     "metadata": {},
     "output_type": "display_data"
    }
   ],
   "source": [
    "summary(second_regression)"
   ]
  },
  {
   "cell_type": "markdown",
   "metadata": {},
   "source": [
    "### Final Model for Part C"
   ]
  },
  {
   "cell_type": "code",
   "execution_count": 47,
   "metadata": {},
   "outputs": [
    {
     "data": {
      "text/plain": [
       "\n",
       "Call:\n",
       "lm(formula = SALES ~ APT + AGE, data = data_sales)\n",
       "\n",
       "Residuals:\n",
       "   Min     1Q Median     3Q    Max \n",
       "-5.271 -2.275 -1.065  1.415 10.893 \n",
       "\n",
       "Coefficients:\n",
       "            Estimate Std. Error t value Pr(>|t|)    \n",
       "(Intercept) -83.8357    12.4356  -6.742 3.08e-07 ***\n",
       "APT           0.2015     0.0248   8.124 1.00e-08 ***\n",
       "AGE           5.7969     0.5643  10.273 7.94e-11 ***\n",
       "---\n",
       "Signif. codes:  0 '***' 0.001 '**' 0.01 '*' 0.05 '.' 0.1 ' ' 1\n",
       "\n",
       "Residual standard error: 3.788 on 27 degrees of freedom\n",
       "Multiple R-squared:  0.8916,\tAdjusted R-squared:  0.8836 \n",
       "F-statistic:   111 on 2 and 27 DF,  p-value: 9.404e-14\n"
      ]
     },
     "metadata": {},
     "output_type": "display_data"
    }
   ],
   "source": [
    "summary(stepped_regression)"
   ]
  },
  {
   "cell_type": "markdown",
   "metadata": {},
   "source": [
    "### Comparison of the Models"
   ]
  },
  {
   "cell_type": "markdown",
   "metadata": {},
   "source": [
    "All the variables in both models are the same. In addition, coefficients,  Std. Error values, t values, Pr(>|t|) values of the variables and Residuals informtion, R-Squared values, F-statistics are the same. Therefore, it can be said that 2 models are the identical for all perspective."
   ]
  },
  {
   "cell_type": "markdown",
   "metadata": {},
   "source": [
    "# Part D"
   ]
  },
  {
   "cell_type": "markdown",
   "metadata": {},
   "source": [
    "Estimation for the coeffients will be displayed with 2 ways. In the first version, all the informations will be displayed by writting. In the second way, regressor's coefficient extension will be used for demonstrating coefficients."
   ]
  },
  {
   "cell_type": "code",
   "execution_count": 48,
   "metadata": {},
   "outputs": [],
   "source": [
    "final_model=second_regression"
   ]
  },
  {
   "cell_type": "code",
   "execution_count": 49,
   "metadata": {},
   "outputs": [
    {
     "data": {
      "text/plain": [
       "\n",
       "Call:\n",
       "lm(formula = SALES ~ AGE + APT, data = data_sales)\n",
       "\n",
       "Residuals:\n",
       "   Min     1Q Median     3Q    Max \n",
       "-5.271 -2.275 -1.065  1.415 10.893 \n",
       "\n",
       "Coefficients:\n",
       "            Estimate Std. Error t value Pr(>|t|)    \n",
       "(Intercept) -83.8357    12.4356  -6.742 3.08e-07 ***\n",
       "AGE           5.7969     0.5643  10.273 7.94e-11 ***\n",
       "APT           0.2015     0.0248   8.124 1.00e-08 ***\n",
       "---\n",
       "Signif. codes:  0 '***' 0.001 '**' 0.01 '*' 0.05 '.' 0.1 ' ' 1\n",
       "\n",
       "Residual standard error: 3.788 on 27 degrees of freedom\n",
       "Multiple R-squared:  0.8916,\tAdjusted R-squared:  0.8836 \n",
       "F-statistic:   111 on 2 and 27 DF,  p-value: 9.404e-14\n"
      ]
     },
     "metadata": {},
     "output_type": "display_data"
    }
   ],
   "source": [
    "summary(final_model)"
   ]
  },
  {
   "cell_type": "markdown",
   "metadata": {},
   "source": [
    "final_model represents the determined model after the match between the Part B and Part C."
   ]
  },
  {
   "cell_type": "markdown",
   "metadata": {},
   "source": [
    "### Estimation for Coefficient"
   ]
  },
  {
   "cell_type": "markdown",
   "metadata": {},
   "source": [
    "There are 2 ways for representation of the values and coefficients. These are written and coefficients methods."
   ]
  },
  {
   "cell_type": "markdown",
   "metadata": {},
   "source": [
    "#### First Way"
   ]
  },
  {
   "cell_type": "markdown",
   "metadata": {},
   "source": [
    "* Intercept= -83.8357\n",
    "* Coefficient of AGE= 5.7969\n",
    "* Coefficient of APT= 0.2015\n",
    "* General Formula = -83.8357 + 5.7969* AGE + 0.2015*APT"
   ]
  },
  {
   "cell_type": "markdown",
   "metadata": {},
   "source": [
    "#### Second Way"
   ]
  },
  {
   "cell_type": "code",
   "execution_count": 50,
   "metadata": {},
   "outputs": [
    {
     "data": {
      "text/html": [
       "<dl class=dl-horizontal>\n",
       "\t<dt>(Intercept)</dt>\n",
       "\t\t<dd>-83.8356616121417</dd>\n",
       "\t<dt>AGE</dt>\n",
       "\t\t<dd>5.79687698141024</dd>\n",
       "\t<dt>APT</dt>\n",
       "\t\t<dd>0.201501056897076</dd>\n",
       "</dl>\n"
      ],
      "text/latex": [
       "\\begin{description*}\n",
       "\\item[(Intercept)] -83.8356616121417\n",
       "\\item[AGE] 5.79687698141024\n",
       "\\item[APT] 0.201501056897076\n",
       "\\end{description*}\n"
      ],
      "text/markdown": [
       "(Intercept)\n",
       ":   -83.8356616121417AGE\n",
       ":   5.79687698141024APT\n",
       ":   0.201501056897076\n",
       "\n"
      ],
      "text/plain": [
       "(Intercept)         AGE         APT \n",
       "-83.8356616   5.7968770   0.2015011 "
      ]
     },
     "metadata": {},
     "output_type": "display_data"
    }
   ],
   "source": [
    "final_model$coefficients"
   ]
  },
  {
   "cell_type": "markdown",
   "metadata": {},
   "source": [
    "### Residual Variance"
   ]
  },
  {
   "cell_type": "markdown",
   "metadata": {},
   "source": [
    "There are 2 ways for representation of the residual variance. These are anova function and formala for residual variance calculation."
   ]
  },
  {
   "cell_type": "markdown",
   "metadata": {},
   "source": [
    "#### Anova table for residual variance"
   ]
  },
  {
   "cell_type": "code",
   "execution_count": 51,
   "metadata": {},
   "outputs": [
    {
     "data": {
      "text/html": [
       "<table>\n",
       "<thead><tr><th></th><th scope=col>Df</th><th scope=col>Sum Sq</th><th scope=col>Mean Sq</th><th scope=col>F value</th><th scope=col>Pr(&gt;F)</th></tr></thead>\n",
       "<tbody>\n",
       "\t<tr><th scope=row>AGE</th><td> 1          </td><td>2239.6670   </td><td>2239.66696  </td><td>156.06741   </td><td>9.828627e-13</td></tr>\n",
       "\t<tr><th scope=row>APT</th><td> 1          </td><td> 947.0325   </td><td> 947.03248  </td><td> 65.99236   </td><td>1.000342e-08</td></tr>\n",
       "\t<tr><th scope=row>Residuals</th><td>27          </td><td> 387.4672   </td><td>  14.35064  </td><td>       NA   </td><td>          NA</td></tr>\n",
       "</tbody>\n",
       "</table>\n"
      ],
      "text/latex": [
       "\\begin{tabular}{r|lllll}\n",
       "  & Df & Sum Sq & Mean Sq & F value & Pr(>F)\\\\\n",
       "\\hline\n",
       "\tAGE &  1           & 2239.6670    & 2239.66696   & 156.06741    & 9.828627e-13\\\\\n",
       "\tAPT &  1           &  947.0325    &  947.03248   &  65.99236    & 1.000342e-08\\\\\n",
       "\tResiduals & 27           &  387.4672    &   14.35064   &        NA    &           NA\\\\\n",
       "\\end{tabular}\n"
      ],
      "text/markdown": [
       "\n",
       "| <!--/--> | Df | Sum Sq | Mean Sq | F value | Pr(>F) |\n",
       "|---|---|---|---|---|---|\n",
       "| AGE |  1           | 2239.6670    | 2239.66696   | 156.06741    | 9.828627e-13 |\n",
       "| APT |  1           |  947.0325    |  947.03248   |  65.99236    | 1.000342e-08 |\n",
       "| Residuals | 27           |  387.4672    |   14.35064   |        NA    |           NA |\n",
       "\n"
      ],
      "text/plain": [
       "          Df Sum Sq    Mean Sq    F value   Pr(>F)      \n",
       "AGE        1 2239.6670 2239.66696 156.06741 9.828627e-13\n",
       "APT        1  947.0325  947.03248  65.99236 1.000342e-08\n",
       "Residuals 27  387.4672   14.35064        NA           NA"
      ]
     },
     "metadata": {},
     "output_type": "display_data"
    }
   ],
   "source": [
    "anova(final_model)"
   ]
  },
  {
   "cell_type": "markdown",
   "metadata": {},
   "source": [
    "By looking the anova table, residual variance of model equals to 14.35064."
   ]
  },
  {
   "cell_type": "markdown",
   "metadata": {},
   "source": [
    "#### Residual variance by calculation"
   ]
  },
  {
   "cell_type": "code",
   "execution_count": 52,
   "metadata": {},
   "outputs": [
    {
     "data": {
      "text/html": [
       "14.3506379408761"
      ],
      "text/latex": [
       "14.3506379408761"
      ],
      "text/markdown": [
       "14.3506379408761"
      ],
      "text/plain": [
       "[1] 14.35064"
      ]
     },
     "metadata": {},
     "output_type": "display_data"
    }
   ],
   "source": [
    "(summary(final_model)$sigma)**2."
   ]
  },
  {
   "cell_type": "markdown",
   "metadata": {},
   "source": [
    "The same result can be also obtained by using the calculation formula for residual variance."
   ]
  },
  {
   "cell_type": "markdown",
   "metadata": {},
   "source": [
    "# Part E"
   ]
  },
  {
   "cell_type": "markdown",
   "metadata": {},
   "source": [
    "GPA didn't be included in the final model after Part B and Part C. In order to test whether GPA of a person has an influence on sales value or not, the GPA variable will be added to the final model. In addition, this control will be made by using hypothesis testing. In this test, alpha was determined as 0.1 as given in the description in Part E of the homework."
   ]
  },
  {
   "cell_type": "markdown",
   "metadata": {},
   "source": [
    "## Hypothesis Testing"
   ]
  },
  {
   "cell_type": "markdown",
   "metadata": {},
   "source": [
    "H0 and H1 hypothesis can be found as follows:"
   ]
  },
  {
   "cell_type": "markdown",
   "metadata": {},
   "source": [
    "H0: Coefficient of GPA$=$0\n",
    "\n",
    "H1: Coefficient of GPA$\\neq$0 \n",
    "    \n",
    "    "
   ]
  },
  {
   "cell_type": "code",
   "execution_count": 55,
   "metadata": {},
   "outputs": [
    {
     "data": {
      "text/plain": [
       "\n",
       "Call:\n",
       "lm(formula = SALES ~ AGE + APT + GPA, data = data_sales)\n",
       "\n",
       "Residuals:\n",
       "    Min      1Q  Median      3Q     Max \n",
       "-5.1466 -2.2892 -0.8423  1.5086 10.9757 \n",
       "\n",
       "Coefficients:\n",
       "             Estimate Std. Error t value Pr(>|t|)    \n",
       "(Intercept) -87.20756   14.73768  -5.917 3.05e-06 ***\n",
       "AGE           6.03388    0.78345   7.702 3.58e-08 ***\n",
       "APT           0.20404    0.02582   7.901 2.23e-08 ***\n",
       "GPA          -0.75632    1.70548  -0.443    0.661    \n",
       "---\n",
       "Signif. codes:  0 '***' 0.001 '**' 0.01 '*' 0.05 '.' 0.1 ' ' 1\n",
       "\n",
       "Residual standard error: 3.846 on 26 degrees of freedom\n",
       "Multiple R-squared:  0.8924,\tAdjusted R-squared:   0.88 \n",
       "F-statistic: 71.88 on 3 and 26 DF,  p-value: 1.028e-12\n"
      ]
     },
     "metadata": {},
     "output_type": "display_data"
    }
   ],
   "source": [
    "hypothesis_test=lm(SALES~ AGE + APT + GPA, data=data_sales)\n",
    "summary(hypothesis_test)"
   ]
  },
  {
   "cell_type": "markdown",
   "metadata": {},
   "source": [
    "First of all, 0.1 significance level respresents by '.' in the summary function of the regression. By just looking this indicator, it can be said that GPA is non-significant. To make a brief summary for obtained result, values for GPA can be written:"
   ]
  },
  {
   "cell_type": "markdown",
   "metadata": {},
   "source": [
    "                                                p value of the GPA (test) = 0.662 \n",
    "\n",
    "\n",
    "$$ \\alpha = 0.1$$\n",
    "\n"
   ]
  },
  {
   "cell_type": "markdown",
   "metadata": {},
   "source": [
    "We will **fail to reject null hypothesis because p-value(0.662) is larger than determined alpha value(0.1)**. Namely, it is likely to be a zero coefficient for the GPA variable. In other words, GPA is a non-significant variable in terms of influence on sales."
   ]
  },
  {
   "cell_type": "markdown",
   "metadata": {},
   "source": [
    "### Alternative way for controling the improvement in the model by GPA variable"
   ]
  },
  {
   "cell_type": "markdown",
   "metadata": {},
   "source": [
    "By looking the new model and determined models' anova table, effect of the GPA variable can be observed. In this way, significance of the GPA can be controlled with different way."
   ]
  },
  {
   "cell_type": "code",
   "execution_count": 57,
   "metadata": {},
   "outputs": [
    {
     "data": {
      "text/html": [
       "<table>\n",
       "<thead><tr><th scope=col>Res.Df</th><th scope=col>RSS</th><th scope=col>Df</th><th scope=col>Sum of Sq</th><th scope=col>F</th><th scope=col>Pr(&gt;F)</th></tr></thead>\n",
       "<tbody>\n",
       "\t<tr><td>27       </td><td>387.4672 </td><td>NA       </td><td>      NA </td><td>       NA</td><td>       NA</td></tr>\n",
       "\t<tr><td>26       </td><td>384.5585 </td><td> 1       </td><td>2.908754 </td><td>0.1966609</td><td>0.6610981</td></tr>\n",
       "</tbody>\n",
       "</table>\n"
      ],
      "text/latex": [
       "\\begin{tabular}{r|llllll}\n",
       " Res.Df & RSS & Df & Sum of Sq & F & Pr(>F)\\\\\n",
       "\\hline\n",
       "\t 27        & 387.4672  & NA        &       NA  &        NA &        NA\\\\\n",
       "\t 26        & 384.5585  &  1        & 2.908754  & 0.1966609 & 0.6610981\\\\\n",
       "\\end{tabular}\n"
      ],
      "text/markdown": [
       "\n",
       "| Res.Df | RSS | Df | Sum of Sq | F | Pr(>F) |\n",
       "|---|---|---|---|---|---|\n",
       "| 27        | 387.4672  | NA        |       NA  |        NA |        NA |\n",
       "| 26        | 384.5585  |  1        | 2.908754  | 0.1966609 | 0.6610981 |\n",
       "\n"
      ],
      "text/plain": [
       "  Res.Df RSS      Df Sum of Sq F         Pr(>F)   \n",
       "1 27     387.4672 NA       NA         NA        NA\n",
       "2 26     384.5585  1 2.908754  0.1966609 0.6610981"
      ]
     },
     "metadata": {},
     "output_type": "display_data"
    }
   ],
   "source": [
    "anova(final_model,hypothesis_test)"
   ]
  },
  {
   "cell_type": "markdown",
   "metadata": {},
   "source": [
    "F value is very small, which means that GPA variable is non-significance. In other words, taking zero for coefficient of the GPA variable is possible situation. So, it can be said that it is fail to reject null hypothesis."
   ]
  },
  {
   "cell_type": "code",
   "execution_count": null,
   "metadata": {},
   "outputs": [],
   "source": []
  }
 ],
 "metadata": {
  "kernelspec": {
   "display_name": "R",
   "language": "R",
   "name": "ir"
  },
  "language_info": {
   "codemirror_mode": "r",
   "file_extension": ".r",
   "mimetype": "text/x-r-source",
   "name": "R",
   "pygments_lexer": "r",
   "version": "3.6.1"
  }
 },
 "nbformat": 4,
 "nbformat_minor": 4
}
