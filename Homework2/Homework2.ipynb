{
 "cells": [
  {
   "cell_type": "code",
   "execution_count": 1,
   "metadata": {
    "scrolled": true
   },
   "outputs": [
    {
     "name": "stderr",
     "output_type": "stream",
     "text": [
      "Registered S3 methods overwritten by 'ggplot2':\n",
      "  method         from \n",
      "  [.quosures     rlang\n",
      "  c.quosures     rlang\n",
      "  print.quosures rlang\n",
      "\n",
      "Attaching package: ‘dplyr’\n",
      "\n",
      "The following objects are masked from ‘package:stats’:\n",
      "\n",
      "    filter, lag\n",
      "\n",
      "The following objects are masked from ‘package:base’:\n",
      "\n",
      "    intersect, setdiff, setequal, union\n",
      "\n",
      "\n",
      "Attaching package: ‘zoo’\n",
      "\n",
      "The following objects are masked from ‘package:base’:\n",
      "\n",
      "    as.Date, as.Date.numeric\n",
      "\n",
      "Registered S3 method overwritten by 'xts':\n",
      "  method     from\n",
      "  as.zoo.xts zoo \n",
      "\n",
      "Attaching package: ‘xts’\n",
      "\n",
      "The following objects are masked from ‘package:dplyr’:\n",
      "\n",
      "    first, last\n",
      "\n"
     ]
    }
   ],
   "source": [
    "library(xlsx)\n",
    "library(ggplot2, quietly=TRUE)\n",
    "#library(lubridate, quietly=TRUE)\n",
    "#library(zoo, quietly=TRUE)\n",
    "library(dplyr, quietly=TRUE)\n",
    "library(xts, quietly=TRUE)\n",
    "#"
   ]
  },
  {
   "cell_type": "code",
   "execution_count": 8,
   "metadata": {},
   "outputs": [
    {
     "ename": "ERROR",
     "evalue": "Error: package or namespace load failed for ‘forecast’ in dyn.load(file, DLLpath = DLLpath, ...):\n paylaşılan nesne '/Users/baha/opt/anaconda3/envs/Main/lib/R/library/fracdiff/libs/fracdiff.dylib' yüklenemedi:\n dlopen(/Users/baha/opt/anaconda3/envs/Main/lib/R/library/fracdiff/libs/fracdiff.dylib, 6): Library not loaded: @rpath/libopenblasp-r0.3.7.dylib\n  Referenced from: /Users/baha/opt/anaconda3/envs/Main/lib/R/library/fracdiff/libs/fracdiff.dylib\n  Reason: image not found\n",
     "output_type": "error",
     "traceback": [
      "Error: package or namespace load failed for ‘forecast’ in dyn.load(file, DLLpath = DLLpath, ...):\n paylaşılan nesne '/Users/baha/opt/anaconda3/envs/Main/lib/R/library/fracdiff/libs/fracdiff.dylib' yüklenemedi:\n dlopen(/Users/baha/opt/anaconda3/envs/Main/lib/R/library/fracdiff/libs/fracdiff.dylib, 6): Library not loaded: @rpath/libopenblasp-r0.3.7.dylib\n  Referenced from: /Users/baha/opt/anaconda3/envs/Main/lib/R/library/fracdiff/libs/fracdiff.dylib\n  Reason: image not found\nTraceback:\n",
      "1. library(\"forecast\")",
      "2. tryCatch({\n .     attr(package, \"LibPath\") <- which.lib.loc\n .     ns <- loadNamespace(package, lib.loc)\n .     env <- attachNamespace(ns, pos = pos, deps, exclude, include.only)\n . }, error = function(e) {\n .     P <- if (!is.null(cc <- conditionCall(e))) \n .         paste(\" in\", deparse(cc)[1L])\n .     else \"\"\n .     msg <- gettextf(\"package or namespace load failed for %s%s:\\n %s\", \n .         sQuote(package), P, conditionMessage(e))\n .     if (logical.return) \n .         message(paste(\"Error:\", msg), domain = NA)\n .     else stop(msg, call. = FALSE, domain = NA)\n . })",
      "3. tryCatchList(expr, classes, parentenv, handlers)",
      "4. tryCatchOne(expr, names, parentenv, handlers[[1L]])",
      "5. value[[3L]](cond)",
      "6. stop(msg, call. = FALSE, domain = NA)"
     ]
    }
   ],
   "source": [
    "library(\"forecast\")\n",
    "library(fpp2, quietly=TRUE)"
   ]
  },
  {
   "cell_type": "code",
   "execution_count": null,
   "metadata": {},
   "outputs": [],
   "source": [
    "library(GGally, quietly=TRUE)"
   ]
  },
  {
   "cell_type": "code",
   "execution_count": null,
   "metadata": {},
   "outputs": [],
   "source": [
    "#Loading the datasets\n",
    "price_index=read.xlsx(\"Price Index.xlsx\",sheetIndex=1, header=TRUE)\n",
    "plot(price_index)\n",
    "price_index$Tarih=as.Date(as.yearmon(price_index$Tarih))\n",
    "str(price_index)"
   ]
  },
  {
   "cell_type": "code",
   "execution_count": null,
   "metadata": {},
   "outputs": [],
   "source": [
    "property_price_index=read.xlsx(\"Residential Property Price Index.xlsx.xlsx\",sheetIndex=1, header=TRUE)\n",
    "plot(property_price_index)\n",
    "property_price_index$Tarih=as.Date(as.yearmon(property_price_index$Tarih))\n",
    "str(property_price_index)"
   ]
  },
  {
   "cell_type": "code",
   "execution_count": null,
   "metadata": {},
   "outputs": [],
   "source": [
    "unemployment_rate=read.xlsx(\"Unemployement Rate.xlsx\",sheetIndex=1, header=TRUE)\n",
    "plot(unemployment_rate)\n",
    "unemployment_rate$Tarih=as.Date(as.yearmon(unemployment_rate$Tarih))\n",
    "str(unemployment_rate)"
   ]
  },
  {
   "cell_type": "code",
   "execution_count": null,
   "metadata": {},
   "outputs": [],
   "source": [
    "dolar_exchange_rate=read.xlsx(\"Dolar Exchange Rate.xlsx\",sheetIndex = 1, header=TRUE)\n",
    "plot(dolar_exchange_rate)\n",
    "dolar_exchange_rate$Tarih=as.Date(as.yearmon(dolar_exchange_rate$Tarih))\n",
    "str(dolar_exchange_rate)"
   ]
  },
  {
   "cell_type": "code",
   "execution_count": null,
   "metadata": {},
   "outputs": [],
   "source": [
    "sub_df<-merge(price_index,unemployment_rate,by=\"Tarih\")\n",
    "df<-merge(sub_df,dolar_exchange_rate,by=\"Tarih\")"
   ]
  },
  {
   "cell_type": "code",
   "execution_count": null,
   "metadata": {},
   "outputs": [],
   "source": [
    "df_ts <- xts(df[,-1], order.by=as.Date(df[,1], \"%Y/%m/%d\"))\n",
    "glimpse(df_ts)"
   ]
  },
  {
   "cell_type": "code",
   "execution_count": null,
   "metadata": {},
   "outputs": [],
   "source": [
    "colnames(df_ts)[1]<-\"tufe_index\"\n",
    "colnames(df_ts)[2]<-\"unemp_rate\"\n",
    "colnames(df_ts)[3]<-\"dolar_rate\""
   ]
  },
  {
   "cell_type": "code",
   "execution_count": null,
   "metadata": {},
   "outputs": [],
   "source": [
    "df_ts$tufe_index_normalized=(df_ts$tufe_index-min(df_ts$tufe_index))/(max(df_ts$tufe_index)-min(df_ts$tufe_index))\n",
    "df_ts$unemp_rate_normalized=(df_ts$unemp_rate-min(df_ts$unemp_rate))/(max(df_ts$unemp_rate)-min(df_ts$unemp_rate))\n",
    "df_ts$dolar_rate_normalized=(df_ts$dolar_rate -min(df_ts$dolar_rate ))/(max(df_ts$dolar_rate )-min(df_ts$dolar_rate ))"
   ]
  },
  {
   "cell_type": "code",
   "execution_count": null,
   "metadata": {},
   "outputs": [],
   "source": [
    "cols <- c(\"Dolar Exchange Rate\" = \"red\", \"Tufe Index\" = \"yellow\", \"Unemployement Rate\" = \"blue\")\n",
    "\n",
    "ggplot(df_ts)+geom_line(aes(x=Index, y=tufe_index_normalized,color=\"Dolar Exchange Rate\"))+\n",
    "  geom_line(aes(x=Index, y=unemp_rate_normalized ,color=\"Tufe Index\"))+\n",
    "  geom_line(aes(x=Index, y=dolar_rate_normalized , color= \"Unemployement Rate\"))+\n",
    "  ggtitle(\"Normalized Indexes Comparision\")+\n",
    "  ylab(\"Normalized Values\")+xlab(\"Date\")+\n",
    "  scale_color_manual(values = cols)+\n",
    "  labs(colour = \"Indexes\")"
   ]
  },
  {
   "cell_type": "code",
   "execution_count": null,
   "metadata": {},
   "outputs": [],
   "source": [
    "autoplot(df_ts[,c(\"tufe_index\")])+ggtitle(\"Time vs Price Index(01/2017 to 08/2020)\")+\n",
    "  ylab(\"Price Index\")"
   ]
  },
  {
   "cell_type": "code",
   "execution_count": null,
   "metadata": {},
   "outputs": [],
   "source": [
    "autoplot(df_ts[,c(\"unemp_rate\")])+ggtitle(\"Time vs Price Index(01/2017 to 08/2020)\")+\n",
    "  ylab(\"Price Index\")"
   ]
  },
  {
   "cell_type": "code",
   "execution_count": null,
   "metadata": {},
   "outputs": [],
   "source": [
    "autoplot(df_ts[,c(\"dolar_rate\")])+ggtitle(\"Time vs Price Index(01/2017 to 08/2020)\")+\n",
    "  ylab(\"Price Index\")"
   ]
  },
  {
   "cell_type": "code",
   "execution_count": null,
   "metadata": {},
   "outputs": [],
   "source": [
    "df_ts_req=df_ts[,c(1,2,3)]"
   ]
  },
  {
   "cell_type": "markdown",
   "metadata": {},
   "source": [
    "# General looking with 3 different graph"
   ]
  },
  {
   "cell_type": "code",
   "execution_count": null,
   "metadata": {},
   "outputs": [],
   "source": [
    "plot(zoo(df_ts_req))"
   ]
  },
  {
   "cell_type": "code",
   "execution_count": null,
   "metadata": {},
   "outputs": [],
   "source": [
    "\n",
    "#Correlation between the variables\n",
    "ggpairs(data.frame(df_ts_req))"
   ]
  },
  {
   "cell_type": "code",
   "execution_count": null,
   "metadata": {},
   "outputs": [],
   "source": []
  }
 ],
 "metadata": {
  "kernelspec": {
   "display_name": "R",
   "language": "R",
   "name": "ir"
  },
  "language_info": {
   "codemirror_mode": "r",
   "file_extension": ".r",
   "mimetype": "text/x-r-source",
   "name": "R",
   "pygments_lexer": "r",
   "version": "3.6.1"
  }
 },
 "nbformat": 4,
 "nbformat_minor": 4
}
