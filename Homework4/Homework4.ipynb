{
 "cells": [
  {
   "cell_type": "code",
   "execution_count": 92,
   "metadata": {},
   "outputs": [],
   "source": [
    "library(data.table)\n",
    "library(lubridate)\n",
    "library(panelaggregation)\n",
    "library(dplyr)\n",
    "library(urca)\n",
    "library(forecast)\n",
    "library(tidyverse)"
   ]
  },
  {
   "cell_type": "code",
   "execution_count": 2,
   "metadata": {},
   "outputs": [],
   "source": [
    "train=fread(\"GercekZamanliTuketim-01012017-08012021.csv\")\n",
    "test=fread(\"test-09012021-23012021.csv\")"
   ]
  },
  {
   "cell_type": "code",
   "execution_count": 3,
   "metadata": {},
   "outputs": [],
   "source": [
    "all_dt=rbind(train,test)"
   ]
  },
  {
   "cell_type": "code",
   "execution_count": 4,
   "metadata": {},
   "outputs": [],
   "source": [
    "setnames(all_dt, \"Tüketim Miktarı (MWh)\", \"consumption\")\n",
    "setnames(all_dt, \"Tarih\", \"date\")\n",
    "setnames(all_dt, \"Saat\", \"hour\")\n",
    "all_dt$consumption=gsub('\\\\.', '', all_dt$consumption)\n",
    "all_dt$consumption=gsub('\\\\,', '.', all_dt$consumption)\n",
    "all_dt$hour=gsub(':00', '', all_dt$hour)"
   ]
  },
  {
   "cell_type": "code",
   "execution_count": 5,
   "metadata": {},
   "outputs": [
    {
     "name": "stdout",
     "output_type": "stream",
     "text": [
      "Classes 'data.table' and 'data.frame':\t35613 obs. of  3 variables:\n",
      " $ date       : Date, format: \"2017-01-01\" \"2017-01-01\" ...\n",
      " $ hour       : num  0 1 2 3 4 5 6 7 8 9 ...\n",
      " $ consumption: num  27223 25826 24253 22915 22357 ...\n",
      " - attr(*, \".internal.selfref\")=<externalptr> \n"
     ]
    }
   ],
   "source": [
    "all_dt$consumption=as.numeric(all_dt$consumption)\n",
    "all_dt$hour=as.numeric(all_dt$hour)\n",
    "all_dt$date=dmy(all_dt$date)\n",
    "str(all_dt)"
   ]
  },
  {
   "cell_type": "markdown",
   "metadata": {},
   "source": [
    "## Performance Measure"
   ]
  },
  {
   "cell_type": "markdown",
   "metadata": {},
   "source": [
    "Performance measures will be made by calling the perf_dt() function. In this function, name of the model(with details), how many numbers of observation is evaluated, mean, standard deviation, daily bias, daily mean absolute percentage error, root mean square error, mean absolute deviation, and weighted mean absolute percentage error. Namely, this function will return all the demanded performance measures in the homework description, but also additional beneficial information related to model performance."
   ]
  },
  {
   "cell_type": "code",
   "execution_count": 6,
   "metadata": {},
   "outputs": [],
   "source": [
    "perf_dt=function(type,actual,forecast){\n",
    "    name=type\n",
    "    n=length(actual)\n",
    "    error=actual-forecast\n",
    "    mean=mean(actual)\n",
    "    sd=sd(actual)\n",
    "    FBias=sum(error)/sum(actual)\n",
    "    MPE=sum(error/actual)/n\n",
    "    MAPE=sum(abs(error/actual))/n\n",
    "    RMSE=sqrt(sum(error^2))/n\n",
    "    MAD=sum(abs(error))/n\n",
    "    WMAPE=MAD/mean\n",
    "    l=data.frame(name,n,mean,sd,FBias,MAPE,RMSE,MAD,WMAPE)\n",
    "    return(l)\n",
    "}"
   ]
  },
  {
   "cell_type": "markdown",
   "metadata": {},
   "source": [
    "### Group all the dataset by daily"
   ]
  },
  {
   "cell_type": "code",
   "execution_count": 7,
   "metadata": {},
   "outputs": [
    {
     "name": "stderr",
     "output_type": "stream",
     "text": [
      "`summarise()` ungrouping output (override with `.groups` argument)\n"
     ]
    }
   ],
   "source": [
    "df =all_dt %>% \n",
    "  group_by(date) %>% \n",
    "  summarise(consumption = mean(consumption))\n",
    "dt=as.data.table(df)"
   ]
  },
  {
   "cell_type": "code",
   "execution_count": 93,
   "metadata": {},
   "outputs": [],
   "source": [
    "library(plyr)"
   ]
  },
  {
   "cell_type": "markdown",
   "metadata": {},
   "source": [
    "### Seperating Dataset "
   ]
  },
  {
   "cell_type": "code",
   "execution_count": 9,
   "metadata": {},
   "outputs": [],
   "source": [
    "train=filter(dt,date<=\"2021-01-07\")\n",
    "test=filter(dt,date>\"2021-01-07\")"
   ]
  },
  {
   "cell_type": "markdown",
   "metadata": {},
   "source": [
    "### Dataframe to Time-Series Object"
   ]
  },
  {
   "cell_type": "code",
   "execution_count": 10,
   "metadata": {},
   "outputs": [],
   "source": [
    "train_ts=ts(train$consumption,freq=7)\n",
    "test_ts=ts(test$consumption,freq=7)"
   ]
  },
  {
   "cell_type": "markdown",
   "metadata": {},
   "source": [
    "# Visually Control"
   ]
  },
  {
   "cell_type": "markdown",
   "metadata": {},
   "source": [
    "In order to observe the daily mean consumption of electricity, a time-series plot can be used, which can be a good preview before creating a model."
   ]
  },
  {
   "cell_type": "code",
   "execution_count": 11,
   "metadata": {},
   "outputs": [
    {
     "data": {
      "image/png": "[encoded data removed]",
      "text/plain": [
       "Plot with title \"Consumption from '2017-01-01' to '2021-01-23'\""
      ]
     },
     "metadata": {},
     "output_type": "display_data"
    }
   ],
   "source": [
    "ts.plot(train_ts,xlab = \"Date\", ylab = \"Consumption\",main=\"Consumption from '2017-01-01' to '2021-01-23'\")"
   ]
  },
  {
   "cell_type": "code",
   "execution_count": 12,
   "metadata": {},
   "outputs": [
    {
     "data": {
      "text/plain": [
       "\n",
       "####################### \n",
       "# KPSS Unit Root Test # \n",
       "####################### \n",
       "\n",
       "Test is of type: mu with 7 lags. \n",
       "\n",
       "Value of test-statistic is: 0.1442 \n",
       "\n",
       "Critical value for a significance level of: \n",
       "                10pct  5pct 2.5pct  1pct\n",
       "critical values 0.347 0.463  0.574 0.739\n"
      ]
     },
     "metadata": {},
     "output_type": "display_data"
    }
   ],
   "source": [
    "unt_test=ur.kpss(train_ts) \n",
    "summary(unt_test)"
   ]
  },
  {
   "cell_type": "markdown",
   "metadata": {},
   "source": [
    "By looking at the test-statistic it can be said that consumption in the training dataset is stationary, which is one of the essential requirements before creating a time series model. However, this value can be improved and it can be said that there are some outliers in the training dataset by looking at the time-series plot of consumption. Namely, these outliers must be eliminated, and different approaches exist for this adjustment. Moreover, these outliers can be observed more precisely after decomposition."
   ]
  },
  {
   "cell_type": "markdown",
   "metadata": {},
   "source": [
    "## Decompositon"
   ]
  },
  {
   "cell_type": "code",
   "execution_count": 13,
   "metadata": {},
   "outputs": [
    {
     "data": {
      "image/png": "[encoded data removed]",
      "text/plain": [
       "plot without title"
      ]
     },
     "metadata": {},
     "output_type": "display_data"
    }
   ],
   "source": [
    "consumption_decom=decompose(train_ts,type='add')\n",
    "plot(consumption_decom)"
   ]
  },
  {
   "cell_type": "code",
   "execution_count": 14,
   "metadata": {
    "scrolled": true
   },
   "outputs": [
    {
     "data": {
      "text/plain": [
       "\n",
       "####################### \n",
       "# KPSS Unit Root Test # \n",
       "####################### \n",
       "\n",
       "Test is of type: mu with 7 lags. \n",
       "\n",
       "Value of test-statistic is: 0.0045 \n",
       "\n",
       "Critical value for a significance level of: \n",
       "                10pct  5pct 2.5pct  1pct\n",
       "critical values 0.347 0.463  0.574 0.739\n"
      ]
     },
     "metadata": {},
     "output_type": "display_data"
    }
   ],
   "source": [
    "unt_test_decomp=ur.kpss(consumption_decom$random) \n",
    "summary(unt_test_decomp)"
   ]
  },
  {
   "cell_type": "markdown",
   "metadata": {},
   "source": [
    "After decomposition, a better stationary value is achieved. It is a good situation, for time-series models will be created. Namely, decomposed version of data can be used to predict the consumption of electricity. However, a residual check must be checked for understanding the problems."
   ]
  },
  {
   "cell_type": "code",
   "execution_count": 15,
   "metadata": {
    "scrolled": false
   },
   "outputs": [
    {
     "data": {
      "image/png": "[encoded data removed]",
      "text/plain": [
       "Plot with title \"Residuals from '2017-01-01' to '2021-01-23'\""
      ]
     },
     "metadata": {},
     "output_type": "display_data"
    }
   ],
   "source": [
    "plot(consumption_decom$random,ylab=\"Residuals after Decomposition\",main=\"Residuals from '2017-01-01' to '2021-01-23'\")"
   ]
  },
  {
   "cell_type": "markdown",
   "metadata": {},
   "source": [
    "By looking at the residual values of the decomposed parameter, it can be said that residuals must be adjusted for having a proper dataset for time-series models. Acf() and Pacf() plots are also good indicator for understanding behaviour of values. Namely, whether there is a lag or not can be understood by looking at these plots."
   ]
  },
  {
   "cell_type": "markdown",
   "metadata": {},
   "source": [
    "### Decomposed Model Analysis"
   ]
  },
  {
   "cell_type": "code",
   "execution_count": 16,
   "metadata": {},
   "outputs": [
    {
     "data": {
      "image/png": "[encoded data removed]",
      "text/plain": [
       "Plot with title \"ACF plot for Decomposition\""
      ]
     },
     "metadata": {},
     "output_type": "display_data"
    }
   ],
   "source": [
    "plot(acf(consumption_decom$random,na.action = na.pass, plot = FALSE),main=\"ACF plot for Decomposition\")"
   ]
  },
  {
   "cell_type": "code",
   "execution_count": 17,
   "metadata": {
    "scrolled": false
   },
   "outputs": [
    {
     "data": {
      "image/png": "[encoded data removed]",
      "text/plain": [
       "Plot with title \"PACF plot for Decomposition\""
      ]
     },
     "metadata": {},
     "output_type": "display_data"
    }
   ],
   "source": [
    "plot(pacf(consumption_decom$random,na.action = na.pass, plot = FALSE),main=\"PACF plot for Decomposition\")"
   ]
  },
  {
   "cell_type": "markdown",
   "metadata": {},
   "source": [
    "What we obtained in these plots will be very useful for determining the time-series models' parameters. "
   ]
  },
  {
   "cell_type": "markdown",
   "metadata": {},
   "source": [
    "## Difference in Consumption Model"
   ]
  },
  {
   "cell_type": "code",
   "execution_count": 18,
   "metadata": {},
   "outputs": [
    {
     "name": "stderr",
     "output_type": "stream",
     "text": [
      "Warning message in `[.data.table`(train, , `:=`(lag_7, shift(consumption, 7))):\n",
      "\"Invalid .internal.selfref detected and fixed by taking a (shallow) copy of the data.table so that := can add this new column by reference. At an earlier point, this data.table has been copied by R (or was created manually using structure() or similar). Avoid names<- and attr<- which in R currently (and oddly) may copy the whole data.table. Use set* syntax instead to avoid copying: ?set, ?setnames and ?setattr. If this message doesn't help, please report your use case to the data.table issue tracker so the root cause can be fixed or this message improved.\""
     ]
    }
   ],
   "source": [
    "train[,lag_7:=shift(consumption,7)]\n",
    "train[,differ:=consumption-lag_7]"
   ]
  },
  {
   "cell_type": "markdown",
   "metadata": {},
   "source": [
    "### KPSS Unit Root Test"
   ]
  },
  {
   "cell_type": "code",
   "execution_count": 19,
   "metadata": {},
   "outputs": [
    {
     "data": {
      "text/plain": [
       "\n",
       "####################### \n",
       "# KPSS Unit Root Test # \n",
       "####################### \n",
       "\n",
       "Test is of type: mu with 7 lags. \n",
       "\n",
       "Value of test-statistic is: 0.0111 \n",
       "\n",
       "Critical value for a significance level of: \n",
       "                10pct  5pct 2.5pct  1pct\n",
       "critical values 0.347 0.463  0.574 0.739\n"
      ]
     },
     "metadata": {},
     "output_type": "display_data"
    }
   ],
   "source": [
    "unt_test_differ=ur.kpss(train$differ) \n",
    "summary(unt_test_differ)"
   ]
  },
  {
   "cell_type": "markdown",
   "metadata": {},
   "source": [
    "This time-series is also stationary, but test-statistic became worse than the previous one. Namely, the decomposed value can be used instead of the difference in the consumption values by just looking at these indicators. However, other analyses must be made to determine the final train dataset for use in the time-series models."
   ]
  },
  {
   "cell_type": "markdown",
   "metadata": {},
   "source": [
    "### Decomposed Model Analysis"
   ]
  },
  {
   "cell_type": "code",
   "execution_count": 20,
   "metadata": {},
   "outputs": [
    {
     "data": {
      "image/png": "[encoded data removed]",
      "text/plain": [
       "Plot with title \"ACF plot for Difference in Consumption\""
      ]
     },
     "metadata": {},
     "output_type": "display_data"
    }
   ],
   "source": [
    "plot(acf(train$differ,na.action = na.pass, plot = FALSE),main=\"ACF plot for Difference in Consumption\")"
   ]
  },
  {
   "cell_type": "code",
   "execution_count": 21,
   "metadata": {},
   "outputs": [
    {
     "data": {
      "image/png": "[encoded data removed]",
      "text/plain": [
       "Plot with title \"PACF plot for Difference in Consumption\""
      ]
     },
     "metadata": {},
     "output_type": "display_data"
    }
   ],
   "source": [
    "plot(pacf(train$differ,na.action = na.pass, plot = FALSE),main=\"PACF plot for Difference in Consumption\")"
   ]
  },
  {
   "cell_type": "markdown",
   "metadata": {},
   "source": [
    "It can be said that Decomposed train dataset for time-series models is more useful by looking at the KPSS Unit Root Test results and plots of acf() and pacf(). Pacf() plot of the difference in consumption represents that there is an auto-correlation between the residuals in lag 7. Much as the plot of the decomposed version isn't a good train dataset for the time-series model, it can be improved by removing the outliers, and randoms can be checked after the removing."
   ]
  },
  {
   "cell_type": "markdown",
   "metadata": {},
   "source": [
    "# Residuals Check"
   ]
  },
  {
   "cell_type": "code",
   "execution_count": 22,
   "metadata": {},
   "outputs": [
    {
     "data": {
      "image/png": "[encoded data removed]",
      "text/plain": [
       "Plot with title \"Consumption from '2017-01-01' to '2021-01-23'\""
      ]
     },
     "metadata": {},
     "output_type": "display_data"
    }
   ],
   "source": [
    "plot(consumption_decom$random,ylab=\"Residuals after Decomposition\",main=\"Consumption from '2017-01-01' to '2021-01-23'\")"
   ]
  },
  {
   "cell_type": "markdown",
   "metadata": {},
   "source": [
    "# Outlier Adjustments"
   ]
  },
  {
   "cell_type": "markdown",
   "metadata": {},
   "source": [
    "Before the adjustment, tsoutliers() can be used for understanding which indexes can be considered as outliers. This process is very beneficial for determining the reason behind the decrease of increase in the consumption of electricity. Namely, these indexes will be used for understanding outliers' situations."
   ]
  },
  {
   "cell_type": "code",
   "execution_count": 23,
   "metadata": {},
   "outputs": [],
   "source": [
    "out_and<-tsoutliers(consumption_decom$random)"
   ]
  },
  {
   "cell_type": "code",
   "execution_count": 31,
   "metadata": {},
   "outputs": [],
   "source": [
    "rep_val=out_and$replacements\n",
    "ref_val=train[out_and$index]$adj_cons"
   ]
  },
  {
   "cell_type": "code",
   "execution_count": 32,
   "metadata": {
    "scrolled": false
   },
   "outputs": [
    {
     "data": {
      "text/html": [
       "<table>\n",
       "<thead><tr><th scope=col>date</th><th scope=col>consumption</th><th scope=col>lag_7</th><th scope=col>differ</th><th scope=col>adj_cons</th></tr></thead>\n",
       "<tbody>\n",
       "\t<tr><td>2017-05-01 </td><td>27511.07   </td><td>31202.37   </td><td> -3691.3021</td><td>27511.07   </td></tr>\n",
       "\t<tr><td>2017-05-19 </td><td>29563.23   </td><td>32375.83   </td><td> -2812.6025</td><td>29563.23   </td></tr>\n",
       "\t<tr><td>2017-06-23 </td><td>32593.42   </td><td>32884.10   </td><td>  -290.6775</td><td>32593.42   </td></tr>\n",
       "\t<tr><td>2017-06-26 </td><td>23859.14   </td><td>31716.77   </td><td> -7857.6362</td><td>23859.14   </td></tr>\n",
       "\t<tr><td>2017-06-27 </td><td>25886.96   </td><td>32297.68   </td><td> -6410.7275</td><td>25886.96   </td></tr>\n",
       "\t<tr><td>2017-06-29 </td><td>36104.02   </td><td>33067.55   </td><td>  3036.4721</td><td>36104.02   </td></tr>\n",
       "\t<tr><td>2017-08-29 </td><td>35055.15   </td><td>37442.41   </td><td> -2387.2558</td><td>35055.15   </td></tr>\n",
       "\t<tr><td>2017-08-31 </td><td>27547.64   </td><td>37254.07   </td><td> -9706.4279</td><td>27547.64   </td></tr>\n",
       "\t<tr><td>2017-09-01 </td><td>23619.08   </td><td>37015.51   </td><td>-13396.4283</td><td>23619.08   </td></tr>\n",
       "\t<tr><td>2017-09-02 </td><td>24418.67   </td><td>35616.94   </td><td>-11198.2671</td><td>24418.67   </td></tr>\n",
       "\t<tr><td>2017-09-05 </td><td>33846.83   </td><td>35055.15   </td><td> -1208.3275</td><td>33846.83   </td></tr>\n",
       "\t<tr><td>2018-01-01 </td><td>28005.32   </td><td>35258.68   </td><td> -7253.3625</td><td>28005.32   </td></tr>\n",
       "\t<tr><td>2018-04-23 </td><td>28687.35   </td><td>32174.67   </td><td> -3487.3175</td><td>28687.35   </td></tr>\n",
       "\t<tr><td>2018-05-01 </td><td>29526.73   </td><td>31936.79   </td><td> -2410.0575</td><td>29526.73   </td></tr>\n",
       "\t<tr><td>2018-06-12 </td><td>33849.54   </td><td>32790.42   </td><td>  1059.1162</td><td>33849.54   </td></tr>\n",
       "\t<tr><td>2018-06-13 </td><td>32874.88   </td><td>33466.01   </td><td>  -591.1337</td><td>32874.88   </td></tr>\n",
       "\t<tr><td>2018-06-15 </td><td>22882.44   </td><td>34335.37   </td><td>-11452.9242</td><td>22882.44   </td></tr>\n",
       "\t<tr><td>2018-06-16 </td><td>22662.85   </td><td>33599.00   </td><td>-10936.1488</td><td>22662.85   </td></tr>\n",
       "\t<tr><td>2018-08-18 </td><td>36052.36   </td><td>37397.32   </td><td> -1344.9587</td><td>36052.36   </td></tr>\n",
       "\t<tr><td>2018-08-19 </td><td>32604.76   </td><td>33505.79   </td><td>  -901.0375</td><td>32604.76   </td></tr>\n",
       "\t<tr><td>2018-08-21 </td><td>25106.55   </td><td>38716.14   </td><td>-13609.5921</td><td>25106.55   </td></tr>\n",
       "\t<tr><td>2018-08-22 </td><td>26173.59   </td><td>38903.48   </td><td>-12729.8925</td><td>26173.59   </td></tr>\n",
       "\t<tr><td>2018-08-23 </td><td>27248.64   </td><td>39258.04   </td><td>-12009.3958</td><td>27248.64   </td></tr>\n",
       "\t<tr><td>2018-08-26 </td><td>30871.22   </td><td>32604.76   </td><td> -1733.5329</td><td>30871.22   </td></tr>\n",
       "\t<tr><td>2018-08-27 </td><td>36371.27   </td><td>29505.24   </td><td>  6866.0325</td><td>36371.27   </td></tr>\n",
       "\t<tr><td>2018-08-30 </td><td>35486.28   </td><td>27248.64   </td><td>  8237.6375</td><td>35486.28   </td></tr>\n",
       "\t<tr><td>2018-10-29 </td><td>26876.05   </td><td>30551.20   </td><td> -3675.1450</td><td>26876.05   </td></tr>\n",
       "\t<tr><td>2019-01-01 </td><td>28267.30   </td><td>35486.56   </td><td> -7219.2608</td><td>28267.30   </td></tr>\n",
       "\t<tr><td>2019-04-23 </td><td>29412.04   </td><td>33206.21   </td><td> -3794.1737</td><td>29412.04   </td></tr>\n",
       "\t<tr><td>2019-05-01 </td><td>27516.20   </td><td>31790.14   </td><td> -4273.9421</td><td>27516.20   </td></tr>\n",
       "\t<tr><td>...</td><td>...</td><td>...</td><td>...</td><td>...</td></tr>\n",
       "\t<tr><td>2019-07-15 </td><td>31884.21   </td><td>37787.79   </td><td> -5903.5725</td><td>31884.21   </td></tr>\n",
       "\t<tr><td>2019-08-09 </td><td>37523.86   </td><td>40102.88   </td><td> -2579.0121</td><td>37523.86   </td></tr>\n",
       "\t<tr><td>2019-08-12 </td><td>27331.36   </td><td>38113.79   </td><td>-10782.4308</td><td>27331.36   </td></tr>\n",
       "\t<tr><td>2019-08-13 </td><td>28530.30   </td><td>38450.63   </td><td> -9920.3296</td><td>28530.30   </td></tr>\n",
       "\t<tr><td>2019-08-14 </td><td>30117.41   </td><td>38311.62   </td><td> -8194.2150</td><td>30117.41   </td></tr>\n",
       "\t<tr><td>2019-08-15 </td><td>35101.11   </td><td>38330.87   </td><td> -3229.7554</td><td>35101.11   </td></tr>\n",
       "\t<tr><td>2019-08-30 </td><td>34425.61   </td><td>37800.93   </td><td> -3375.3208</td><td>34425.61   </td></tr>\n",
       "\t<tr><td>2019-10-29 </td><td>27670.35   </td><td>31806.19   </td><td> -4135.8400</td><td>27670.35   </td></tr>\n",
       "\t<tr><td>2019-12-29 </td><td>31741.78   </td><td>30005.71   </td><td>  1736.0771</td><td>31741.78   </td></tr>\n",
       "\t<tr><td>2020-01-01 </td><td>28529.58   </td><td>35802.91   </td><td> -7273.3271</td><td>28529.58   </td></tr>\n",
       "\t<tr><td>2020-04-11 </td><td>22600.57   </td><td>27306.41   </td><td> -4705.8479</td><td>22600.57   </td></tr>\n",
       "\t<tr><td>2020-04-23 </td><td>25077.26   </td><td>27564.99   </td><td> -2487.7254</td><td>25077.26   </td></tr>\n",
       "\t<tr><td>2020-05-01 </td><td>24018.27   </td><td>25654.34   </td><td> -1636.0737</td><td>24018.27   </td></tr>\n",
       "\t<tr><td>2020-05-02 </td><td>23519.28   </td><td>24575.60   </td><td> -1056.3154</td><td>23519.28   </td></tr>\n",
       "\t<tr><td>2020-05-19 </td><td>27098.33   </td><td>28590.10   </td><td> -1491.7617</td><td>27098.33   </td></tr>\n",
       "\t<tr><td>2020-05-21 </td><td>30578.19   </td><td>29349.69   </td><td>  1228.5021</td><td>30578.19   </td></tr>\n",
       "\t<tr><td>2020-05-22 </td><td>28468.31   </td><td>29610.16   </td><td> -1141.8450</td><td>28468.31   </td></tr>\n",
       "\t<tr><td>2020-05-25 </td><td>19199.08   </td><td>27888.97   </td><td> -8689.8917</td><td>19199.08   </td></tr>\n",
       "\t<tr><td>2020-05-26 </td><td>20225.78   </td><td>27098.33   </td><td> -6872.5550</td><td>20225.78   </td></tr>\n",
       "\t<tr><td>2020-05-28 </td><td>28253.87   </td><td>30578.19   </td><td> -2324.3154</td><td>28253.87   </td></tr>\n",
       "\t<tr><td>2020-07-15 </td><td>34876.12   </td><td>37666.09   </td><td> -2789.9667</td><td>34876.12   </td></tr>\n",
       "\t<tr><td>2020-07-28 </td><td>39514.06   </td><td>39000.08   </td><td>   513.9804</td><td>39514.06   </td></tr>\n",
       "\t<tr><td>2020-07-29 </td><td>38858.87   </td><td>39003.33   </td><td>  -144.4587</td><td>38858.87   </td></tr>\n",
       "\t<tr><td>2020-07-30 </td><td>33027.81   </td><td>39299.60   </td><td> -6271.7883</td><td>33027.81   </td></tr>\n",
       "\t<tr><td>2020-07-31 </td><td>27570.03   </td><td>39251.67   </td><td>-11681.6417</td><td>27570.03   </td></tr>\n",
       "\t<tr><td>2020-08-01 </td><td>28646.47   </td><td>37707.89   </td><td> -9061.4204</td><td>28646.47   </td></tr>\n",
       "\t<tr><td>2020-08-03 </td><td>30125.38   </td><td>38770.32   </td><td> -8644.9400</td><td>30125.38   </td></tr>\n",
       "\t<tr><td>2020-10-29 </td><td>30341.70   </td><td>33114.85   </td><td> -2773.1450</td><td>30341.70   </td></tr>\n",
       "\t<tr><td>2021-01-01 </td><td>28998.90   </td><td>36367.12   </td><td> -7368.2137</td><td>28998.90   </td></tr>\n",
       "\t<tr><td>2021-01-02 </td><td>30276.93   </td><td>33947.16   </td><td> -3670.2208</td><td>30276.93   </td></tr>\n",
       "</tbody>\n",
       "</table>\n"
      ],
      "text/latex": [
       "\\begin{tabular}{r|lllll}\n",
       " date & consumption & lag\\_7 & differ & adj\\_cons\\\\\n",
       "\\hline\n",
       "\t 2017-05-01  & 27511.07    & 31202.37    &  -3691.3021 & 27511.07   \\\\\n",
       "\t 2017-05-19  & 29563.23    & 32375.83    &  -2812.6025 & 29563.23   \\\\\n",
       "\t 2017-06-23  & 32593.42    & 32884.10    &   -290.6775 & 32593.42   \\\\\n",
       "\t 2017-06-26  & 23859.14    & 31716.77    &  -7857.6362 & 23859.14   \\\\\n",
       "\t 2017-06-27  & 25886.96    & 32297.68    &  -6410.7275 & 25886.96   \\\\\n",
       "\t 2017-06-29  & 36104.02    & 33067.55    &   3036.4721 & 36104.02   \\\\\n",
       "\t 2017-08-29  & 35055.15    & 37442.41    &  -2387.2558 & 35055.15   \\\\\n",
       "\t 2017-08-31  & 27547.64    & 37254.07    &  -9706.4279 & 27547.64   \\\\\n",
       "\t 2017-09-01  & 23619.08    & 37015.51    & -13396.4283 & 23619.08   \\\\\n",
       "\t 2017-09-02  & 24418.67    & 35616.94    & -11198.2671 & 24418.67   \\\\\n",
       "\t 2017-09-05  & 33846.83    & 35055.15    &  -1208.3275 & 33846.83   \\\\\n",
       "\t 2018-01-01  & 28005.32    & 35258.68    &  -7253.3625 & 28005.32   \\\\\n",
       "\t 2018-04-23  & 28687.35    & 32174.67    &  -3487.3175 & 28687.35   \\\\\n",
       "\t 2018-05-01  & 29526.73    & 31936.79    &  -2410.0575 & 29526.73   \\\\\n",
       "\t 2018-06-12  & 33849.54    & 32790.42    &   1059.1162 & 33849.54   \\\\\n",
       "\t 2018-06-13  & 32874.88    & 33466.01    &   -591.1337 & 32874.88   \\\\\n",
       "\t 2018-06-15  & 22882.44    & 34335.37    & -11452.9242 & 22882.44   \\\\\n",
       "\t 2018-06-16  & 22662.85    & 33599.00    & -10936.1488 & 22662.85   \\\\\n",
       "\t 2018-08-18  & 36052.36    & 37397.32    &  -1344.9587 & 36052.36   \\\\\n",
       "\t 2018-08-19  & 32604.76    & 33505.79    &   -901.0375 & 32604.76   \\\\\n",
       "\t 2018-08-21  & 25106.55    & 38716.14    & -13609.5921 & 25106.55   \\\\\n",
       "\t 2018-08-22  & 26173.59    & 38903.48    & -12729.8925 & 26173.59   \\\\\n",
       "\t 2018-08-23  & 27248.64    & 39258.04    & -12009.3958 & 27248.64   \\\\\n",
       "\t 2018-08-26  & 30871.22    & 32604.76    &  -1733.5329 & 30871.22   \\\\\n",
       "\t 2018-08-27  & 36371.27    & 29505.24    &   6866.0325 & 36371.27   \\\\\n",
       "\t 2018-08-30  & 35486.28    & 27248.64    &   8237.6375 & 35486.28   \\\\\n",
       "\t 2018-10-29  & 26876.05    & 30551.20    &  -3675.1450 & 26876.05   \\\\\n",
       "\t 2019-01-01  & 28267.30    & 35486.56    &  -7219.2608 & 28267.30   \\\\\n",
       "\t 2019-04-23  & 29412.04    & 33206.21    &  -3794.1737 & 29412.04   \\\\\n",
       "\t 2019-05-01  & 27516.20    & 31790.14    &  -4273.9421 & 27516.20   \\\\\n",
       "\t ... & ... & ... & ... & ...\\\\\n",
       "\t 2019-07-15  & 31884.21    & 37787.79    &  -5903.5725 & 31884.21   \\\\\n",
       "\t 2019-08-09  & 37523.86    & 40102.88    &  -2579.0121 & 37523.86   \\\\\n",
       "\t 2019-08-12  & 27331.36    & 38113.79    & -10782.4308 & 27331.36   \\\\\n",
       "\t 2019-08-13  & 28530.30    & 38450.63    &  -9920.3296 & 28530.30   \\\\\n",
       "\t 2019-08-14  & 30117.41    & 38311.62    &  -8194.2150 & 30117.41   \\\\\n",
       "\t 2019-08-15  & 35101.11    & 38330.87    &  -3229.7554 & 35101.11   \\\\\n",
       "\t 2019-08-30  & 34425.61    & 37800.93    &  -3375.3208 & 34425.61   \\\\\n",
       "\t 2019-10-29  & 27670.35    & 31806.19    &  -4135.8400 & 27670.35   \\\\\n",
       "\t 2019-12-29  & 31741.78    & 30005.71    &   1736.0771 & 31741.78   \\\\\n",
       "\t 2020-01-01  & 28529.58    & 35802.91    &  -7273.3271 & 28529.58   \\\\\n",
       "\t 2020-04-11  & 22600.57    & 27306.41    &  -4705.8479 & 22600.57   \\\\\n",
       "\t 2020-04-23  & 25077.26    & 27564.99    &  -2487.7254 & 25077.26   \\\\\n",
       "\t 2020-05-01  & 24018.27    & 25654.34    &  -1636.0737 & 24018.27   \\\\\n",
       "\t 2020-05-02  & 23519.28    & 24575.60    &  -1056.3154 & 23519.28   \\\\\n",
       "\t 2020-05-19  & 27098.33    & 28590.10    &  -1491.7617 & 27098.33   \\\\\n",
       "\t 2020-05-21  & 30578.19    & 29349.69    &   1228.5021 & 30578.19   \\\\\n",
       "\t 2020-05-22  & 28468.31    & 29610.16    &  -1141.8450 & 28468.31   \\\\\n",
       "\t 2020-05-25  & 19199.08    & 27888.97    &  -8689.8917 & 19199.08   \\\\\n",
       "\t 2020-05-26  & 20225.78    & 27098.33    &  -6872.5550 & 20225.78   \\\\\n",
       "\t 2020-05-28  & 28253.87    & 30578.19    &  -2324.3154 & 28253.87   \\\\\n",
       "\t 2020-07-15  & 34876.12    & 37666.09    &  -2789.9667 & 34876.12   \\\\\n",
       "\t 2020-07-28  & 39514.06    & 39000.08    &    513.9804 & 39514.06   \\\\\n",
       "\t 2020-07-29  & 38858.87    & 39003.33    &   -144.4587 & 38858.87   \\\\\n",
       "\t 2020-07-30  & 33027.81    & 39299.60    &  -6271.7883 & 33027.81   \\\\\n",
       "\t 2020-07-31  & 27570.03    & 39251.67    & -11681.6417 & 27570.03   \\\\\n",
       "\t 2020-08-01  & 28646.47    & 37707.89    &  -9061.4204 & 28646.47   \\\\\n",
       "\t 2020-08-03  & 30125.38    & 38770.32    &  -8644.9400 & 30125.38   \\\\\n",
       "\t 2020-10-29  & 30341.70    & 33114.85    &  -2773.1450 & 30341.70   \\\\\n",
       "\t 2021-01-01  & 28998.90    & 36367.12    &  -7368.2137 & 28998.90   \\\\\n",
       "\t 2021-01-02  & 30276.93    & 33947.16    &  -3670.2208 & 30276.93   \\\\\n",
       "\\end{tabular}\n"
      ],
      "text/markdown": [
       "\n",
       "| date | consumption | lag_7 | differ | adj_cons |\n",
       "|---|---|---|---|---|\n",
       "| 2017-05-01  | 27511.07    | 31202.37    |  -3691.3021 | 27511.07    |\n",
       "| 2017-05-19  | 29563.23    | 32375.83    |  -2812.6025 | 29563.23    |\n",
       "| 2017-06-23  | 32593.42    | 32884.10    |   -290.6775 | 32593.42    |\n",
       "| 2017-06-26  | 23859.14    | 31716.77    |  -7857.6362 | 23859.14    |\n",
       "| 2017-06-27  | 25886.96    | 32297.68    |  -6410.7275 | 25886.96    |\n",
       "| 2017-06-29  | 36104.02    | 33067.55    |   3036.4721 | 36104.02    |\n",
       "| 2017-08-29  | 35055.15    | 37442.41    |  -2387.2558 | 35055.15    |\n",
       "| 2017-08-31  | 27547.64    | 37254.07    |  -9706.4279 | 27547.64    |\n",
       "| 2017-09-01  | 23619.08    | 37015.51    | -13396.4283 | 23619.08    |\n",
       "| 2017-09-02  | 24418.67    | 35616.94    | -11198.2671 | 24418.67    |\n",
       "| 2017-09-05  | 33846.83    | 35055.15    |  -1208.3275 | 33846.83    |\n",
       "| 2018-01-01  | 28005.32    | 35258.68    |  -7253.3625 | 28005.32    |\n",
       "| 2018-04-23  | 28687.35    | 32174.67    |  -3487.3175 | 28687.35    |\n",
       "| 2018-05-01  | 29526.73    | 31936.79    |  -2410.0575 | 29526.73    |\n",
       "| 2018-06-12  | 33849.54    | 32790.42    |   1059.1162 | 33849.54    |\n",
       "| 2018-06-13  | 32874.88    | 33466.01    |   -591.1337 | 32874.88    |\n",
       "| 2018-06-15  | 22882.44    | 34335.37    | -11452.9242 | 22882.44    |\n",
       "| 2018-06-16  | 22662.85    | 33599.00    | -10936.1488 | 22662.85    |\n",
       "| 2018-08-18  | 36052.36    | 37397.32    |  -1344.9587 | 36052.36    |\n",
       "| 2018-08-19  | 32604.76    | 33505.79    |   -901.0375 | 32604.76    |\n",
       "| 2018-08-21  | 25106.55    | 38716.14    | -13609.5921 | 25106.55    |\n",
       "| 2018-08-22  | 26173.59    | 38903.48    | -12729.8925 | 26173.59    |\n",
       "| 2018-08-23  | 27248.64    | 39258.04    | -12009.3958 | 27248.64    |\n",
       "| 2018-08-26  | 30871.22    | 32604.76    |  -1733.5329 | 30871.22    |\n",
       "| 2018-08-27  | 36371.27    | 29505.24    |   6866.0325 | 36371.27    |\n",
       "| 2018-08-30  | 35486.28    | 27248.64    |   8237.6375 | 35486.28    |\n",
       "| 2018-10-29  | 26876.05    | 30551.20    |  -3675.1450 | 26876.05    |\n",
       "| 2019-01-01  | 28267.30    | 35486.56    |  -7219.2608 | 28267.30    |\n",
       "| 2019-04-23  | 29412.04    | 33206.21    |  -3794.1737 | 29412.04    |\n",
       "| 2019-05-01  | 27516.20    | 31790.14    |  -4273.9421 | 27516.20    |\n",
       "| ... | ... | ... | ... | ... |\n",
       "| 2019-07-15  | 31884.21    | 37787.79    |  -5903.5725 | 31884.21    |\n",
       "| 2019-08-09  | 37523.86    | 40102.88    |  -2579.0121 | 37523.86    |\n",
       "| 2019-08-12  | 27331.36    | 38113.79    | -10782.4308 | 27331.36    |\n",
       "| 2019-08-13  | 28530.30    | 38450.63    |  -9920.3296 | 28530.30    |\n",
       "| 2019-08-14  | 30117.41    | 38311.62    |  -8194.2150 | 30117.41    |\n",
       "| 2019-08-15  | 35101.11    | 38330.87    |  -3229.7554 | 35101.11    |\n",
       "| 2019-08-30  | 34425.61    | 37800.93    |  -3375.3208 | 34425.61    |\n",
       "| 2019-10-29  | 27670.35    | 31806.19    |  -4135.8400 | 27670.35    |\n",
       "| 2019-12-29  | 31741.78    | 30005.71    |   1736.0771 | 31741.78    |\n",
       "| 2020-01-01  | 28529.58    | 35802.91    |  -7273.3271 | 28529.58    |\n",
       "| 2020-04-11  | 22600.57    | 27306.41    |  -4705.8479 | 22600.57    |\n",
       "| 2020-04-23  | 25077.26    | 27564.99    |  -2487.7254 | 25077.26    |\n",
       "| 2020-05-01  | 24018.27    | 25654.34    |  -1636.0737 | 24018.27    |\n",
       "| 2020-05-02  | 23519.28    | 24575.60    |  -1056.3154 | 23519.28    |\n",
       "| 2020-05-19  | 27098.33    | 28590.10    |  -1491.7617 | 27098.33    |\n",
       "| 2020-05-21  | 30578.19    | 29349.69    |   1228.5021 | 30578.19    |\n",
       "| 2020-05-22  | 28468.31    | 29610.16    |  -1141.8450 | 28468.31    |\n",
       "| 2020-05-25  | 19199.08    | 27888.97    |  -8689.8917 | 19199.08    |\n",
       "| 2020-05-26  | 20225.78    | 27098.33    |  -6872.5550 | 20225.78    |\n",
       "| 2020-05-28  | 28253.87    | 30578.19    |  -2324.3154 | 28253.87    |\n",
       "| 2020-07-15  | 34876.12    | 37666.09    |  -2789.9667 | 34876.12    |\n",
       "| 2020-07-28  | 39514.06    | 39000.08    |    513.9804 | 39514.06    |\n",
       "| 2020-07-29  | 38858.87    | 39003.33    |   -144.4587 | 38858.87    |\n",
       "| 2020-07-30  | 33027.81    | 39299.60    |  -6271.7883 | 33027.81    |\n",
       "| 2020-07-31  | 27570.03    | 39251.67    | -11681.6417 | 27570.03    |\n",
       "| 2020-08-01  | 28646.47    | 37707.89    |  -9061.4204 | 28646.47    |\n",
       "| 2020-08-03  | 30125.38    | 38770.32    |  -8644.9400 | 30125.38    |\n",
       "| 2020-10-29  | 30341.70    | 33114.85    |  -2773.1450 | 30341.70    |\n",
       "| 2021-01-01  | 28998.90    | 36367.12    |  -7368.2137 | 28998.90    |\n",
       "| 2021-01-02  | 30276.93    | 33947.16    |  -3670.2208 | 30276.93    |\n",
       "\n"
      ],
      "text/plain": [
       "    date       consumption lag_7    differ      adj_cons\n",
       "1   2017-05-01 27511.07    31202.37  -3691.3021 27511.07\n",
       "2   2017-05-19 29563.23    32375.83  -2812.6025 29563.23\n",
       "3   2017-06-23 32593.42    32884.10   -290.6775 32593.42\n",
       "4   2017-06-26 23859.14    31716.77  -7857.6362 23859.14\n",
       "5   2017-06-27 25886.96    32297.68  -6410.7275 25886.96\n",
       "6   2017-06-29 36104.02    33067.55   3036.4721 36104.02\n",
       "7   2017-08-29 35055.15    37442.41  -2387.2558 35055.15\n",
       "8   2017-08-31 27547.64    37254.07  -9706.4279 27547.64\n",
       "9   2017-09-01 23619.08    37015.51 -13396.4283 23619.08\n",
       "10  2017-09-02 24418.67    35616.94 -11198.2671 24418.67\n",
       "11  2017-09-05 33846.83    35055.15  -1208.3275 33846.83\n",
       "12  2018-01-01 28005.32    35258.68  -7253.3625 28005.32\n",
       "13  2018-04-23 28687.35    32174.67  -3487.3175 28687.35\n",
       "14  2018-05-01 29526.73    31936.79  -2410.0575 29526.73\n",
       "15  2018-06-12 33849.54    32790.42   1059.1162 33849.54\n",
       "16  2018-06-13 32874.88    33466.01   -591.1337 32874.88\n",
       "17  2018-06-15 22882.44    34335.37 -11452.9242 22882.44\n",
       "18  2018-06-16 22662.85    33599.00 -10936.1488 22662.85\n",
       "19  2018-08-18 36052.36    37397.32  -1344.9587 36052.36\n",
       "20  2018-08-19 32604.76    33505.79   -901.0375 32604.76\n",
       "21  2018-08-21 25106.55    38716.14 -13609.5921 25106.55\n",
       "22  2018-08-22 26173.59    38903.48 -12729.8925 26173.59\n",
       "23  2018-08-23 27248.64    39258.04 -12009.3958 27248.64\n",
       "24  2018-08-26 30871.22    32604.76  -1733.5329 30871.22\n",
       "25  2018-08-27 36371.27    29505.24   6866.0325 36371.27\n",
       "26  2018-08-30 35486.28    27248.64   8237.6375 35486.28\n",
       "27  2018-10-29 26876.05    30551.20  -3675.1450 26876.05\n",
       "28  2019-01-01 28267.30    35486.56  -7219.2608 28267.30\n",
       "29  2019-04-23 29412.04    33206.21  -3794.1737 29412.04\n",
       "30  2019-05-01 27516.20    31790.14  -4273.9421 27516.20\n",
       "... ...        ...         ...      ...         ...     \n",
       "37  2019-07-15 31884.21    37787.79  -5903.5725 31884.21\n",
       "38  2019-08-09 37523.86    40102.88  -2579.0121 37523.86\n",
       "39  2019-08-12 27331.36    38113.79 -10782.4308 27331.36\n",
       "40  2019-08-13 28530.30    38450.63  -9920.3296 28530.30\n",
       "41  2019-08-14 30117.41    38311.62  -8194.2150 30117.41\n",
       "42  2019-08-15 35101.11    38330.87  -3229.7554 35101.11\n",
       "43  2019-08-30 34425.61    37800.93  -3375.3208 34425.61\n",
       "44  2019-10-29 27670.35    31806.19  -4135.8400 27670.35\n",
       "45  2019-12-29 31741.78    30005.71   1736.0771 31741.78\n",
       "46  2020-01-01 28529.58    35802.91  -7273.3271 28529.58\n",
       "47  2020-04-11 22600.57    27306.41  -4705.8479 22600.57\n",
       "48  2020-04-23 25077.26    27564.99  -2487.7254 25077.26\n",
       "49  2020-05-01 24018.27    25654.34  -1636.0737 24018.27\n",
       "50  2020-05-02 23519.28    24575.60  -1056.3154 23519.28\n",
       "51  2020-05-19 27098.33    28590.10  -1491.7617 27098.33\n",
       "52  2020-05-21 30578.19    29349.69   1228.5021 30578.19\n",
       "53  2020-05-22 28468.31    29610.16  -1141.8450 28468.31\n",
       "54  2020-05-25 19199.08    27888.97  -8689.8917 19199.08\n",
       "55  2020-05-26 20225.78    27098.33  -6872.5550 20225.78\n",
       "56  2020-05-28 28253.87    30578.19  -2324.3154 28253.87\n",
       "57  2020-07-15 34876.12    37666.09  -2789.9667 34876.12\n",
       "58  2020-07-28 39514.06    39000.08    513.9804 39514.06\n",
       "59  2020-07-29 38858.87    39003.33   -144.4587 38858.87\n",
       "60  2020-07-30 33027.81    39299.60  -6271.7883 33027.81\n",
       "61  2020-07-31 27570.03    39251.67 -11681.6417 27570.03\n",
       "62  2020-08-01 28646.47    37707.89  -9061.4204 28646.47\n",
       "63  2020-08-03 30125.38    38770.32  -8644.9400 30125.38\n",
       "64  2020-10-29 30341.70    33114.85  -2773.1450 30341.70\n",
       "65  2021-01-01 28998.90    36367.12  -7368.2137 28998.90\n",
       "66  2021-01-02 30276.93    33947.16  -3670.2208 30276.93"
      ]
     },
     "metadata": {},
     "output_type": "display_data"
    }
   ],
   "source": [
    "train[out_and$index]"
   ]
  },
  {
   "cell_type": "markdown",
   "metadata": {},
   "source": [
    "In general, it can be said that outliers occurred because of the holidays. These holidays can be separated into different classes. National holidays, Religious holidays are the most important ones. In addition, some days related to these holidays were affected because of the behavior of the people. Namely, people tend to combine normal weekdays with these holidays time to extend the leave period."
   ]
  },
  {
   "cell_type": "code",
   "execution_count": 33,
   "metadata": {},
   "outputs": [],
   "source": [
    "train[,adj_cons:=consumption]\n",
    "train[out_and$index]$adj_cons=rep_val+ref_val"
   ]
  },
  {
   "cell_type": "markdown",
   "metadata": {},
   "source": [
    "Which value is suggested is also added to the data frame to compare the results after the adjustment."
   ]
  },
  {
   "cell_type": "markdown",
   "metadata": {},
   "source": [
    "### Holiday Informations"
   ]
  },
  {
   "cell_type": "markdown",
   "metadata": {},
   "source": [
    "In order to adjust holiday values, a data frame was created for the IE 360 project. This data frame includes different features and one of which is the holiday information. Holiday information represented with different numbers. There are 8 numbers for representing these days. All the numbers represent different holiday types. I want to keep details of the data frame secret to IE 360 Project. This data frame can be shared or provided details in case of demand."
   ]
  },
  {
   "cell_type": "code",
   "execution_count": 34,
   "metadata": {},
   "outputs": [],
   "source": [
    "feat_dt=fread(\"C:/Users/bahad/GitHub/360project/all_features_df.csv\")\n",
    "feat_dt$date=as.Date(feat_dt$date)"
   ]
  },
  {
   "cell_type": "code",
   "execution_count": 35,
   "metadata": {},
   "outputs": [],
   "source": [
    "train_feat=merge(train,feat_dt[,c(1,2)],by.x=\"date\",by.y=\"date\")\n",
    "train_feat[out_and$index][holiday_val_factor==0]$holiday_val_factor=8"
   ]
  },
  {
   "cell_type": "code",
   "execution_count": 36,
   "metadata": {},
   "outputs": [],
   "source": [
    "train_feat$month=month(train_feat$date)"
   ]
  },
  {
   "cell_type": "markdown",
   "metadata": {},
   "source": [
    "# Adjusted Model"
   ]
  },
  {
   "cell_type": "markdown",
   "metadata": {},
   "source": [
    "In order to adjust dataframe, there are 2 main approaches. One of them is to replace the value of consumption in the holidays with consumption in 7 days ago. The second one is to replace the value of consumption in the holidays with consumption in 14 days ago. Why there are 2 approaches that exist can be explained by the length of some holidays. Namely, some holidays last more than 7 days, and lag 7 becomes unreasonable for replacing the value of the consumption. Which day's consumption value will be assigned is determined by the fixed numbers for holiday types. As I have mentioned, details for these numbers and dataframe can be shared or provided in case of demand, but I prefer to keep it secret to protect competition."
   ]
  },
  {
   "cell_type": "code",
   "execution_count": 37,
   "metadata": {},
   "outputs": [],
   "source": [
    "train_feat[,year_day:=yday(date)]\n",
    "train_feat[,lag_14:=shift(consumption, 14)]"
   ]
  },
  {
   "cell_type": "markdown",
   "metadata": {},
   "source": [
    "### New year"
   ]
  },
  {
   "cell_type": "code",
   "execution_count": 38,
   "metadata": {},
   "outputs": [],
   "source": [
    "train_feat[holiday_val_factor==1,consumption:=lag_7]\n",
    "train_feat[1]$consumption=train_feat[366]$consumption"
   ]
  },
  {
   "cell_type": "code",
   "execution_count": 39,
   "metadata": {},
   "outputs": [],
   "source": [
    "train_feat[year_day==366]$consumption=train_feat[year_day==366]$lag_7"
   ]
  },
  {
   "cell_type": "code",
   "execution_count": 40,
   "metadata": {},
   "outputs": [],
   "source": [
    "train_feat[year_day==365]$consumption=train_feat[year_day==365]$lag_7"
   ]
  },
  {
   "cell_type": "markdown",
   "metadata": {},
   "source": [
    "### Holiday Change"
   ]
  },
  {
   "cell_type": "code",
   "execution_count": 41,
   "metadata": {},
   "outputs": [],
   "source": [
    "train_feat[holiday_val_factor==2]$consumption=train_feat[holiday_val_factor==2]$lag_7"
   ]
  },
  {
   "cell_type": "code",
   "execution_count": 42,
   "metadata": {},
   "outputs": [],
   "source": [
    "for(i in 3:8){\n",
    "    train_feat[holiday_val_factor==i]$consumption=train_feat[holiday_val_factor==i]$lag_14\n",
    "}"
   ]
  },
  {
   "cell_type": "markdown",
   "metadata": {},
   "source": [
    "Consumption values are changed with previous days' values. Before checking the KPSS Unit Root Test & acf() & pacf(), residuals can be checked one more time."
   ]
  },
  {
   "cell_type": "markdown",
   "metadata": {},
   "source": [
    "### Outlier Check"
   ]
  },
  {
   "cell_type": "code",
   "execution_count": 43,
   "metadata": {},
   "outputs": [
    {
     "data": {
      "image/png": "[encoded data removed]",
      "text/plain": [
       "plot without title"
      ]
     },
     "metadata": {},
     "output_type": "display_data"
    }
   ],
   "source": [
    "sub_decomp=decompose(ts(train_feat$consumption,freq=7),type='add')\n",
    "plot(sub_decomp)"
   ]
  },
  {
   "cell_type": "markdown",
   "metadata": {},
   "source": [
    "The biggest part of the residuals is removed by the adjustment. But still, there are some outliers. These days may be not be noticed in the creation of the dataframe. In order to determine these days, outliers() can be used."
   ]
  },
  {
   "cell_type": "markdown",
   "metadata": {},
   "source": [
    "## Last Adjustment for Outliers"
   ]
  },
  {
   "cell_type": "code",
   "execution_count": 44,
   "metadata": {},
   "outputs": [],
   "source": [
    "out_new<-tsoutliers(sub_decomp$random)"
   ]
  },
  {
   "cell_type": "code",
   "execution_count": 45,
   "metadata": {},
   "outputs": [],
   "source": [
    "train_feat[out_new$index,holiday_val:=rep(8,length(train_feat[out_new$index]$holiday_val))]"
   ]
  },
  {
   "cell_type": "code",
   "execution_count": 46,
   "metadata": {},
   "outputs": [],
   "source": [
    "train_feat[holiday_val==8,consumption:=lag_14]"
   ]
  },
  {
   "cell_type": "markdown",
   "metadata": {},
   "source": [
    "All the days in the outliers caused by the extended holidays because of the Religious Days. Namely, much as there is no formal holiday, people preferred to combine these days with formal holidays by taking permission. Which days these are also be kept secret to protect competition in the Project of IE 360. As I have mentioned above, details for these numbers and dataframe can be shared or provided in case of demand."
   ]
  },
  {
   "cell_type": "code",
   "execution_count": 47,
   "metadata": {},
   "outputs": [
    {
     "data": {
      "image/png": "[encoded data removed]",
      "text/plain": [
       "plot without title"
      ]
     },
     "metadata": {},
     "output_type": "display_data"
    }
   ],
   "source": [
    "new_decomp=decompose(ts(train_feat$consumption,freq=7),type='add')\n",
    "plot(new_decomp)"
   ]
  },
  {
   "cell_type": "markdown",
   "metadata": {},
   "source": [
    "After removing these last outliers, our random variable became proper for time-series models. Variance doesn't change too much and the mean of the random variable is close to zero, which is also desired for decomposed variables. Stationarity can be also controlled by the KPSS Unit Root Test. If this test's results are proper for the input, what obtained can be used in the time-series models as an input."
   ]
  },
  {
   "cell_type": "code",
   "execution_count": 48,
   "metadata": {},
   "outputs": [
    {
     "data": {
      "text/plain": [
       "\n",
       "####################### \n",
       "# KPSS Unit Root Test # \n",
       "####################### \n",
       "\n",
       "Test is of type: mu with 7 lags. \n",
       "\n",
       "Value of test-statistic is: 0.0041 \n",
       "\n",
       "Critical value for a significance level of: \n",
       "                10pct  5pct 2.5pct  1pct\n",
       "critical values 0.347 0.463  0.574 0.739\n"
      ]
     },
     "metadata": {},
     "output_type": "display_data"
    }
   ],
   "source": [
    "unt_test_final=ur.kpss(new_decomp$random) \n",
    "summary(unt_test_final)"
   ]
  },
  {
   "cell_type": "markdown",
   "metadata": {},
   "source": [
    "Test-statistic is very good in terms of stationarity. In addition, 0.0041 represents the best value achieved in all tests made. To sum up, after removing the outliers, decomposed version of the training dataset is the most proper input for models."
   ]
  },
  {
   "cell_type": "markdown",
   "metadata": {},
   "source": [
    "# Models"
   ]
  },
  {
   "cell_type": "code",
   "execution_count": 49,
   "metadata": {},
   "outputs": [
    {
     "data": {
      "image/png": "[encoded data removed]",
      "text/plain": [
       "Plot with title \"\""
      ]
     },
     "metadata": {},
     "output_type": "display_data"
    }
   ],
   "source": [
    "tsdisplay(new_decomp$random,main=\"General Look of Input\")"
   ]
  },
  {
   "cell_type": "markdown",
   "metadata": {},
   "source": [
    "There is 3 different section for models. These are AR Models, MA Models, and ARIMA models. What criteria are important will be determined in all sections. Moreover, the best models for all sections will be determined. After these selections, performance comparisons for all models will be made at the end. Lastly, pacf() & acf() & plotting of residual will be made at the beginning of the sections to determine which parameters can be useful for the models that will be created. However, it can be said that there is a seasonality at lag7, which can be fixed by the seasonality parameter. However, this adjustment will be made in the Arima model because of the complexity of the manual determination. Namely, 3 different reasonable models will be selected in the section of AR and MA, which will be compared to the last model with seasonality parameter at the ARIMA section."
   ]
  },
  {
   "cell_type": "markdown",
   "metadata": {},
   "source": [
    "# AR Models"
   ]
  },
  {
   "cell_type": "code",
   "execution_count": 50,
   "metadata": {
    "scrolled": false
   },
   "outputs": [
    {
     "data": {
      "image/png": "[encoded data removed]",
      "text/plain": [
       "Plot with title \"\""
      ]
     },
     "metadata": {},
     "output_type": "display_data"
    }
   ],
   "source": [
    "tsdisplay(new_decomp$random,main=\"General Look of Input\")"
   ]
  },
  {
   "cell_type": "markdown",
   "metadata": {},
   "source": [
    "After looking at the ACF and PACF, Moving Average looks more reasonable to use in the Arima model. However, in order to create an auto-regressive model, AR(1), AR(2), and AR(3) can be created. 3 is a proper value because the highest extensions in the pacf() and acf() are observed in lag 3. In addition, all the 3 lag extended determined confident interval."
   ]
  },
  {
   "cell_type": "markdown",
   "metadata": {},
   "source": [
    "## Auto-Regressive Model(1)"
   ]
  },
  {
   "cell_type": "code",
   "execution_count": 51,
   "metadata": {},
   "outputs": [
    {
     "data": {
      "text/plain": [
       "\n",
       "Call:\n",
       "arima(x = new_decomp$random, order = c(1, 0, 0))\n",
       "\n",
       "Coefficients:\n",
       "         ar1  intercept\n",
       "      0.2212    -0.9521\n",
       "s.e.  0.0255    15.6431\n",
       "\n",
       "sigma^2 estimated as 217087:  log likelihood = -11057.08,  aic = 22120.16"
      ]
     },
     "metadata": {},
     "output_type": "display_data"
    }
   ],
   "source": [
    "ar1=arima(new_decomp$random,order=c(1,0,0))\n",
    "ar1"
   ]
  },
  {
   "cell_type": "code",
   "execution_count": 52,
   "metadata": {},
   "outputs": [
    {
     "data": {
      "image/png": "[encoded data removed]",
      "text/plain": [
       "Plot with title \"\""
      ]
     },
     "metadata": {},
     "output_type": "display_data"
    }
   ],
   "source": [
    "tsdisplay(residuals(ar1),main=\"General Look of AR-1 Model\")"
   ]
  },
  {
   "cell_type": "markdown",
   "metadata": {},
   "source": [
    "## Auto-Regressive Model(2)"
   ]
  },
  {
   "cell_type": "code",
   "execution_count": 53,
   "metadata": {},
   "outputs": [
    {
     "data": {
      "text/plain": [
       "\n",
       "Call:\n",
       "arima(x = new_decomp$random, order = c(2, 0, 0))\n",
       "\n",
       "Coefficients:\n",
       "         ar1      ar2  intercept\n",
       "      0.2829  -0.2786    -0.8930\n",
       "s.e.  0.0251   0.0252    11.7563\n",
       "\n",
       "sigma^2 estimated as 200262:  log likelihood = -10998.19,  aic = 22004.38"
      ]
     },
     "metadata": {},
     "output_type": "display_data"
    }
   ],
   "source": [
    "ar2=arima(new_decomp$random,order=c(2,0,0))\n",
    "ar2"
   ]
  },
  {
   "cell_type": "code",
   "execution_count": 54,
   "metadata": {},
   "outputs": [
    {
     "data": {
      "image/png": "[encoded data removed]",
      "text/plain": [
       "Plot with title \"\""
      ]
     },
     "metadata": {},
     "output_type": "display_data"
    }
   ],
   "source": [
    "tsdisplay(residuals(ar2),main=\"General Look of AR-2 Model\")"
   ]
  },
  {
   "cell_type": "markdown",
   "metadata": {},
   "source": [
    "## Auto-Regressive Model(3)"
   ]
  },
  {
   "cell_type": "code",
   "execution_count": 55,
   "metadata": {},
   "outputs": [
    {
     "data": {
      "text/plain": [
       "\n",
       "Call:\n",
       "arima(x = new_decomp$random, order = c(3, 0, 0))\n",
       "\n",
       "Coefficients:\n",
       "         ar1      ar2      ar3  intercept\n",
       "      0.1978  -0.1922  -0.3058    -0.5747\n",
       "s.e.  0.0249   0.0250   0.0250     8.5776\n",
       "\n",
       "sigma^2 estimated as 181620:  log likelihood = -10926.91,  aic = 21863.82"
      ]
     },
     "metadata": {},
     "output_type": "display_data"
    }
   ],
   "source": [
    "ar3=arima(new_decomp$random,order=c(3,0,0))\n",
    "ar3"
   ]
  },
  {
   "cell_type": "code",
   "execution_count": 56,
   "metadata": {},
   "outputs": [
    {
     "data": {
      "image/png": "[encoded data removed]",
      "text/plain": [
       "Plot with title \"\""
      ]
     },
     "metadata": {},
     "output_type": "display_data"
    }
   ],
   "source": [
    "tsdisplay(residuals(ar3),main=\"General Look of AR-3 Model\")"
   ]
  },
  {
   "cell_type": "markdown",
   "metadata": {},
   "source": [
    "By looking aic information, AR(3) model is better than AR(1) & AR(2). AIC is a good performance measure for comparing the models which using the same dataset. In addition, lower AIC is a good indicator for the model. So, the prediction will be made by using the AR(3) model."
   ]
  },
  {
   "cell_type": "markdown",
   "metadata": {},
   "source": [
    "## Prediction with AR(3) Model"
   ]
  },
  {
   "cell_type": "markdown",
   "metadata": {},
   "source": [
    "2 different techniques will be used to predict consumption in the electricity consumption."
   ]
  },
  {
   "cell_type": "code",
   "execution_count": 57,
   "metadata": {},
   "outputs": [],
   "source": [
    "pred_dt=rbind.fill(train_feat,test)\n",
    "pred_dt=pred_dt[,c(1,2)]\n",
    "pred_dt=as.data.table(pred_dt)"
   ]
  },
  {
   "cell_type": "markdown",
   "metadata": {},
   "source": [
    "## Without Slicing Window Technique"
   ]
  },
  {
   "cell_type": "markdown",
   "metadata": {},
   "source": [
    "### Using last trend value"
   ]
  },
  {
   "cell_type": "code",
   "execution_count": 58,
   "metadata": {},
   "outputs": [],
   "source": [
    "model_forecast_ar3 <- predict(ar3, n.head= 14)\n",
    "last_trend_value_ar3 <-tail(new_decomp$trend[!is.na(new_decomp$trend)],1)\n",
    "seasonality_ar3=new_decomp$seasonal[6:19]"
   ]
  },
  {
   "cell_type": "markdown",
   "metadata": {},
   "source": [
    "### Back to the original series"
   ]
  },
  {
   "cell_type": "code",
   "execution_count": 59,
   "metadata": {},
   "outputs": [],
   "source": [
    "ar3_forecast=as.numeric(model_forecast_ar3$pred)+last_trend_value_ar3+seasonality_ar3"
   ]
  },
  {
   "cell_type": "markdown",
   "metadata": {},
   "source": [
    "## With Slicing Window Techinique"
   ]
  },
  {
   "cell_type": "code",
   "execution_count": 60,
   "metadata": {
    "scrolled": false
   },
   "outputs": [
    {
     "name": "stdout",
     "output_type": "stream",
     "text": [
      "[1] \"2021-01-09\"\n",
      "[1] \"2021-01-10\"\n",
      "[1] \"2021-01-11\"\n",
      "[1] \"2021-01-12\"\n",
      "[1] \"2021-01-13\"\n",
      "[1] \"2021-01-14\"\n",
      "[1] \"2021-01-15\"\n",
      "[1] \"2021-01-16\"\n",
      "[1] \"2021-01-17\"\n",
      "[1] \"2021-01-18\"\n",
      "[1] \"2021-01-19\"\n",
      "[1] \"2021-01-20\"\n",
      "[1] \"2021-01-21\"\n",
      "[1] \"2021-01-22\"\n"
     ]
    }
   ],
   "source": [
    "test_start=as.Date(\"2021-01-08\")\n",
    "\n",
    "results_ar3=vector(\"list\",14)\n",
    "\n",
    "for(i in 1:14){\n",
    "    current_test_date=test_start+i\n",
    "    train_data=pred_dt[date<current_test_date]\n",
    "    test_data=pred_dt[date==current_test_date]\n",
    "    print(current_test_date)\n",
    "    decomp=decompose(ts(train_data$consumption,freq=7),type=\"add\")\n",
    "    rand_val=decomp$random\n",
    "    fit_mod=auto.arima(rand_val)\n",
    "    test_data[,forecasted:=as.numeric(predict(ar3, n.ahead = 1)$pred + decomp$season[((i+5)%%7)+1] +\n",
    "                                     tail(decomp$trend[!is.na(decomp$trend)],1))]\n",
    "    results_ar3[[i+1]]=test_data\n",
    "}"
   ]
  },
  {
   "cell_type": "code",
   "execution_count": 61,
   "metadata": {},
   "outputs": [],
   "source": [
    "res_dt_ar3=rbindlist(results_ar3)"
   ]
  },
  {
   "cell_type": "code",
   "execution_count": 62,
   "metadata": {},
   "outputs": [],
   "source": [
    "res_dt_ar3$forescated_not=ar3_forecast"
   ]
  },
  {
   "cell_type": "code",
   "execution_count": 63,
   "metadata": {},
   "outputs": [
    {
     "data": {
      "text/html": [
       "<table>\n",
       "<thead><tr><th scope=col>name</th><th scope=col>n</th><th scope=col>mean</th><th scope=col>sd</th><th scope=col>FBias</th><th scope=col>MAPE</th><th scope=col>RMSE</th><th scope=col>MAD</th><th scope=col>WMAPE</th></tr></thead>\n",
       "<tbody>\n",
       "\t<tr><td>Predictions in AR(3) without Slicing Window</td><td>14                                         </td><td>37042.31                                   </td><td>2564.443                                   </td><td>0.05253227                                 </td><td>0.07609352                                 </td><td>906.1265                                   </td><td>2849.404                                   </td><td>0.07692294                                 </td></tr>\n",
       "</tbody>\n",
       "</table>\n"
      ],
      "text/latex": [
       "\\begin{tabular}{r|lllllllll}\n",
       " name & n & mean & sd & FBias & MAPE & RMSE & MAD & WMAPE\\\\\n",
       "\\hline\n",
       "\t Predictions in AR(3) without Slicing Window & 14                                          & 37042.31                                    & 2564.443                                    & 0.05253227                                  & 0.07609352                                  & 906.1265                                    & 2849.404                                    & 0.07692294                                 \\\\\n",
       "\\end{tabular}\n"
      ],
      "text/markdown": [
       "\n",
       "| name | n | mean | sd | FBias | MAPE | RMSE | MAD | WMAPE |\n",
       "|---|---|---|---|---|---|---|---|---|\n",
       "| Predictions in AR(3) without Slicing Window | 14                                          | 37042.31                                    | 2564.443                                    | 0.05253227                                  | 0.07609352                                  | 906.1265                                    | 2849.404                                    | 0.07692294                                  |\n",
       "\n"
      ],
      "text/plain": [
       "  name                                        n  mean     sd       FBias     \n",
       "1 Predictions in AR(3) without Slicing Window 14 37042.31 2564.443 0.05253227\n",
       "  MAPE       RMSE     MAD      WMAPE     \n",
       "1 0.07609352 906.1265 2849.404 0.07692294"
      ]
     },
     "metadata": {},
     "output_type": "display_data"
    },
    {
     "data": {
      "text/html": [
       "<table>\n",
       "<thead><tr><th scope=col>name</th><th scope=col>n</th><th scope=col>mean</th><th scope=col>sd</th><th scope=col>FBias</th><th scope=col>MAPE</th><th scope=col>RMSE</th><th scope=col>MAD</th><th scope=col>WMAPE</th></tr></thead>\n",
       "<tbody>\n",
       "\t<tr><td>Predictions in AR(3) with Slicing Window</td><td>14                                      </td><td>37042.31                                </td><td>2564.443                                </td><td>0.02513766                              </td><td>0.02456845                              </td><td>303.7469                                </td><td>931.1571                                </td><td>0.02513766                              </td></tr>\n",
       "</tbody>\n",
       "</table>\n"
      ],
      "text/latex": [
       "\\begin{tabular}{r|lllllllll}\n",
       " name & n & mean & sd & FBias & MAPE & RMSE & MAD & WMAPE\\\\\n",
       "\\hline\n",
       "\t Predictions in AR(3) with Slicing Window & 14                                       & 37042.31                                 & 2564.443                                 & 0.02513766                               & 0.02456845                               & 303.7469                                 & 931.1571                                 & 0.02513766                              \\\\\n",
       "\\end{tabular}\n"
      ],
      "text/markdown": [
       "\n",
       "| name | n | mean | sd | FBias | MAPE | RMSE | MAD | WMAPE |\n",
       "|---|---|---|---|---|---|---|---|---|\n",
       "| Predictions in AR(3) with Slicing Window | 14                                       | 37042.31                                 | 2564.443                                 | 0.02513766                               | 0.02456845                               | 303.7469                                 | 931.1571                                 | 0.02513766                               |\n",
       "\n"
      ],
      "text/plain": [
       "  name                                     n  mean     sd       FBias     \n",
       "1 Predictions in AR(3) with Slicing Window 14 37042.31 2564.443 0.02513766\n",
       "  MAPE       RMSE     MAD      WMAPE     \n",
       "1 0.02456845 303.7469 931.1571 0.02513766"
      ]
     },
     "metadata": {},
     "output_type": "display_data"
    }
   ],
   "source": [
    "perf_dt(\"Predictions in AR(3) without Slicing Window\", res_dt_ar3$consumption, res_dt_ar3$forescated_not)\n",
    "perf_dt(\"Predictions in AR(3) with Slicing Window\", res_dt_ar3$consumption, res_dt_ar3$forecasted)"
   ]
  },
  {
   "cell_type": "markdown",
   "metadata": {},
   "source": [
    "It can be said that the slicing window makes a big difference in the performance of the prediction. In addition, its performance must be compared with other models to determine the competence of the model."
   ]
  },
  {
   "cell_type": "markdown",
   "metadata": {},
   "source": [
    "# MA Models"
   ]
  },
  {
   "cell_type": "code",
   "execution_count": 64,
   "metadata": {},
   "outputs": [
    {
     "data": {
      "image/png": "[encoded data removed]",
      "text/plain": [
       "Plot with title \"\""
      ]
     },
     "metadata": {},
     "output_type": "display_data"
    }
   ],
   "source": [
    "tsdisplay(new_decomp$random,main=\"General Look of Input\")"
   ]
  },
  {
   "cell_type": "markdown",
   "metadata": {},
   "source": [
    "As mentioned before, Moving Average looks more reasonable to use in the Arima model. The same logic for determining the number for the model exists for MA. However, pacf() takes a more important role in the determination of the number as mentioned in the PS6. Smooth looks exist in the pacf(), so MA models must give better results compared to AR models. To sum up, 3 different MA models will be created and the best will be selected by comparing their AIC values."
   ]
  },
  {
   "cell_type": "markdown",
   "metadata": {},
   "source": [
    "## Moving-Average Model(1)"
   ]
  },
  {
   "cell_type": "code",
   "execution_count": 65,
   "metadata": {},
   "outputs": [
    {
     "data": {
      "text/plain": [
       "\n",
       "Call:\n",
       "arima(x = new_decomp$random, order = c(0, 0, 1))\n",
       "\n",
       "Coefficients:\n",
       "         ma1  intercept\n",
       "      0.2841    -0.9500\n",
       "s.e.  0.0240    15.4735\n",
       "\n",
       "sigma^2 estimated as 212341:  log likelihood = -11040.94,  aic = 22087.88"
      ]
     },
     "metadata": {},
     "output_type": "display_data"
    }
   ],
   "source": [
    "ma1=arima(new_decomp$random,order=c(0,0,1))\n",
    "ma1"
   ]
  },
  {
   "cell_type": "code",
   "execution_count": 66,
   "metadata": {},
   "outputs": [
    {
     "data": {
      "image/png": "[encoded data removed]",
      "text/plain": [
       "Plot with title \"\""
      ]
     },
     "metadata": {},
     "output_type": "display_data"
    }
   ],
   "source": [
    "tsdisplay(residuals(ma1),main=\"General Look of MA-1 Model\")"
   ]
  },
  {
   "cell_type": "markdown",
   "metadata": {},
   "source": [
    "## Moving-Average Model(2)"
   ]
  },
  {
   "cell_type": "code",
   "execution_count": 67,
   "metadata": {},
   "outputs": [
    {
     "data": {
      "text/plain": [
       "\n",
       "Call:\n",
       "arima(x = new_decomp$random, order = c(0, 0, 2))\n",
       "\n",
       "Coefficients:\n",
       "          ma1      ma2  intercept\n",
       "      -0.2986  -0.6376    -0.0756\n",
       "s.e.   0.0170   0.0168     0.7575\n",
       "\n",
       "sigma^2 estimated as 198793:  log likelihood = -10993.79,  aic = 21995.58"
      ]
     },
     "metadata": {},
     "output_type": "display_data"
    }
   ],
   "source": [
    "ma2=arima(new_decomp$random,order=c(0,0,2))\n",
    "ma2"
   ]
  },
  {
   "cell_type": "code",
   "execution_count": 68,
   "metadata": {},
   "outputs": [
    {
     "data": {
      "image/png": "[encoded data removed]",
      "text/plain": [
       "Plot with title \"\""
      ]
     },
     "metadata": {},
     "output_type": "display_data"
    }
   ],
   "source": [
    "tsdisplay(residuals(ma2),main=\"General Look of MA-2 Model\")"
   ]
  },
  {
   "cell_type": "markdown",
   "metadata": {},
   "source": [
    "## Moving-Average Model(3)"
   ]
  },
  {
   "cell_type": "code",
   "execution_count": 69,
   "metadata": {},
   "outputs": [
    {
     "data": {
      "text/plain": [
       "\n",
       "Call:\n",
       "arima(x = new_decomp$random, order = c(0, 0, 3))\n",
       "\n",
       "Coefficients:\n",
       "          ma1      ma2      ma3  intercept\n",
       "      -0.0504  -0.4337  -0.5159    -0.0178\n",
       "s.e.   0.0214   0.0221   0.0218     0.0600\n",
       "\n",
       "sigma^2 estimated as 154442:  log likelihood = -10811.47,  aic = 21632.93"
      ]
     },
     "metadata": {},
     "output_type": "display_data"
    }
   ],
   "source": [
    "ma3=arima(new_decomp$random,order=c(0,0,3))\n",
    "ma3"
   ]
  },
  {
   "cell_type": "code",
   "execution_count": 70,
   "metadata": {},
   "outputs": [
    {
     "data": {
      "image/png": "[encoded data removed]",
      "text/plain": [
       "Plot with title \"\""
      ]
     },
     "metadata": {},
     "output_type": "display_data"
    }
   ],
   "source": [
    "tsdisplay(residuals(ma3),main=\"General Look of MA-3 Model\")"
   ]
  },
  {
   "cell_type": "markdown",
   "metadata": {},
   "source": [
    "By looking aic information, MA(3) model is better than MA(1) & MA(2). AIC is a good performance measure for comparing the models which using the same dataset. In addition, lower AIC is a good indicator for the model. So, the prediction will be made by using the MA(3) model. Moreover, the best pacf() and acf() plots achieved in this model, which is also a good indicator for the model. Lastly, it can be said that seasonality exists in the lag, which is fixed in the ARIMA model by adding seasonality."
   ]
  },
  {
   "cell_type": "markdown",
   "metadata": {},
   "source": [
    "## Prediction with MA(3) Model"
   ]
  },
  {
   "cell_type": "markdown",
   "metadata": {},
   "source": [
    "2 different techniques will be used to predict consumption in the electricity consumption."
   ]
  },
  {
   "cell_type": "code",
   "execution_count": 71,
   "metadata": {},
   "outputs": [],
   "source": [
    "pred_dt=rbind.fill(train_feat,test)\n",
    "pred_dt=pred_dt[,c(1,2)]\n",
    "pred_dt=as.data.table(pred_dt)"
   ]
  },
  {
   "cell_type": "markdown",
   "metadata": {},
   "source": [
    "## Without Slicing Window Technique"
   ]
  },
  {
   "cell_type": "markdown",
   "metadata": {},
   "source": [
    "### Using last trend value"
   ]
  },
  {
   "cell_type": "code",
   "execution_count": 72,
   "metadata": {},
   "outputs": [],
   "source": [
    "model_forecast_ma3 <- predict(ma3, n.head= 14)\n",
    "last_trend_value_ma3 <-tail(new_decomp$trend[!is.na(new_decomp$trend)],1)\n",
    "seasonality_ma3=new_decomp$seasonal[6:19]"
   ]
  },
  {
   "cell_type": "markdown",
   "metadata": {},
   "source": [
    "### Back to the original series"
   ]
  },
  {
   "cell_type": "code",
   "execution_count": 73,
   "metadata": {},
   "outputs": [],
   "source": [
    "ma3_forecast=as.numeric(model_forecast_ma3$pred)+last_trend_value_ma3+seasonality_ma3"
   ]
  },
  {
   "cell_type": "markdown",
   "metadata": {},
   "source": [
    "## With Slicing Window Techinique"
   ]
  },
  {
   "cell_type": "code",
   "execution_count": 74,
   "metadata": {
    "scrolled": false
   },
   "outputs": [
    {
     "name": "stdout",
     "output_type": "stream",
     "text": [
      "[1] \"2021-01-09\"\n",
      "[1] \"2021-01-10\"\n",
      "[1] \"2021-01-11\"\n",
      "[1] \"2021-01-12\"\n",
      "[1] \"2021-01-13\"\n",
      "[1] \"2021-01-14\"\n",
      "[1] \"2021-01-15\"\n",
      "[1] \"2021-01-16\"\n",
      "[1] \"2021-01-17\"\n",
      "[1] \"2021-01-18\"\n",
      "[1] \"2021-01-19\"\n",
      "[1] \"2021-01-20\"\n",
      "[1] \"2021-01-21\"\n",
      "[1] \"2021-01-22\"\n"
     ]
    }
   ],
   "source": [
    "test_start=as.Date(\"2021-01-08\")\n",
    "\n",
    "results_ma3=vector(\"list\",14)\n",
    "\n",
    "for(i in 1:14){\n",
    "    current_test_date=test_start+i\n",
    "    train_data=pred_dt[date<current_test_date]\n",
    "    test_data=pred_dt[date==current_test_date]\n",
    "    print(current_test_date)\n",
    "    decomp=decompose(ts(train_data$consumption,freq=7),type=\"add\")\n",
    "    rand_val=decomp$random\n",
    "    fit_mod=auto.arima(rand_val)\n",
    "    test_data[,forecasted:=as.numeric(predict(ma3, n.ahead = 1)$pred + decomp$season[((i+5)%%7)+1] +\n",
    "                                     tail(decomp$trend[!is.na(decomp$trend)],1))]\n",
    "    results_ma3[[i+1]]=test_data\n",
    "}"
   ]
  },
  {
   "cell_type": "code",
   "execution_count": 75,
   "metadata": {},
   "outputs": [],
   "source": [
    "res_dt_ma3=rbindlist(results_ma3)"
   ]
  },
  {
   "cell_type": "code",
   "execution_count": 76,
   "metadata": {},
   "outputs": [],
   "source": [
    "res_dt_ma3$forescated_not=ma3_forecast"
   ]
  },
  {
   "cell_type": "code",
   "execution_count": 77,
   "metadata": {},
   "outputs": [
    {
     "data": {
      "text/html": [
       "<table>\n",
       "<thead><tr><th scope=col>name</th><th scope=col>n</th><th scope=col>mean</th><th scope=col>sd</th><th scope=col>FBias</th><th scope=col>MAPE</th><th scope=col>RMSE</th><th scope=col>MAD</th><th scope=col>WMAPE</th></tr></thead>\n",
       "<tbody>\n",
       "\t<tr><td>Predictions in MA(3) without Slicing Window</td><td>14                                         </td><td>37042.31                                   </td><td>2564.443                                   </td><td>0.04669722                                 </td><td>0.07390236                                 </td><td>874.2522                                   </td><td>2756.771                                   </td><td>0.07442221                                 </td></tr>\n",
       "</tbody>\n",
       "</table>\n"
      ],
      "text/latex": [
       "\\begin{tabular}{r|lllllllll}\n",
       " name & n & mean & sd & FBias & MAPE & RMSE & MAD & WMAPE\\\\\n",
       "\\hline\n",
       "\t Predictions in MA(3) without Slicing Window & 14                                          & 37042.31                                    & 2564.443                                    & 0.04669722                                  & 0.07390236                                  & 874.2522                                    & 2756.771                                    & 0.07442221                                 \\\\\n",
       "\\end{tabular}\n"
      ],
      "text/markdown": [
       "\n",
       "| name | n | mean | sd | FBias | MAPE | RMSE | MAD | WMAPE |\n",
       "|---|---|---|---|---|---|---|---|---|\n",
       "| Predictions in MA(3) without Slicing Window | 14                                          | 37042.31                                    | 2564.443                                    | 0.04669722                                  | 0.07390236                                  | 874.2522                                    | 2756.771                                    | 0.07442221                                  |\n",
       "\n"
      ],
      "text/plain": [
       "  name                                        n  mean     sd       FBias     \n",
       "1 Predictions in MA(3) without Slicing Window 14 37042.31 2564.443 0.04669722\n",
       "  MAPE       RMSE     MAD      WMAPE     \n",
       "1 0.07390236 874.2522 2756.771 0.07442221"
      ]
     },
     "metadata": {},
     "output_type": "display_data"
    },
    {
     "data": {
      "text/html": [
       "<table>\n",
       "<thead><tr><th scope=col>name</th><th scope=col>n</th><th scope=col>mean</th><th scope=col>sd</th><th scope=col>FBias</th><th scope=col>MAPE</th><th scope=col>RMSE</th><th scope=col>MAD</th><th scope=col>WMAPE</th></tr></thead>\n",
       "<tbody>\n",
       "\t<tr><td>Predictions in MA(3) with Slicing Window</td><td>14                                      </td><td>37042.31                                </td><td>2564.443                                </td><td>0.01930261                              </td><td>0.01884176                              </td><td>258.5483                                </td><td>720.0334                                </td><td>0.01943813                              </td></tr>\n",
       "</tbody>\n",
       "</table>\n"
      ],
      "text/latex": [
       "\\begin{tabular}{r|lllllllll}\n",
       " name & n & mean & sd & FBias & MAPE & RMSE & MAD & WMAPE\\\\\n",
       "\\hline\n",
       "\t Predictions in MA(3) with Slicing Window & 14                                       & 37042.31                                 & 2564.443                                 & 0.01930261                               & 0.01884176                               & 258.5483                                 & 720.0334                                 & 0.01943813                              \\\\\n",
       "\\end{tabular}\n"
      ],
      "text/markdown": [
       "\n",
       "| name | n | mean | sd | FBias | MAPE | RMSE | MAD | WMAPE |\n",
       "|---|---|---|---|---|---|---|---|---|\n",
       "| Predictions in MA(3) with Slicing Window | 14                                       | 37042.31                                 | 2564.443                                 | 0.01930261                               | 0.01884176                               | 258.5483                                 | 720.0334                                 | 0.01943813                               |\n",
       "\n"
      ],
      "text/plain": [
       "  name                                     n  mean     sd       FBias     \n",
       "1 Predictions in MA(3) with Slicing Window 14 37042.31 2564.443 0.01930261\n",
       "  MAPE       RMSE     MAD      WMAPE     \n",
       "1 0.01884176 258.5483 720.0334 0.01943813"
      ]
     },
     "metadata": {},
     "output_type": "display_data"
    }
   ],
   "source": [
    "perf_dt(\"Predictions in MA(3) without Slicing Window\", res_dt_ma3$consumption, res_dt_ma3$forescated_not)\n",
    "perf_dt(\"Predictions in MA(3) with Slicing Window\", res_dt_ma3$consumption, res_dt_ma3$forecasted)"
   ]
  },
  {
   "cell_type": "markdown",
   "metadata": {},
   "source": [
    "It can be said that slicing window makes a big difference in the performance of the prediction. In addition, it's performance must be compared with other models to detemine competence of model."
   ]
  },
  {
   "cell_type": "markdown",
   "metadata": {},
   "source": [
    "### Comparison of AR and MA models with different methods"
   ]
  },
  {
   "cell_type": "code",
   "execution_count": 78,
   "metadata": {},
   "outputs": [
    {
     "data": {
      "text/html": [
       "<table>\n",
       "<thead><tr><th scope=col>name</th><th scope=col>n</th><th scope=col>mean</th><th scope=col>sd</th><th scope=col>FBias</th><th scope=col>MAPE</th><th scope=col>RMSE</th><th scope=col>MAD</th><th scope=col>WMAPE</th></tr></thead>\n",
       "<tbody>\n",
       "\t<tr><td>Predictions in AR(3) without Slicing Window</td><td>14                                         </td><td>37042.31                                   </td><td>2564.443                                   </td><td>0.05253227                                 </td><td>0.07609352                                 </td><td>906.1265                                   </td><td>2849.404                                   </td><td>0.07692294                                 </td></tr>\n",
       "</tbody>\n",
       "</table>\n"
      ],
      "text/latex": [
       "\\begin{tabular}{r|lllllllll}\n",
       " name & n & mean & sd & FBias & MAPE & RMSE & MAD & WMAPE\\\\\n",
       "\\hline\n",
       "\t Predictions in AR(3) without Slicing Window & 14                                          & 37042.31                                    & 2564.443                                    & 0.05253227                                  & 0.07609352                                  & 906.1265                                    & 2849.404                                    & 0.07692294                                 \\\\\n",
       "\\end{tabular}\n"
      ],
      "text/markdown": [
       "\n",
       "| name | n | mean | sd | FBias | MAPE | RMSE | MAD | WMAPE |\n",
       "|---|---|---|---|---|---|---|---|---|\n",
       "| Predictions in AR(3) without Slicing Window | 14                                          | 37042.31                                    | 2564.443                                    | 0.05253227                                  | 0.07609352                                  | 906.1265                                    | 2849.404                                    | 0.07692294                                  |\n",
       "\n"
      ],
      "text/plain": [
       "  name                                        n  mean     sd       FBias     \n",
       "1 Predictions in AR(3) without Slicing Window 14 37042.31 2564.443 0.05253227\n",
       "  MAPE       RMSE     MAD      WMAPE     \n",
       "1 0.07609352 906.1265 2849.404 0.07692294"
      ]
     },
     "metadata": {},
     "output_type": "display_data"
    },
    {
     "data": {
      "text/html": [
       "<table>\n",
       "<thead><tr><th scope=col>name</th><th scope=col>n</th><th scope=col>mean</th><th scope=col>sd</th><th scope=col>FBias</th><th scope=col>MAPE</th><th scope=col>RMSE</th><th scope=col>MAD</th><th scope=col>WMAPE</th></tr></thead>\n",
       "<tbody>\n",
       "\t<tr><td>Predictions in AR(3) with Slicing Window</td><td>14                                      </td><td>37042.31                                </td><td>2564.443                                </td><td>0.02513766                              </td><td>0.02456845                              </td><td>303.7469                                </td><td>931.1571                                </td><td>0.02513766                              </td></tr>\n",
       "</tbody>\n",
       "</table>\n"
      ],
      "text/latex": [
       "\\begin{tabular}{r|lllllllll}\n",
       " name & n & mean & sd & FBias & MAPE & RMSE & MAD & WMAPE\\\\\n",
       "\\hline\n",
       "\t Predictions in AR(3) with Slicing Window & 14                                       & 37042.31                                 & 2564.443                                 & 0.02513766                               & 0.02456845                               & 303.7469                                 & 931.1571                                 & 0.02513766                              \\\\\n",
       "\\end{tabular}\n"
      ],
      "text/markdown": [
       "\n",
       "| name | n | mean | sd | FBias | MAPE | RMSE | MAD | WMAPE |\n",
       "|---|---|---|---|---|---|---|---|---|\n",
       "| Predictions in AR(3) with Slicing Window | 14                                       | 37042.31                                 | 2564.443                                 | 0.02513766                               | 0.02456845                               | 303.7469                                 | 931.1571                                 | 0.02513766                               |\n",
       "\n"
      ],
      "text/plain": [
       "  name                                     n  mean     sd       FBias     \n",
       "1 Predictions in AR(3) with Slicing Window 14 37042.31 2564.443 0.02513766\n",
       "  MAPE       RMSE     MAD      WMAPE     \n",
       "1 0.02456845 303.7469 931.1571 0.02513766"
      ]
     },
     "metadata": {},
     "output_type": "display_data"
    },
    {
     "data": {
      "text/html": [
       "<table>\n",
       "<thead><tr><th scope=col>name</th><th scope=col>n</th><th scope=col>mean</th><th scope=col>sd</th><th scope=col>FBias</th><th scope=col>MAPE</th><th scope=col>RMSE</th><th scope=col>MAD</th><th scope=col>WMAPE</th></tr></thead>\n",
       "<tbody>\n",
       "\t<tr><td>Predictions in MA(3) without Slicing Window</td><td>14                                         </td><td>37042.31                                   </td><td>2564.443                                   </td><td>0.04669722                                 </td><td>0.07390236                                 </td><td>874.2522                                   </td><td>2756.771                                   </td><td>0.07442221                                 </td></tr>\n",
       "</tbody>\n",
       "</table>\n"
      ],
      "text/latex": [
       "\\begin{tabular}{r|lllllllll}\n",
       " name & n & mean & sd & FBias & MAPE & RMSE & MAD & WMAPE\\\\\n",
       "\\hline\n",
       "\t Predictions in MA(3) without Slicing Window & 14                                          & 37042.31                                    & 2564.443                                    & 0.04669722                                  & 0.07390236                                  & 874.2522                                    & 2756.771                                    & 0.07442221                                 \\\\\n",
       "\\end{tabular}\n"
      ],
      "text/markdown": [
       "\n",
       "| name | n | mean | sd | FBias | MAPE | RMSE | MAD | WMAPE |\n",
       "|---|---|---|---|---|---|---|---|---|\n",
       "| Predictions in MA(3) without Slicing Window | 14                                          | 37042.31                                    | 2564.443                                    | 0.04669722                                  | 0.07390236                                  | 874.2522                                    | 2756.771                                    | 0.07442221                                  |\n",
       "\n"
      ],
      "text/plain": [
       "  name                                        n  mean     sd       FBias     \n",
       "1 Predictions in MA(3) without Slicing Window 14 37042.31 2564.443 0.04669722\n",
       "  MAPE       RMSE     MAD      WMAPE     \n",
       "1 0.07390236 874.2522 2756.771 0.07442221"
      ]
     },
     "metadata": {},
     "output_type": "display_data"
    },
    {
     "data": {
      "text/html": [
       "<table>\n",
       "<thead><tr><th scope=col>name</th><th scope=col>n</th><th scope=col>mean</th><th scope=col>sd</th><th scope=col>FBias</th><th scope=col>MAPE</th><th scope=col>RMSE</th><th scope=col>MAD</th><th scope=col>WMAPE</th></tr></thead>\n",
       "<tbody>\n",
       "\t<tr><td>Predictions in MA(3) with Slicing Window</td><td>14                                      </td><td>37042.31                                </td><td>2564.443                                </td><td>0.01930261                              </td><td>0.01884176                              </td><td>258.5483                                </td><td>720.0334                                </td><td>0.01943813                              </td></tr>\n",
       "</tbody>\n",
       "</table>\n"
      ],
      "text/latex": [
       "\\begin{tabular}{r|lllllllll}\n",
       " name & n & mean & sd & FBias & MAPE & RMSE & MAD & WMAPE\\\\\n",
       "\\hline\n",
       "\t Predictions in MA(3) with Slicing Window & 14                                       & 37042.31                                 & 2564.443                                 & 0.01930261                               & 0.01884176                               & 258.5483                                 & 720.0334                                 & 0.01943813                              \\\\\n",
       "\\end{tabular}\n"
      ],
      "text/markdown": [
       "\n",
       "| name | n | mean | sd | FBias | MAPE | RMSE | MAD | WMAPE |\n",
       "|---|---|---|---|---|---|---|---|---|\n",
       "| Predictions in MA(3) with Slicing Window | 14                                       | 37042.31                                 | 2564.443                                 | 0.01930261                               | 0.01884176                               | 258.5483                                 | 720.0334                                 | 0.01943813                               |\n",
       "\n"
      ],
      "text/plain": [
       "  name                                     n  mean     sd       FBias     \n",
       "1 Predictions in MA(3) with Slicing Window 14 37042.31 2564.443 0.01930261\n",
       "  MAPE       RMSE     MAD      WMAPE     \n",
       "1 0.01884176 258.5483 720.0334 0.01943813"
      ]
     },
     "metadata": {},
     "output_type": "display_data"
    }
   ],
   "source": [
    "perf_dt(\"Predictions in AR(3) without Slicing Window\", res_dt_ar3$consumption, res_dt_ar3$forescated_not)\n",
    "perf_dt(\"Predictions in AR(3) with Slicing Window\", res_dt_ar3$consumption, res_dt_ar3$forecasted)\n",
    "perf_dt(\"Predictions in MA(3) without Slicing Window\", res_dt_ma3$consumption, res_dt_ma3$forescated_not)\n",
    "perf_dt(\"Predictions in MA(3) with Slicing Window\", res_dt_ma3$consumption, res_dt_ma3$forecasted)"
   ]
  },
  {
   "cell_type": "markdown",
   "metadata": {},
   "source": [
    "In general, it can be said that MA(3) model is better than AR(3). This fact can be understood by the fact that AIC value of AR(3) is 21863.82 and MA(3) is 21632.93, which obtained in the training dataset. In addition, the performance of models in the test dataset with Slicing and without Slicing window can be compared to understand the actual performance of the model. However, it is hard to say that the best model for this time-series dataset. The reason behind this thought is related to the observed seasonal residual in the acf() and pacf() plots. auto.arima() function can be used to fix this problem. So, the model in the next part is supposed to be the best among the models."
   ]
  },
  {
   "cell_type": "markdown",
   "metadata": {},
   "source": [
    "# ARIMA Models"
   ]
  },
  {
   "cell_type": "code",
   "execution_count": 79,
   "metadata": {},
   "outputs": [
    {
     "name": "stdout",
     "output_type": "stream",
     "text": [
      "\n",
      " Fitting models using approximations to speed things up...\n",
      "\n",
      " ARIMA(2,0,2)(1,0,1)[7] with non-zero mean : Inf\n",
      " ARIMA(0,0,0)           with non-zero mean : 22191.55\n",
      " ARIMA(1,0,0)(1,0,0)[7] with non-zero mean : 22102.95\n",
      " ARIMA(0,0,1)(0,0,1)[7] with non-zero mean : 22078.48\n",
      " ARIMA(0,0,0)           with zero mean     : 22189.55\n",
      " ARIMA(0,0,1)           with non-zero mean : 22087.85\n",
      " ARIMA(0,0,1)(1,0,1)[7] with non-zero mean : 22072.44\n",
      " ARIMA(0,0,1)(1,0,0)[7] with non-zero mean : 22072.96\n",
      " ARIMA(0,0,1)(2,0,1)[7] with non-zero mean : 22077.99\n",
      " ARIMA(0,0,1)(1,0,2)[7] with non-zero mean : 22072.04\n",
      " ARIMA(0,0,1)(0,0,2)[7] with non-zero mean : 22074.46\n",
      " ARIMA(0,0,1)(2,0,2)[7] with non-zero mean : 22079.1\n",
      " ARIMA(0,0,0)(1,0,2)[7] with non-zero mean : 22170.03\n",
      " ARIMA(1,0,1)(1,0,2)[7] with non-zero mean : 22073.89\n",
      " ARIMA(0,0,2)(1,0,2)[7] with non-zero mean : 22068.12\n",
      " ARIMA(0,0,2)(0,0,2)[7] with non-zero mean : 22069.67\n",
      " ARIMA(0,0,2)(1,0,1)[7] with non-zero mean : 22069.11\n",
      " ARIMA(0,0,2)(2,0,2)[7] with non-zero mean : 22074.84\n",
      " ARIMA(0,0,2)(0,0,1)[7] with non-zero mean : 22074.38\n",
      " ARIMA(0,0,2)(2,0,1)[7] with non-zero mean : 22073.99\n",
      " ARIMA(1,0,2)(1,0,2)[7] with non-zero mean : Inf\n",
      " ARIMA(0,0,3)(1,0,2)[7] with non-zero mean : 21641.32\n",
      " ARIMA(0,0,3)(0,0,2)[7] with non-zero mean : 21640.66\n",
      " ARIMA(0,0,3)(0,0,1)[7] with non-zero mean : 21648.35\n",
      " ARIMA(0,0,3)(1,0,1)[7] with non-zero mean : 21645.94\n",
      " ARIMA(1,0,3)(0,0,2)[7] with non-zero mean : Inf\n",
      " ARIMA(0,0,4)(0,0,2)[7] with non-zero mean : Inf\n",
      " ARIMA(1,0,2)(0,0,2)[7] with non-zero mean : Inf\n",
      " ARIMA(1,0,4)(0,0,2)[7] with non-zero mean : Inf\n",
      " ARIMA(0,0,3)(0,0,2)[7] with zero mean     : 21639.04\n",
      " ARIMA(0,0,3)(0,0,1)[7] with zero mean     : 21646.68\n",
      " ARIMA(0,0,3)(1,0,2)[7] with zero mean     : 21639.68\n",
      " ARIMA(0,0,3)(1,0,1)[7] with zero mean     : 21644.28\n",
      " ARIMA(0,0,2)(0,0,2)[7] with zero mean     : 22067.66\n",
      " ARIMA(1,0,3)(0,0,2)[7] with zero mean     : Inf\n",
      " ARIMA(0,0,4)(0,0,2)[7] with zero mean     : Inf\n",
      " ARIMA(1,0,2)(0,0,2)[7] with zero mean     : Inf\n",
      " ARIMA(1,0,4)(0,0,2)[7] with zero mean     : Inf\n",
      "\n",
      " Now re-fitting the best model(s) without approximations...\n",
      "\n",
      " ARIMA(0,0,3)(0,0,2)[7] with zero mean     : Inf\n",
      " ARIMA(0,0,3)(1,0,2)[7] with zero mean     : Inf\n",
      " ARIMA(0,0,3)(0,0,2)[7] with non-zero mean : Inf\n",
      " ARIMA(0,0,3)(1,0,2)[7] with non-zero mean : Inf\n",
      " ARIMA(0,0,3)(1,0,1)[7] with zero mean     : Inf\n",
      " ARIMA(0,0,3)(1,0,1)[7] with non-zero mean : Inf\n",
      " ARIMA(0,0,3)(0,0,1)[7] with zero mean     : Inf\n",
      " ARIMA(0,0,3)(0,0,1)[7] with non-zero mean : Inf\n",
      " ARIMA(0,0,2)(0,0,2)[7] with zero mean     : 22067.66\n",
      "\n",
      " Best model: ARIMA(0,0,2)(0,0,2)[7] with zero mean     \n",
      "\n"
     ]
    }
   ],
   "source": [
    "fitted=auto.arima(new_decomp$random,trace=T)"
   ]
  },
  {
   "cell_type": "code",
   "execution_count": 80,
   "metadata": {},
   "outputs": [
    {
     "data": {
      "text/plain": [
       "Series: new_decomp$random \n",
       "ARIMA(0,0,2)(0,0,2)[7] with zero mean \n",
       "\n",
       "Coefficients:\n",
       "         ma1      ma2    sma1    sma2\n",
       "      0.1480  -0.1608  0.0784  0.0702\n",
       "s.e.  0.0706   0.0800  0.0283  0.0270\n",
       "\n",
       "sigma^2 estimated as 209404:  log likelihood=-11028.81\n",
       "AIC=22067.62   AICc=22067.66   BIC=22094.05"
      ]
     },
     "metadata": {},
     "output_type": "display_data"
    }
   ],
   "source": [
    "fitted"
   ]
  },
  {
   "cell_type": "code",
   "execution_count": 81,
   "metadata": {},
   "outputs": [
    {
     "data": {
      "image/png": "[encoded data removed]",
      "text/plain": [
       "Plot with title \"\""
      ]
     },
     "metadata": {},
     "output_type": "display_data"
    }
   ],
   "source": [
    "tsdisplay(residuals(fitted),main=\"General Look of ARIMA(0,0,2)(0,0,2)[7] Model\")"
   ]
  },
  {
   "cell_type": "markdown",
   "metadata": {},
   "source": [
    "Much as the AIC value of the model is a good indicator for the ARIMA model, there is a problem in the residuals. In order to eliminate this problem, 3 new variables can be added to the model predictor formula by changing the order from (0,0,2) to (3,0,2). 3 was determined by looking the acf() and pacf() plots. Why 3 is selected can be explained by looking at which bar in the mentioned plots exceeds the confident interval. 1 and 3 are the most reasonable choices for the auto-regression parameter. Nevertheless, 3 is the most lag that exceeds the limit, so 3 is selected as auto-regression."
   ]
  },
  {
   "cell_type": "code",
   "execution_count": 82,
   "metadata": {},
   "outputs": [
    {
     "data": {
      "text/plain": [
       "\n",
       "Call:\n",
       "arima(x = new_decomp$random, order = c(3, 0, 2), seasonal = c(0, 0, 2))\n",
       "\n",
       "Coefficients:\n",
       "         ar1     ar2      ar3      ma1      ma2    sma1    sma2  intercept\n",
       "      0.2261  0.3498  -0.3934  -0.2581  -0.7419  0.0592  0.0760    -0.0154\n",
       "s.e.  0.0854  0.0810   0.0379   0.0873   0.0873  0.0277  0.0263     0.0581\n",
       "\n",
       "sigma^2 estimated as 150765:  log likelihood = -10793.92,  aic = 21605.85"
      ]
     },
     "metadata": {},
     "output_type": "display_data"
    }
   ],
   "source": [
    "fitted_new=arima(new_decomp$random,order=c(3,0,2),seasonal = c(0,0,2))\n",
    "fitted_new"
   ]
  },
  {
   "cell_type": "code",
   "execution_count": 83,
   "metadata": {},
   "outputs": [
    {
     "data": {
      "image/png": "[encoded data removed]",
      "text/plain": [
       "Plot with title \"\""
      ]
     },
     "metadata": {},
     "output_type": "display_data"
    }
   ],
   "source": [
    "tsdisplay(residuals(fitted_new),main=\"General Look of ARIMA(3,0,2)(0,0,2) Model\")"
   ]
  },
  {
   "cell_type": "markdown",
   "metadata": {},
   "source": [
    "# Predictions"
   ]
  },
  {
   "cell_type": "markdown",
   "metadata": {},
   "source": [
    "## Without Slicing Window Technique"
   ]
  },
  {
   "cell_type": "markdown",
   "metadata": {},
   "source": [
    "### Using last trend value"
   ]
  },
  {
   "cell_type": "code",
   "execution_count": 84,
   "metadata": {},
   "outputs": [],
   "source": [
    "model_forecast <- predict(fitted_new, n.head= 14)\n",
    "last_trend_value <-tail(new_decomp$trend[!is.na(new_decomp$trend)],1)\n",
    "seasonality=new_decomp$seasonal[6:19]"
   ]
  },
  {
   "cell_type": "markdown",
   "metadata": {},
   "source": [
    "### Back to the original series"
   ]
  },
  {
   "cell_type": "code",
   "execution_count": 85,
   "metadata": {},
   "outputs": [],
   "source": [
    "forecasted=as.numeric(model_forecast$pred)+last_trend_value+seasonality"
   ]
  },
  {
   "cell_type": "markdown",
   "metadata": {},
   "source": [
    "## With Slicing Window Techinique"
   ]
  },
  {
   "cell_type": "code",
   "execution_count": 86,
   "metadata": {},
   "outputs": [],
   "source": [
    "pred_dt=rbind.fill(train_feat,test)\n",
    "pred_dt=pred_dt[,c(1,2)]\n",
    "pred_dt=as.data.table(pred_dt)"
   ]
  },
  {
   "cell_type": "code",
   "execution_count": 87,
   "metadata": {
    "scrolled": false
   },
   "outputs": [
    {
     "name": "stdout",
     "output_type": "stream",
     "text": [
      "[1] \"2021-01-09\"\n",
      "[1] \"2021-01-10\"\n",
      "[1] \"2021-01-11\"\n",
      "[1] \"2021-01-12\"\n",
      "[1] \"2021-01-13\"\n",
      "[1] \"2021-01-14\"\n",
      "[1] \"2021-01-15\"\n",
      "[1] \"2021-01-16\"\n",
      "[1] \"2021-01-17\"\n",
      "[1] \"2021-01-18\"\n",
      "[1] \"2021-01-19\"\n",
      "[1] \"2021-01-20\"\n",
      "[1] \"2021-01-21\"\n",
      "[1] \"2021-01-22\"\n"
     ]
    }
   ],
   "source": [
    "test_start=as.Date(\"2021-01-08\")\n",
    "\n",
    "results=vector(\"list\",14)\n",
    "\n",
    "for(i in 1:14){\n",
    "    current_test_date=test_start+i\n",
    "    train_data=pred_dt[date<current_test_date]\n",
    "    test_data=pred_dt[date==current_test_date]\n",
    "    print(current_test_date)\n",
    "    decomp=decompose(ts(train_data$consumption,freq=7),type=\"add\")\n",
    "    rand_val=decomp$random\n",
    "    fit_mod=auto.arima(rand_val)\n",
    "    test_data[,forecasted:=as.numeric(predict(fitted_new, n.ahead = 1)$pred + decomp$season[((i+5)%%7)+1] +\n",
    "                                     tail(decomp$trend[!is.na(decomp$trend)],1))]\n",
    "    results[[i+1]]=test_data\n",
    "}"
   ]
  },
  {
   "cell_type": "code",
   "execution_count": 88,
   "metadata": {},
   "outputs": [],
   "source": [
    "res_dt=rbindlist(results)"
   ]
  },
  {
   "cell_type": "code",
   "execution_count": 89,
   "metadata": {},
   "outputs": [],
   "source": [
    "res_dt$forescated_not=forecasted"
   ]
  },
  {
   "cell_type": "code",
   "execution_count": 90,
   "metadata": {},
   "outputs": [
    {
     "data": {
      "text/html": [
       "<table>\n",
       "<thead><tr><th scope=col>name</th><th scope=col>n</th><th scope=col>mean</th><th scope=col>sd</th><th scope=col>FBias</th><th scope=col>MAPE</th><th scope=col>RMSE</th><th scope=col>MAD</th><th scope=col>WMAPE</th></tr></thead>\n",
       "<tbody>\n",
       "\t<tr><td>Predictions in Arima without Slicing Window</td><td>14                                         </td><td>37042.31                                   </td><td>2564.443                                   </td><td>0.04573294                                 </td><td>0.07354025                                 </td><td>869.2419                                   </td><td>2741.462                                   </td><td>0.07400894                                 </td></tr>\n",
       "</tbody>\n",
       "</table>\n"
      ],
      "text/latex": [
       "\\begin{tabular}{r|lllllllll}\n",
       " name & n & mean & sd & FBias & MAPE & RMSE & MAD & WMAPE\\\\\n",
       "\\hline\n",
       "\t Predictions in Arima without Slicing Window & 14                                          & 37042.31                                    & 2564.443                                    & 0.04573294                                  & 0.07354025                                  & 869.2419                                    & 2741.462                                    & 0.07400894                                 \\\\\n",
       "\\end{tabular}\n"
      ],
      "text/markdown": [
       "\n",
       "| name | n | mean | sd | FBias | MAPE | RMSE | MAD | WMAPE |\n",
       "|---|---|---|---|---|---|---|---|---|\n",
       "| Predictions in Arima without Slicing Window | 14                                          | 37042.31                                    | 2564.443                                    | 0.04573294                                  | 0.07354025                                  | 869.2419                                    | 2741.462                                    | 0.07400894                                  |\n",
       "\n"
      ],
      "text/plain": [
       "  name                                        n  mean     sd       FBias     \n",
       "1 Predictions in Arima without Slicing Window 14 37042.31 2564.443 0.04573294\n",
       "  MAPE       RMSE     MAD      WMAPE     \n",
       "1 0.07354025 869.2419 2741.462 0.07400894"
      ]
     },
     "metadata": {},
     "output_type": "display_data"
    },
    {
     "data": {
      "text/html": [
       "<table>\n",
       "<thead><tr><th scope=col>name</th><th scope=col>n</th><th scope=col>mean</th><th scope=col>sd</th><th scope=col>FBias</th><th scope=col>MAPE</th><th scope=col>RMSE</th><th scope=col>MAD</th><th scope=col>WMAPE</th></tr></thead>\n",
       "<tbody>\n",
       "\t<tr><td>Predictions in Arima with Slicing Window</td><td>14                                      </td><td>37042.31                                </td><td>2564.443                                </td><td>0.01833833                              </td><td>0.0180112                               </td><td>251.5747                                </td><td>689.417                                 </td><td>0.01861161                              </td></tr>\n",
       "</tbody>\n",
       "</table>\n"
      ],
      "text/latex": [
       "\\begin{tabular}{r|lllllllll}\n",
       " name & n & mean & sd & FBias & MAPE & RMSE & MAD & WMAPE\\\\\n",
       "\\hline\n",
       "\t Predictions in Arima with Slicing Window & 14                                       & 37042.31                                 & 2564.443                                 & 0.01833833                               & 0.0180112                                & 251.5747                                 & 689.417                                  & 0.01861161                              \\\\\n",
       "\\end{tabular}\n"
      ],
      "text/markdown": [
       "\n",
       "| name | n | mean | sd | FBias | MAPE | RMSE | MAD | WMAPE |\n",
       "|---|---|---|---|---|---|---|---|---|\n",
       "| Predictions in Arima with Slicing Window | 14                                       | 37042.31                                 | 2564.443                                 | 0.01833833                               | 0.0180112                                | 251.5747                                 | 689.417                                  | 0.01861161                               |\n",
       "\n"
      ],
      "text/plain": [
       "  name                                     n  mean     sd       FBias     \n",
       "1 Predictions in Arima with Slicing Window 14 37042.31 2564.443 0.01833833\n",
       "  MAPE      RMSE     MAD     WMAPE     \n",
       "1 0.0180112 251.5747 689.417 0.01861161"
      ]
     },
     "metadata": {},
     "output_type": "display_data"
    }
   ],
   "source": [
    "perf_dt(\"Predictions in Arima without Slicing Window\", res_dt$consumption, res_dt$forescated_not)\n",
    "perf_dt(\"Predictions in Arima with Slicing Window\", res_dt$consumption, res_dt$forecasted)"
   ]
  },
  {
   "cell_type": "markdown",
   "metadata": {},
   "source": [
    "It can be said that the slicing window makes a big difference in the performance of the prediction. In addition, its performance must be compared with other models to determine the competence of the model."
   ]
  },
  {
   "cell_type": "markdown",
   "metadata": {},
   "source": [
    "# General Performance Comparision"
   ]
  },
  {
   "cell_type": "code",
   "execution_count": 91,
   "metadata": {},
   "outputs": [
    {
     "data": {
      "text/html": [
       "<table>\n",
       "<thead><tr><th scope=col>name</th><th scope=col>n</th><th scope=col>mean</th><th scope=col>sd</th><th scope=col>FBias</th><th scope=col>MAPE</th><th scope=col>RMSE</th><th scope=col>MAD</th><th scope=col>WMAPE</th></tr></thead>\n",
       "<tbody>\n",
       "\t<tr><td>Predictions in AR(3) without Slicing Window</td><td>14                                         </td><td>37042.31                                   </td><td>2564.443                                   </td><td>0.05253227                                 </td><td>0.07609352                                 </td><td>906.1265                                   </td><td>2849.404                                   </td><td>0.07692294                                 </td></tr>\n",
       "</tbody>\n",
       "</table>\n"
      ],
      "text/latex": [
       "\\begin{tabular}{r|lllllllll}\n",
       " name & n & mean & sd & FBias & MAPE & RMSE & MAD & WMAPE\\\\\n",
       "\\hline\n",
       "\t Predictions in AR(3) without Slicing Window & 14                                          & 37042.31                                    & 2564.443                                    & 0.05253227                                  & 0.07609352                                  & 906.1265                                    & 2849.404                                    & 0.07692294                                 \\\\\n",
       "\\end{tabular}\n"
      ],
      "text/markdown": [
       "\n",
       "| name | n | mean | sd | FBias | MAPE | RMSE | MAD | WMAPE |\n",
       "|---|---|---|---|---|---|---|---|---|\n",
       "| Predictions in AR(3) without Slicing Window | 14                                          | 37042.31                                    | 2564.443                                    | 0.05253227                                  | 0.07609352                                  | 906.1265                                    | 2849.404                                    | 0.07692294                                  |\n",
       "\n"
      ],
      "text/plain": [
       "  name                                        n  mean     sd       FBias     \n",
       "1 Predictions in AR(3) without Slicing Window 14 37042.31 2564.443 0.05253227\n",
       "  MAPE       RMSE     MAD      WMAPE     \n",
       "1 0.07609352 906.1265 2849.404 0.07692294"
      ]
     },
     "metadata": {},
     "output_type": "display_data"
    },
    {
     "data": {
      "text/html": [
       "<table>\n",
       "<thead><tr><th scope=col>name</th><th scope=col>n</th><th scope=col>mean</th><th scope=col>sd</th><th scope=col>FBias</th><th scope=col>MAPE</th><th scope=col>RMSE</th><th scope=col>MAD</th><th scope=col>WMAPE</th></tr></thead>\n",
       "<tbody>\n",
       "\t<tr><td>Predictions in AR(3) with Slicing Window</td><td>14                                      </td><td>37042.31                                </td><td>2564.443                                </td><td>0.02513766                              </td><td>0.02456845                              </td><td>303.7469                                </td><td>931.1571                                </td><td>0.02513766                              </td></tr>\n",
       "</tbody>\n",
       "</table>\n"
      ],
      "text/latex": [
       "\\begin{tabular}{r|lllllllll}\n",
       " name & n & mean & sd & FBias & MAPE & RMSE & MAD & WMAPE\\\\\n",
       "\\hline\n",
       "\t Predictions in AR(3) with Slicing Window & 14                                       & 37042.31                                 & 2564.443                                 & 0.02513766                               & 0.02456845                               & 303.7469                                 & 931.1571                                 & 0.02513766                              \\\\\n",
       "\\end{tabular}\n"
      ],
      "text/markdown": [
       "\n",
       "| name | n | mean | sd | FBias | MAPE | RMSE | MAD | WMAPE |\n",
       "|---|---|---|---|---|---|---|---|---|\n",
       "| Predictions in AR(3) with Slicing Window | 14                                       | 37042.31                                 | 2564.443                                 | 0.02513766                               | 0.02456845                               | 303.7469                                 | 931.1571                                 | 0.02513766                               |\n",
       "\n"
      ],
      "text/plain": [
       "  name                                     n  mean     sd       FBias     \n",
       "1 Predictions in AR(3) with Slicing Window 14 37042.31 2564.443 0.02513766\n",
       "  MAPE       RMSE     MAD      WMAPE     \n",
       "1 0.02456845 303.7469 931.1571 0.02513766"
      ]
     },
     "metadata": {},
     "output_type": "display_data"
    },
    {
     "data": {
      "text/html": [
       "<table>\n",
       "<thead><tr><th scope=col>name</th><th scope=col>n</th><th scope=col>mean</th><th scope=col>sd</th><th scope=col>FBias</th><th scope=col>MAPE</th><th scope=col>RMSE</th><th scope=col>MAD</th><th scope=col>WMAPE</th></tr></thead>\n",
       "<tbody>\n",
       "\t<tr><td>Predictions in MA(3) without Slicing Window</td><td>14                                         </td><td>37042.31                                   </td><td>2564.443                                   </td><td>0.04669722                                 </td><td>0.07390236                                 </td><td>874.2522                                   </td><td>2756.771                                   </td><td>0.07442221                                 </td></tr>\n",
       "</tbody>\n",
       "</table>\n"
      ],
      "text/latex": [
       "\\begin{tabular}{r|lllllllll}\n",
       " name & n & mean & sd & FBias & MAPE & RMSE & MAD & WMAPE\\\\\n",
       "\\hline\n",
       "\t Predictions in MA(3) without Slicing Window & 14                                          & 37042.31                                    & 2564.443                                    & 0.04669722                                  & 0.07390236                                  & 874.2522                                    & 2756.771                                    & 0.07442221                                 \\\\\n",
       "\\end{tabular}\n"
      ],
      "text/markdown": [
       "\n",
       "| name | n | mean | sd | FBias | MAPE | RMSE | MAD | WMAPE |\n",
       "|---|---|---|---|---|---|---|---|---|\n",
       "| Predictions in MA(3) without Slicing Window | 14                                          | 37042.31                                    | 2564.443                                    | 0.04669722                                  | 0.07390236                                  | 874.2522                                    | 2756.771                                    | 0.07442221                                  |\n",
       "\n"
      ],
      "text/plain": [
       "  name                                        n  mean     sd       FBias     \n",
       "1 Predictions in MA(3) without Slicing Window 14 37042.31 2564.443 0.04669722\n",
       "  MAPE       RMSE     MAD      WMAPE     \n",
       "1 0.07390236 874.2522 2756.771 0.07442221"
      ]
     },
     "metadata": {},
     "output_type": "display_data"
    },
    {
     "data": {
      "text/html": [
       "<table>\n",
       "<thead><tr><th scope=col>name</th><th scope=col>n</th><th scope=col>mean</th><th scope=col>sd</th><th scope=col>FBias</th><th scope=col>MAPE</th><th scope=col>RMSE</th><th scope=col>MAD</th><th scope=col>WMAPE</th></tr></thead>\n",
       "<tbody>\n",
       "\t<tr><td>Predictions in MA(3) with Slicing Window</td><td>14                                      </td><td>37042.31                                </td><td>2564.443                                </td><td>0.01930261                              </td><td>0.01884176                              </td><td>258.5483                                </td><td>720.0334                                </td><td>0.01943813                              </td></tr>\n",
       "</tbody>\n",
       "</table>\n"
      ],
      "text/latex": [
       "\\begin{tabular}{r|lllllllll}\n",
       " name & n & mean & sd & FBias & MAPE & RMSE & MAD & WMAPE\\\\\n",
       "\\hline\n",
       "\t Predictions in MA(3) with Slicing Window & 14                                       & 37042.31                                 & 2564.443                                 & 0.01930261                               & 0.01884176                               & 258.5483                                 & 720.0334                                 & 0.01943813                              \\\\\n",
       "\\end{tabular}\n"
      ],
      "text/markdown": [
       "\n",
       "| name | n | mean | sd | FBias | MAPE | RMSE | MAD | WMAPE |\n",
       "|---|---|---|---|---|---|---|---|---|\n",
       "| Predictions in MA(3) with Slicing Window | 14                                       | 37042.31                                 | 2564.443                                 | 0.01930261                               | 0.01884176                               | 258.5483                                 | 720.0334                                 | 0.01943813                               |\n",
       "\n"
      ],
      "text/plain": [
       "  name                                     n  mean     sd       FBias     \n",
       "1 Predictions in MA(3) with Slicing Window 14 37042.31 2564.443 0.01930261\n",
       "  MAPE       RMSE     MAD      WMAPE     \n",
       "1 0.01884176 258.5483 720.0334 0.01943813"
      ]
     },
     "metadata": {},
     "output_type": "display_data"
    },
    {
     "data": {
      "text/html": [
       "<table>\n",
       "<thead><tr><th scope=col>name</th><th scope=col>n</th><th scope=col>mean</th><th scope=col>sd</th><th scope=col>FBias</th><th scope=col>MAPE</th><th scope=col>RMSE</th><th scope=col>MAD</th><th scope=col>WMAPE</th></tr></thead>\n",
       "<tbody>\n",
       "\t<tr><td>Predictions in Arima(3,0,2)(0,0,2)  without Slicing Window</td><td>14                                                        </td><td>37042.31                                                  </td><td>2564.443                                                  </td><td>0.04573294                                                </td><td>0.07354025                                                </td><td>869.2419                                                  </td><td>2741.462                                                  </td><td>0.07400894                                                </td></tr>\n",
       "</tbody>\n",
       "</table>\n"
      ],
      "text/latex": [
       "\\begin{tabular}{r|lllllllll}\n",
       " name & n & mean & sd & FBias & MAPE & RMSE & MAD & WMAPE\\\\\n",
       "\\hline\n",
       "\t Predictions in Arima(3,0,2)(0,0,2)  without Slicing Window & 14                                                         & 37042.31                                                   & 2564.443                                                   & 0.04573294                                                 & 0.07354025                                                 & 869.2419                                                   & 2741.462                                                   & 0.07400894                                                \\\\\n",
       "\\end{tabular}\n"
      ],
      "text/markdown": [
       "\n",
       "| name | n | mean | sd | FBias | MAPE | RMSE | MAD | WMAPE |\n",
       "|---|---|---|---|---|---|---|---|---|\n",
       "| Predictions in Arima(3,0,2)(0,0,2)  without Slicing Window | 14                                                         | 37042.31                                                   | 2564.443                                                   | 0.04573294                                                 | 0.07354025                                                 | 869.2419                                                   | 2741.462                                                   | 0.07400894                                                 |\n",
       "\n"
      ],
      "text/plain": [
       "  name                                                       n  mean    \n",
       "1 Predictions in Arima(3,0,2)(0,0,2)  without Slicing Window 14 37042.31\n",
       "  sd       FBias      MAPE       RMSE     MAD      WMAPE     \n",
       "1 2564.443 0.04573294 0.07354025 869.2419 2741.462 0.07400894"
      ]
     },
     "metadata": {},
     "output_type": "display_data"
    },
    {
     "data": {
      "text/html": [
       "<table>\n",
       "<thead><tr><th scope=col>name</th><th scope=col>n</th><th scope=col>mean</th><th scope=col>sd</th><th scope=col>FBias</th><th scope=col>MAPE</th><th scope=col>RMSE</th><th scope=col>MAD</th><th scope=col>WMAPE</th></tr></thead>\n",
       "<tbody>\n",
       "\t<tr><td>Predictions in Arima(3,0,2)(0,0,2)  with Slicing Window</td><td>14                                                     </td><td>37042.31                                               </td><td>2564.443                                               </td><td>0.01833833                                             </td><td>0.0180112                                              </td><td>251.5747                                               </td><td>689.417                                                </td><td>0.01861161                                             </td></tr>\n",
       "</tbody>\n",
       "</table>\n"
      ],
      "text/latex": [
       "\\begin{tabular}{r|lllllllll}\n",
       " name & n & mean & sd & FBias & MAPE & RMSE & MAD & WMAPE\\\\\n",
       "\\hline\n",
       "\t Predictions in Arima(3,0,2)(0,0,2)  with Slicing Window & 14                                                      & 37042.31                                                & 2564.443                                                & 0.01833833                                              & 0.0180112                                               & 251.5747                                                & 689.417                                                 & 0.01861161                                             \\\\\n",
       "\\end{tabular}\n"
      ],
      "text/markdown": [
       "\n",
       "| name | n | mean | sd | FBias | MAPE | RMSE | MAD | WMAPE |\n",
       "|---|---|---|---|---|---|---|---|---|\n",
       "| Predictions in Arima(3,0,2)(0,0,2)  with Slicing Window | 14                                                      | 37042.31                                                | 2564.443                                                | 0.01833833                                              | 0.0180112                                               | 251.5747                                                | 689.417                                                 | 0.01861161                                              |\n",
       "\n"
      ],
      "text/plain": [
       "  name                                                    n  mean     sd      \n",
       "1 Predictions in Arima(3,0,2)(0,0,2)  with Slicing Window 14 37042.31 2564.443\n",
       "  FBias      MAPE      RMSE     MAD     WMAPE     \n",
       "1 0.01833833 0.0180112 251.5747 689.417 0.01861161"
      ]
     },
     "metadata": {},
     "output_type": "display_data"
    }
   ],
   "source": [
    "perf_dt(\"Predictions in AR(3) without Slicing Window\", res_dt_ar3$consumption, res_dt_ar3$forescated_not)\n",
    "perf_dt(\"Predictions in AR(3) with Slicing Window\", res_dt_ar3$consumption, res_dt_ar3$forecasted)\n",
    "perf_dt(\"Predictions in MA(3) without Slicing Window\", res_dt_ma3$consumption, res_dt_ma3$forescated_not)\n",
    "perf_dt(\"Predictions in MA(3) with Slicing Window\", res_dt_ma3$consumption, res_dt_ma3$forecasted)\n",
    "perf_dt(\"Predictions in Arima(3,0,2)(0,0,2)  without Slicing Window\", res_dt$consumption, res_dt$forescated_not)\n",
    "perf_dt(\"Predictions in Arima(3,0,2)(0,0,2)  with Slicing Window\", res_dt$consumption, res_dt$forecasted)"
   ]
  },
  {
   "cell_type": "markdown",
   "metadata": {},
   "source": [
    "The best model is the last model. This fact can be obtained in different ways. One of them AIC value of the models, which is very beneficial because all the models use the same train input to create the model. The lowest AIC value obtained in the ARIMA model with (3,0,2)(0,0,2) parameters. In addition, ARIMA model gave the best performance measures in all the metrics. Namely, daily bias, daily mean absolute percentage error, weighted mean absolute percentage error are the smallest in the ARIMA(3,0,2)(0,0,2) model. This fact exists for both the slicing windows method and not-slicing windows method, which is also a good indicator for being the best among the other models. "
   ]
  },
  {
   "cell_type": "markdown",
   "metadata": {},
   "source": [
    "# Conclusion"
   ]
  },
  {
   "cell_type": "markdown",
   "metadata": {},
   "source": [
    "Removing the outliers before creating a time-series model is very critical. This fact can be understood by looking at the decomposed version of the input. In addition, acf() and pacf() very beneficial tools for understanding the time-series model can be useful for creating the model, but also determining how many parameters must be included to model. After all, adjustments in the created model can be made by looking at the acf() and pacf() plots of the residual of the models.\n",
    "\n",
    "In terms of method comparison, slicing windows is more reasonable for time-series models because the trend can be adjusted to the last trend in the sliding window technique. Moreover, the number of head in function will determine how many predictions will be made with predicted values, so keeping this number as possible as small will enable the model to rely on the real values. This situation's effects were perceived in all the models' predictions."
   ]
  },
  {
   "cell_type": "code",
   "execution_count": null,
   "metadata": {},
   "outputs": [],
   "source": []
  }
 ],
 "metadata": {
  "kernelspec": {
   "display_name": "R",
   "language": "R",
   "name": "ir"
  },
  "language_info": {
   "codemirror_mode": "r",
   "file_extension": ".r",
   "mimetype": "text/x-r-source",
   "name": "R",
   "pygments_lexer": "r",
   "version": "3.6.1"
  }
 },
 "nbformat": 4,
 "nbformat_minor": 4
}
